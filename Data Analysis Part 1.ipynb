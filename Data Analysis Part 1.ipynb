{
 "cells": [
  {
   "cell_type": "markdown",
   "metadata": {},
   "source": [
    "# 0. Question & Assumptions\n",
    "### Is there a relationship between the types of MetroCards swiped at a station and the surrounding neighborhoods' demographics (income)?\n",
    "### Is there a change in types of MetroCards swiped before and after price hikes?\n",
    "\n",
    "### Assumptions\n",
    "- Accounts for only 3 types of MetroCards: Full Fare, 7-D Unlimited, 30-D Unlimited (accounts for over 85% of data)\n",
    "- Assumes swipes at a station are coming from people who live in the surrounding area. If there were ways to filter the information (e.g. only weekday mornings), this would be more accurate.\n",
    "- Please install uszipcode module using the following command before running notebook:"
   ]
  },
  {
   "cell_type": "markdown",
   "metadata": {},
   "source": [
    "# 1. DataFrame 1a - Station & Fare Type\n",
    "Example of Cleaning Data: Load MTA Fare Data - Week of 10/08/2016 (for demo purposes)"
   ]
  },
  {
   "cell_type": "code",
   "execution_count": 1,
   "metadata": {
    "collapsed": true
   },
   "outputs": [],
   "source": [
    "import pandas as pd\n",
    "import thinkplot\n",
    "import thinkstats2\n",
    "%matplotlib inline"
   ]
  },
  {
   "cell_type": "code",
   "execution_count": 2,
   "metadata": {
    "collapsed": false
   },
   "outputs": [
    {
     "data": {
      "text/html": [
       "<div>\n",
       "<table border=\"1\" class=\"dataframe\">\n",
       "  <thead>\n",
       "    <tr style=\"text-align: right;\">\n",
       "      <th></th>\n",
       "      <th></th>\n",
       "      <th>FARECARD USAGE BY STATION FOR DATE RANGE:</th>\n",
       "      <th>Unnamed: 2</th>\n",
       "      <th>Unnamed: 3</th>\n",
       "      <th>Unnamed: 4</th>\n",
       "      <th>Unnamed: 5</th>\n",
       "      <th>Unnamed: 6</th>\n",
       "      <th>Unnamed: 7</th>\n",
       "      <th>Unnamed: 8</th>\n",
       "      <th>Unnamed: 9</th>\n",
       "      <th>...</th>\n",
       "      <th>Unnamed: 16</th>\n",
       "      <th>Unnamed: 17</th>\n",
       "      <th>Unnamed: 18</th>\n",
       "      <th>Unnamed: 19</th>\n",
       "      <th>Unnamed: 20</th>\n",
       "      <th>Unnamed: 21</th>\n",
       "      <th>Unnamed: 22</th>\n",
       "      <th>Unnamed: 23</th>\n",
       "      <th>Unnamed: 24</th>\n",
       "      <th></th>\n",
       "    </tr>\n",
       "  </thead>\n",
       "  <tbody>\n",
       "    <tr>\n",
       "      <th>0</th>\n",
       "      <td></td>\n",
       "      <td>09/24/2016-09/30/2016</td>\n",
       "      <td>NaN</td>\n",
       "      <td>NaN</td>\n",
       "      <td>NaN</td>\n",
       "      <td>NaN</td>\n",
       "      <td>NaN</td>\n",
       "      <td>NaN</td>\n",
       "      <td>NaN</td>\n",
       "      <td>NaN</td>\n",
       "      <td>...</td>\n",
       "      <td>NaN</td>\n",
       "      <td>NaN</td>\n",
       "      <td>NaN</td>\n",
       "      <td>NaN</td>\n",
       "      <td>NaN</td>\n",
       "      <td>NaN</td>\n",
       "      <td>NaN</td>\n",
       "      <td>NaN</td>\n",
       "      <td>NaN</td>\n",
       "      <td>...</td>\n",
       "    </tr>\n",
       "    <tr>\n",
       "      <th>1</th>\n",
       "      <td>REMOTE</td>\n",
       "      <td>STATION</td>\n",
       "      <td>FF</td>\n",
       "      <td>SEN/DIS</td>\n",
       "      <td>7-D AFAS UNL</td>\n",
       "      <td>30-D AFAS/RMF UNL</td>\n",
       "      <td>JOINT RR TKT</td>\n",
       "      <td>7-D UNL</td>\n",
       "      <td>30-D UNL</td>\n",
       "      <td>14-D RFM UNL</td>\n",
       "      <td>...</td>\n",
       "      <td>TCMC ANNUAL MC</td>\n",
       "      <td>MR EZPAY EXP</td>\n",
       "      <td>MR EZPAY UNL</td>\n",
       "      <td>PATH 2-T</td>\n",
       "      <td>AIRTRAIN FF</td>\n",
       "      <td>AIRTRAIN 30-D</td>\n",
       "      <td>AIRTRAIN 10-T</td>\n",
       "      <td>AIRTRAIN MTHLY</td>\n",
       "      <td>STUDENTS</td>\n",
       "      <td>...</td>\n",
       "    </tr>\n",
       "    <tr>\n",
       "      <th>2</th>\n",
       "      <td>R001</td>\n",
       "      <td>WHITEHALL STREET</td>\n",
       "      <td>00061962</td>\n",
       "      <td>00002733</td>\n",
       "      <td>00000368</td>\n",
       "      <td>00001058</td>\n",
       "      <td>00000253</td>\n",
       "      <td>00030913</td>\n",
       "      <td>00036403</td>\n",
       "      <td>00000000</td>\n",
       "      <td>...</td>\n",
       "      <td>00004795</td>\n",
       "      <td>00001734</td>\n",
       "      <td>00000599</td>\n",
       "      <td>00000000</td>\n",
       "      <td>00001501</td>\n",
       "      <td>00000000</td>\n",
       "      <td>00000000</td>\n",
       "      <td>00000000</td>\n",
       "      <td>00002914</td>\n",
       "      <td>...</td>\n",
       "    </tr>\n",
       "    <tr>\n",
       "      <th>3</th>\n",
       "      <td>R003</td>\n",
       "      <td>CYPRESS HILLS</td>\n",
       "      <td>00003150</td>\n",
       "      <td>00000185</td>\n",
       "      <td>00000022</td>\n",
       "      <td>00000051</td>\n",
       "      <td>00000004</td>\n",
       "      <td>00002829</td>\n",
       "      <td>00001490</td>\n",
       "      <td>00000000</td>\n",
       "      <td>...</td>\n",
       "      <td>00000132</td>\n",
       "      <td>00000019</td>\n",
       "      <td>00000013</td>\n",
       "      <td>00000000</td>\n",
       "      <td>00000036</td>\n",
       "      <td>00000000</td>\n",
       "      <td>00000000</td>\n",
       "      <td>00000000</td>\n",
       "      <td>00000856</td>\n",
       "      <td>...</td>\n",
       "    </tr>\n",
       "    <tr>\n",
       "      <th>4</th>\n",
       "      <td>R004</td>\n",
       "      <td>75TH STREET &amp; ELDERTS LANE</td>\n",
       "      <td>00008190</td>\n",
       "      <td>00000482</td>\n",
       "      <td>00000042</td>\n",
       "      <td>00000132</td>\n",
       "      <td>00000004</td>\n",
       "      <td>00006193</td>\n",
       "      <td>00004581</td>\n",
       "      <td>00000000</td>\n",
       "      <td>...</td>\n",
       "      <td>00000315</td>\n",
       "      <td>00000044</td>\n",
       "      <td>00000056</td>\n",
       "      <td>00000000</td>\n",
       "      <td>00000113</td>\n",
       "      <td>00000000</td>\n",
       "      <td>00000000</td>\n",
       "      <td>00000000</td>\n",
       "      <td>00003966</td>\n",
       "      <td>...</td>\n",
       "    </tr>\n",
       "  </tbody>\n",
       "</table>\n",
       "<p>5 rows × 26 columns</p>\n",
       "</div>"
      ],
      "text/plain": [
       "          FARECARD USAGE BY STATION FOR DATE RANGE:  Unnamed: 2 Unnamed: 3  \\\n",
       "0                              09/24/2016-09/30/2016        NaN        NaN   \n",
       "1  REMOTE                                    STATION         FF    SEN/DIS   \n",
       "2    R001             WHITEHALL STREET                 00061962   00002733   \n",
       "3    R003             CYPRESS HILLS                    00003150   00000185   \n",
       "4    R004             75TH STREET & ELDERTS LANE       00008190   00000482   \n",
       "\n",
       "      Unnamed: 4         Unnamed: 5    Unnamed: 6 Unnamed: 7 Unnamed: 8  \\\n",
       "0            NaN                NaN           NaN        NaN        NaN   \n",
       "1   7-D AFAS UNL  30-D AFAS/RMF UNL  JOINT RR TKT    7-D UNL   30-D UNL   \n",
       "2       00000368           00001058      00000253   00030913   00036403   \n",
       "3       00000022           00000051      00000004   00002829   00001490   \n",
       "4       00000042           00000132      00000004   00006193   00004581   \n",
       "\n",
       "     Unnamed: 9  \\\n",
       "0           NaN   \n",
       "1  14-D RFM UNL   \n",
       "2      00000000   \n",
       "3      00000000   \n",
       "4      00000000   \n",
       "\n",
       "                                                                                                                                                     ...                                                                                                                                                      \\\n",
       "0                                                                                                                                                    ...                                                                                                                                                       \n",
       "1                                                                                                                                                    ...                                                                                                                                                       \n",
       "2                                                                                                                                                    ...                                                                                                                                                       \n",
       "3                                                                                                                                                    ...                                                                                                                                                       \n",
       "4                                                                                                                                                    ...                                                                                                                                                       \n",
       "\n",
       "      Unnamed: 16   Unnamed: 17   Unnamed: 18 Unnamed: 19  Unnamed: 20  \\\n",
       "0             NaN           NaN           NaN         NaN          NaN   \n",
       "1  TCMC ANNUAL MC  MR EZPAY EXP  MR EZPAY UNL    PATH 2-T  AIRTRAIN FF   \n",
       "2        00004795      00001734      00000599    00000000     00001501   \n",
       "3        00000132      00000019      00000013    00000000     00000036   \n",
       "4        00000315      00000044      00000056    00000000     00000113   \n",
       "\n",
       "     Unnamed: 21    Unnamed: 22     Unnamed: 23 Unnamed: 24  \\\n",
       "0            NaN            NaN             NaN         NaN   \n",
       "1  AIRTRAIN 30-D  AIRTRAIN 10-T  AIRTRAIN MTHLY    STUDENTS   \n",
       "2       00000000       00000000        00000000    00002914   \n",
       "3       00000000       00000000        00000000    00000856   \n",
       "4       00000000       00000000        00000000    00003966   \n",
       "\n",
       "                                                                                                                                                                                                                                                                                                              \n",
       "0                                                ...                                                                                                                                                                                                                                                          \n",
       "1                                                ...                                                                                                                                                                                                                                                          \n",
       "2                                                ...                                                                                                                                                                                                                                                          \n",
       "3                                                ...                                                                                                                                                                                                                                                          \n",
       "4                                                ...                                                                                                                                                                                                                                                          \n",
       "\n",
       "[5 rows x 26 columns]"
      ]
     },
     "execution_count": 2,
     "metadata": {},
     "output_type": "execute_result"
    }
   ],
   "source": [
    "url = 'http://web.mta.info/developers/data/nyct/fares/fares_161008.csv'\n",
    "df = pd.read_csv(url)\n",
    "df.head()"
   ]
  },
  {
   "cell_type": "markdown",
   "metadata": {},
   "source": [
    "## Cleaning Data\n",
    "### Renaming incorrect column labels & removing columns\n",
    "Correct values are in row 1. Remove column 25 because it contains no data."
   ]
  },
  {
   "cell_type": "code",
   "execution_count": 3,
   "metadata": {
    "collapsed": false
   },
   "outputs": [
    {
     "name": "stdout",
     "output_type": "stream",
     "text": [
      "Index(['     ', 'FARECARD USAGE BY STATION FOR DATE RANGE: ', 'Unnamed: 2',\n",
      "       'Unnamed: 3', 'Unnamed: 4', 'Unnamed: 5', 'Unnamed: 6', 'Unnamed: 7',\n",
      "       'Unnamed: 8', 'Unnamed: 9', 'Unnamed: 10', 'Unnamed: 11', 'Unnamed: 12',\n",
      "       'Unnamed: 13', 'Unnamed: 14', 'Unnamed: 15', 'Unnamed: 16',\n",
      "       'Unnamed: 17', 'Unnamed: 18', 'Unnamed: 19', 'Unnamed: 20',\n",
      "       'Unnamed: 21', 'Unnamed: 22', 'Unnamed: 23', 'Unnamed: 24',\n",
      "       '                                                                                                                                                                                                                                                                                                          '],\n",
      "      dtype='object')\n"
     ]
    }
   ],
   "source": [
    "print(df.columns)\n",
    "df = df.drop(df.columns[25], axis=1)"
   ]
  },
  {
   "cell_type": "code",
   "execution_count": 4,
   "metadata": {
    "collapsed": false
   },
   "outputs": [
    {
     "data": {
      "text/html": [
       "<div>\n",
       "<table border=\"1\" class=\"dataframe\">\n",
       "  <thead>\n",
       "    <tr style=\"text-align: right;\">\n",
       "      <th>1</th>\n",
       "      <th>REMOTE</th>\n",
       "      <th>STATION</th>\n",
       "      <th>FF</th>\n",
       "      <th>SEN/DIS</th>\n",
       "      <th>7-D AFAS UNL</th>\n",
       "      <th>30-D AFAS/RMF UNL</th>\n",
       "      <th>JOINT RR TKT</th>\n",
       "      <th>7-D UNL</th>\n",
       "      <th>30-D UNL</th>\n",
       "      <th>14-D RFM UNL</th>\n",
       "      <th>...</th>\n",
       "      <th>RR UNL NO TRADE</th>\n",
       "      <th>TCMC ANNUAL MC</th>\n",
       "      <th>MR EZPAY EXP</th>\n",
       "      <th>MR EZPAY UNL</th>\n",
       "      <th>PATH 2-T</th>\n",
       "      <th>AIRTRAIN FF</th>\n",
       "      <th>AIRTRAIN 30-D</th>\n",
       "      <th>AIRTRAIN 10-T</th>\n",
       "      <th>AIRTRAIN MTHLY</th>\n",
       "      <th>STUDENTS</th>\n",
       "    </tr>\n",
       "  </thead>\n",
       "  <tbody>\n",
       "    <tr>\n",
       "      <th>2</th>\n",
       "      <td>R001</td>\n",
       "      <td>WHITEHALL STREET</td>\n",
       "      <td>00061962</td>\n",
       "      <td>00002733</td>\n",
       "      <td>00000368</td>\n",
       "      <td>00001058</td>\n",
       "      <td>00000253</td>\n",
       "      <td>00030913</td>\n",
       "      <td>00036403</td>\n",
       "      <td>00000000</td>\n",
       "      <td>...</td>\n",
       "      <td>00000572</td>\n",
       "      <td>00004795</td>\n",
       "      <td>00001734</td>\n",
       "      <td>00000599</td>\n",
       "      <td>00000000</td>\n",
       "      <td>00001501</td>\n",
       "      <td>00000000</td>\n",
       "      <td>00000000</td>\n",
       "      <td>00000000</td>\n",
       "      <td>00002914</td>\n",
       "    </tr>\n",
       "    <tr>\n",
       "      <th>3</th>\n",
       "      <td>R003</td>\n",
       "      <td>CYPRESS HILLS</td>\n",
       "      <td>00003150</td>\n",
       "      <td>00000185</td>\n",
       "      <td>00000022</td>\n",
       "      <td>00000051</td>\n",
       "      <td>00000004</td>\n",
       "      <td>00002829</td>\n",
       "      <td>00001490</td>\n",
       "      <td>00000000</td>\n",
       "      <td>...</td>\n",
       "      <td>00000007</td>\n",
       "      <td>00000132</td>\n",
       "      <td>00000019</td>\n",
       "      <td>00000013</td>\n",
       "      <td>00000000</td>\n",
       "      <td>00000036</td>\n",
       "      <td>00000000</td>\n",
       "      <td>00000000</td>\n",
       "      <td>00000000</td>\n",
       "      <td>00000856</td>\n",
       "    </tr>\n",
       "    <tr>\n",
       "      <th>4</th>\n",
       "      <td>R004</td>\n",
       "      <td>75TH STREET &amp; ELDERTS LANE</td>\n",
       "      <td>00008190</td>\n",
       "      <td>00000482</td>\n",
       "      <td>00000042</td>\n",
       "      <td>00000132</td>\n",
       "      <td>00000004</td>\n",
       "      <td>00006193</td>\n",
       "      <td>00004581</td>\n",
       "      <td>00000000</td>\n",
       "      <td>...</td>\n",
       "      <td>00000002</td>\n",
       "      <td>00000315</td>\n",
       "      <td>00000044</td>\n",
       "      <td>00000056</td>\n",
       "      <td>00000000</td>\n",
       "      <td>00000113</td>\n",
       "      <td>00000000</td>\n",
       "      <td>00000000</td>\n",
       "      <td>00000000</td>\n",
       "      <td>00003966</td>\n",
       "    </tr>\n",
       "    <tr>\n",
       "      <th>5</th>\n",
       "      <td>R005</td>\n",
       "      <td>85TH STREET &amp; FOREST PKWAY</td>\n",
       "      <td>00009103</td>\n",
       "      <td>00000629</td>\n",
       "      <td>00000040</td>\n",
       "      <td>00000183</td>\n",
       "      <td>00000001</td>\n",
       "      <td>00006517</td>\n",
       "      <td>00005681</td>\n",
       "      <td>00000000</td>\n",
       "      <td>...</td>\n",
       "      <td>00000000</td>\n",
       "      <td>00000376</td>\n",
       "      <td>00000063</td>\n",
       "      <td>00000081</td>\n",
       "      <td>00000000</td>\n",
       "      <td>00000101</td>\n",
       "      <td>00000000</td>\n",
       "      <td>00000000</td>\n",
       "      <td>00000000</td>\n",
       "      <td>00001814</td>\n",
       "    </tr>\n",
       "    <tr>\n",
       "      <th>6</th>\n",
       "      <td>R006</td>\n",
       "      <td>WOODHAVEN BOULEVARD</td>\n",
       "      <td>00008973</td>\n",
       "      <td>00000600</td>\n",
       "      <td>00000082</td>\n",
       "      <td>00000228</td>\n",
       "      <td>00000001</td>\n",
       "      <td>00008835</td>\n",
       "      <td>00006359</td>\n",
       "      <td>00000000</td>\n",
       "      <td>...</td>\n",
       "      <td>00000009</td>\n",
       "      <td>00000423</td>\n",
       "      <td>00000092</td>\n",
       "      <td>00000071</td>\n",
       "      <td>00000000</td>\n",
       "      <td>00000075</td>\n",
       "      <td>00000000</td>\n",
       "      <td>00000000</td>\n",
       "      <td>00000000</td>\n",
       "      <td>00001815</td>\n",
       "    </tr>\n",
       "  </tbody>\n",
       "</table>\n",
       "<p>5 rows × 25 columns</p>\n",
       "</div>"
      ],
      "text/plain": [
       "1 REMOTE                         STATION        FF   SEN/DIS  7-D AFAS UNL  \\\n",
       "2   R001  WHITEHALL STREET                00061962  00002733      00000368   \n",
       "3   R003  CYPRESS HILLS                   00003150  00000185      00000022   \n",
       "4   R004  75TH STREET & ELDERTS LANE      00008190  00000482      00000042   \n",
       "5   R005  85TH STREET & FOREST PKWAY      00009103  00000629      00000040   \n",
       "6   R006  WOODHAVEN BOULEVARD             00008973  00000600      00000082   \n",
       "\n",
       "1 30-D AFAS/RMF UNL JOINT RR TKT   7-D UNL  30-D UNL 14-D RFM UNL    ...     \\\n",
       "2          00001058     00000253  00030913  00036403     00000000    ...      \n",
       "3          00000051     00000004  00002829  00001490     00000000    ...      \n",
       "4          00000132     00000004  00006193  00004581     00000000    ...      \n",
       "5          00000183     00000001  00006517  00005681     00000000    ...      \n",
       "6          00000228     00000001  00008835  00006359     00000000    ...      \n",
       "\n",
       "1 RR UNL NO TRADE TCMC ANNUAL MC MR EZPAY EXP MR EZPAY UNL  PATH 2-T  \\\n",
       "2        00000572       00004795     00001734     00000599  00000000   \n",
       "3        00000007       00000132     00000019     00000013  00000000   \n",
       "4        00000002       00000315     00000044     00000056  00000000   \n",
       "5        00000000       00000376     00000063     00000081  00000000   \n",
       "6        00000009       00000423     00000092     00000071  00000000   \n",
       "\n",
       "1 AIRTRAIN FF AIRTRAIN 30-D AIRTRAIN 10-T AIRTRAIN MTHLY  STUDENTS  \n",
       "2    00001501      00000000      00000000       00000000  00002914  \n",
       "3    00000036      00000000      00000000       00000000  00000856  \n",
       "4    00000113      00000000      00000000       00000000  00003966  \n",
       "5    00000101      00000000      00000000       00000000  00001814  \n",
       "6    00000075      00000000      00000000       00000000  00001815  \n",
       "\n",
       "[5 rows x 25 columns]"
      ]
     },
     "execution_count": 4,
     "metadata": {},
     "output_type": "execute_result"
    }
   ],
   "source": [
    "correct_column_values = df.iloc[1] # Row 1\n",
    "df = df.drop(df.index[[0, 1]]) # Drop rows (old labels)\n",
    "df.columns = correct_column_values\n",
    "df.head()"
   ]
  },
  {
   "cell_type": "markdown",
   "metadata": {},
   "source": [
    "### Removing whitespace in data\n",
    "Notice whitespace in column labels and station names - trim these."
   ]
  },
  {
   "cell_type": "code",
   "execution_count": 5,
   "metadata": {
    "collapsed": false
   },
   "outputs": [
    {
     "data": {
      "text/plain": [
       "Index(['REMOTE', ' STATION', 'FF', 'SEN/DIS', ' 7-D AFAS UNL',\n",
       "       '30-D AFAS/RMF UNL', 'JOINT RR TKT', '7-D UNL', '30-D UNL',\n",
       "       '14-D RFM UNL', '1-D UNL', '14-D UNL', '7D-XBUS PASS', 'TCMC',\n",
       "       'RF 2 TRIP', 'RR UNL NO TRADE', 'TCMC ANNUAL MC', 'MR EZPAY EXP',\n",
       "       'MR EZPAY UNL', 'PATH 2-T', 'AIRTRAIN FF', 'AIRTRAIN 30-D',\n",
       "       'AIRTRAIN 10-T', 'AIRTRAIN MTHLY', 'STUDENTS'],\n",
       "      dtype='object', name=1)"
      ]
     },
     "execution_count": 5,
     "metadata": {},
     "output_type": "execute_result"
    }
   ],
   "source": [
    "df.columns"
   ]
  },
  {
   "cell_type": "code",
   "execution_count": 6,
   "metadata": {
    "collapsed": false
   },
   "outputs": [
    {
     "data": {
      "text/plain": [
       "Index(['REMOTE', 'STATION', 'FF', 'SEN/DIS', '7-D AFAS UNL',\n",
       "       '30-D AFAS/RMF UNL', 'JOINT RR TKT', '7-D UNL', '30-D UNL',\n",
       "       '14-D RFM UNL', '1-D UNL', '14-D UNL', '7D-XBUS PASS', 'TCMC',\n",
       "       'RF 2 TRIP', 'RR UNL NO TRADE', 'TCMC ANNUAL MC', 'MR EZPAY EXP',\n",
       "       'MR EZPAY UNL', 'PATH 2-T', 'AIRTRAIN FF', 'AIRTRAIN 30-D',\n",
       "       'AIRTRAIN 10-T', 'AIRTRAIN MTHLY', 'STUDENTS'],\n",
       "      dtype='object', name=1)"
      ]
     },
     "execution_count": 6,
     "metadata": {},
     "output_type": "execute_result"
    }
   ],
   "source": [
    "df.rename(columns=lambda s : s.strip(), inplace=True)\n",
    "df.columns"
   ]
  },
  {
   "cell_type": "code",
   "execution_count": 7,
   "metadata": {
    "collapsed": false
   },
   "outputs": [
    {
     "data": {
      "text/plain": [
       "2                 WHITEHALL STREET\n",
       "3                    CYPRESS HILLS\n",
       "4       75TH STREET & ELDERTS LANE\n",
       "5       85TH STREET & FOREST PKWAY\n",
       "6              WOODHAVEN BOULEVARD\n",
       "7                     104TH STREET\n",
       "8                     111TH STREET\n",
       "9                     121ST STREET\n",
       "10        42ND STREET & 8TH AVENUE\n",
       "11        42ND STREET & 8TH AVENUE\n",
       "12        34TH STREET & 8TH AVENUE\n",
       "13        34TH STREET & 8TH AVENUE\n",
       "14                   FULTON STREET\n",
       "15                    FIFTH AVENUE\n",
       "16                LEXINGTON AVENUE\n",
       "17                LEXINGTON AVENUE\n",
       "18       ROOSEVELT AVE/JACKSON HTS\n",
       "19     179TH STREET & HILLSIDE AVE\n",
       "20       47-50 STREETS/ROCKEFELLER\n",
       "21        42ND STREET & 6TH AVENUE\n",
       "22        34TH STREET & 6TH AVENUE\n",
       "23        34TH STREET & 6TH AVENUE\n",
       "24               SUTPHIN BOULEVARD\n",
       "25     JAMAICA CENTER-PARSONS BLVD\n",
       "26                     WALL STREET\n",
       "27        FULTON & WILLIAM STREETS\n",
       "28                      PARK PLACE\n",
       "29                 CHAMBERS STREET\n",
       "30        34TH STREET & 7TH AVENUE\n",
       "31        42ND STREET/TIMES SQUARE\n",
       "                  ...             \n",
       "438    EAST 149TH ST-SOUTHERN BLVD\n",
       "439     LONGWOOD AVE-SOUTHERN BLVD\n",
       "440       WINTHROP ST-NOSTRAND AVE\n",
       "441         72ND STREET & BROADWAY\n",
       "442         23RD STREET-6TH AVENUE\n",
       "443           PROSPECT AVE-4TH AVE\n",
       "444         25TH STREET-4TH AVENUE\n",
       "445      HOYT STREET-FULTON STREET\n",
       "446          MARCY AVENUE-BROADWAY\n",
       "447    BROADWAY LAFAYETTE-BLEECKER\n",
       "448          CANAL STREET-BROADWAY\n",
       "449     CANAL ST-LAFAYETTE ST EAST\n",
       "450            AQUEDUCT RACE TRACK\n",
       "451         RI TRAMWAY (MANHATTAN)\n",
       "452         RI TRAMWAY (ROOSEVELT)\n",
       "453        AIRTRAIN @ HOWARD BEACH\n",
       "454      AIRTRAIN JAMAICA CENTER 1\n",
       "455       PA-PATH WORLD TRADE CNTR\n",
       "456        PA-PATH THIRTY THIRD ST\n",
       "457        PA-PATH TWENTY THIRD ST\n",
       "458         PA-PATH EXCHANGE PLACE\n",
       "459               PA-PATH HARRISON\n",
       "460            PA-PATH 14TH STREET\n",
       "461        PA-PATH PAVONIA/NEWPORT\n",
       "462             PA-PATH 9TH STREET\n",
       "463         PA-PATH CHRISTOPHER ST\n",
       "464                 PA-PATH NEWARK\n",
       "465                PA-PATH HOBOKEN\n",
       "466               PA-PATH GROVE ST\n",
       "467         PA-PATH JOURNAL SQUARE\n",
       "Name: STATION, dtype: object"
      ]
     },
     "execution_count": 7,
     "metadata": {},
     "output_type": "execute_result"
    }
   ],
   "source": [
    "df['STATION'].str.strip()"
   ]
  },
  {
   "cell_type": "markdown",
   "metadata": {},
   "source": [
    "### Reindexing the DataFrame\n",
    "The remote code will help us map this DataFrame to the DataFrame with location and demographic information."
   ]
  },
  {
   "cell_type": "code",
   "execution_count": 8,
   "metadata": {
    "collapsed": false
   },
   "outputs": [],
   "source": [
    "df.set_index('REMOTE', inplace=True)"
   ]
  },
  {
   "cell_type": "markdown",
   "metadata": {},
   "source": [
    "### Removing irrelevant rows\n",
    "Remove AirTrain, PATH stations and Staten Island Railway stations."
   ]
  },
  {
   "cell_type": "code",
   "execution_count": 9,
   "metadata": {
    "collapsed": false
   },
   "outputs": [],
   "source": [
    "df = df.drop(df.tail(15).index) # AirTrain and PATH stations are last 15 entries\n",
    "df = df.drop(['R070', 'R165']) # Staten Island Railway stations"
   ]
  },
  {
   "cell_type": "markdown",
   "metadata": {},
   "source": [
    "### Changing type of series\n",
    "Values in the DataFrame appear numeric but are actually strings so change to int where appropriate."
   ]
  },
  {
   "cell_type": "code",
   "execution_count": 10,
   "metadata": {
    "collapsed": false
   },
   "outputs": [
    {
     "name": "stdout",
     "output_type": "stream",
     "text": [
      "00030913\n"
     ]
    },
    {
     "data": {
      "text/plain": [
       "str"
      ]
     },
     "execution_count": 10,
     "metadata": {},
     "output_type": "execute_result"
    }
   ],
   "source": [
    "x = df.iloc[0]['7-D UNL']\n",
    "print(x)\n",
    "type(x)"
   ]
  },
  {
   "cell_type": "code",
   "execution_count": 11,
   "metadata": {
    "collapsed": false
   },
   "outputs": [
    {
     "data": {
      "text/html": [
       "<div>\n",
       "<table border=\"1\" class=\"dataframe\">\n",
       "  <thead>\n",
       "    <tr style=\"text-align: right;\">\n",
       "      <th>1</th>\n",
       "      <th>STATION</th>\n",
       "      <th>FF</th>\n",
       "      <th>SEN/DIS</th>\n",
       "      <th>7-D AFAS UNL</th>\n",
       "      <th>30-D AFAS/RMF UNL</th>\n",
       "      <th>JOINT RR TKT</th>\n",
       "      <th>7-D UNL</th>\n",
       "      <th>30-D UNL</th>\n",
       "      <th>14-D RFM UNL</th>\n",
       "      <th>1-D UNL</th>\n",
       "      <th>...</th>\n",
       "      <th>RR UNL NO TRADE</th>\n",
       "      <th>TCMC ANNUAL MC</th>\n",
       "      <th>MR EZPAY EXP</th>\n",
       "      <th>MR EZPAY UNL</th>\n",
       "      <th>PATH 2-T</th>\n",
       "      <th>AIRTRAIN FF</th>\n",
       "      <th>AIRTRAIN 30-D</th>\n",
       "      <th>AIRTRAIN 10-T</th>\n",
       "      <th>AIRTRAIN MTHLY</th>\n",
       "      <th>STUDENTS</th>\n",
       "    </tr>\n",
       "    <tr>\n",
       "      <th>REMOTE</th>\n",
       "      <th></th>\n",
       "      <th></th>\n",
       "      <th></th>\n",
       "      <th></th>\n",
       "      <th></th>\n",
       "      <th></th>\n",
       "      <th></th>\n",
       "      <th></th>\n",
       "      <th></th>\n",
       "      <th></th>\n",
       "      <th></th>\n",
       "      <th></th>\n",
       "      <th></th>\n",
       "      <th></th>\n",
       "      <th></th>\n",
       "      <th></th>\n",
       "      <th></th>\n",
       "      <th></th>\n",
       "      <th></th>\n",
       "      <th></th>\n",
       "      <th></th>\n",
       "    </tr>\n",
       "  </thead>\n",
       "  <tbody>\n",
       "    <tr>\n",
       "      <th>R001</th>\n",
       "      <td>WHITEHALL STREET</td>\n",
       "      <td>61962</td>\n",
       "      <td>2733</td>\n",
       "      <td>368</td>\n",
       "      <td>1058</td>\n",
       "      <td>253</td>\n",
       "      <td>30913</td>\n",
       "      <td>36403</td>\n",
       "      <td>0</td>\n",
       "      <td>0</td>\n",
       "      <td>...</td>\n",
       "      <td>572</td>\n",
       "      <td>4795</td>\n",
       "      <td>1734</td>\n",
       "      <td>599</td>\n",
       "      <td>0</td>\n",
       "      <td>1501</td>\n",
       "      <td>0</td>\n",
       "      <td>0</td>\n",
       "      <td>0</td>\n",
       "      <td>2914</td>\n",
       "    </tr>\n",
       "    <tr>\n",
       "      <th>R003</th>\n",
       "      <td>CYPRESS HILLS</td>\n",
       "      <td>3150</td>\n",
       "      <td>185</td>\n",
       "      <td>22</td>\n",
       "      <td>51</td>\n",
       "      <td>4</td>\n",
       "      <td>2829</td>\n",
       "      <td>1490</td>\n",
       "      <td>0</td>\n",
       "      <td>0</td>\n",
       "      <td>...</td>\n",
       "      <td>7</td>\n",
       "      <td>132</td>\n",
       "      <td>19</td>\n",
       "      <td>13</td>\n",
       "      <td>0</td>\n",
       "      <td>36</td>\n",
       "      <td>0</td>\n",
       "      <td>0</td>\n",
       "      <td>0</td>\n",
       "      <td>856</td>\n",
       "    </tr>\n",
       "    <tr>\n",
       "      <th>R004</th>\n",
       "      <td>75TH STREET &amp; ELDERTS LANE</td>\n",
       "      <td>8190</td>\n",
       "      <td>482</td>\n",
       "      <td>42</td>\n",
       "      <td>132</td>\n",
       "      <td>4</td>\n",
       "      <td>6193</td>\n",
       "      <td>4581</td>\n",
       "      <td>0</td>\n",
       "      <td>0</td>\n",
       "      <td>...</td>\n",
       "      <td>2</td>\n",
       "      <td>315</td>\n",
       "      <td>44</td>\n",
       "      <td>56</td>\n",
       "      <td>0</td>\n",
       "      <td>113</td>\n",
       "      <td>0</td>\n",
       "      <td>0</td>\n",
       "      <td>0</td>\n",
       "      <td>3966</td>\n",
       "    </tr>\n",
       "    <tr>\n",
       "      <th>R005</th>\n",
       "      <td>85TH STREET &amp; FOREST PKWAY</td>\n",
       "      <td>9103</td>\n",
       "      <td>629</td>\n",
       "      <td>40</td>\n",
       "      <td>183</td>\n",
       "      <td>1</td>\n",
       "      <td>6517</td>\n",
       "      <td>5681</td>\n",
       "      <td>0</td>\n",
       "      <td>0</td>\n",
       "      <td>...</td>\n",
       "      <td>0</td>\n",
       "      <td>376</td>\n",
       "      <td>63</td>\n",
       "      <td>81</td>\n",
       "      <td>0</td>\n",
       "      <td>101</td>\n",
       "      <td>0</td>\n",
       "      <td>0</td>\n",
       "      <td>0</td>\n",
       "      <td>1814</td>\n",
       "    </tr>\n",
       "    <tr>\n",
       "      <th>R006</th>\n",
       "      <td>WOODHAVEN BOULEVARD</td>\n",
       "      <td>8973</td>\n",
       "      <td>600</td>\n",
       "      <td>82</td>\n",
       "      <td>228</td>\n",
       "      <td>1</td>\n",
       "      <td>8835</td>\n",
       "      <td>6359</td>\n",
       "      <td>0</td>\n",
       "      <td>0</td>\n",
       "      <td>...</td>\n",
       "      <td>9</td>\n",
       "      <td>423</td>\n",
       "      <td>92</td>\n",
       "      <td>71</td>\n",
       "      <td>0</td>\n",
       "      <td>75</td>\n",
       "      <td>0</td>\n",
       "      <td>0</td>\n",
       "      <td>0</td>\n",
       "      <td>1815</td>\n",
       "    </tr>\n",
       "  </tbody>\n",
       "</table>\n",
       "<p>5 rows × 24 columns</p>\n",
       "</div>"
      ],
      "text/plain": [
       "1                              STATION     FF  SEN/DIS  7-D AFAS UNL  \\\n",
       "REMOTE                                                                 \n",
       "R001    WHITEHALL STREET                61962     2733           368   \n",
       "R003    CYPRESS HILLS                    3150      185            22   \n",
       "R004    75TH STREET & ELDERTS LANE       8190      482            42   \n",
       "R005    85TH STREET & FOREST PKWAY       9103      629            40   \n",
       "R006    WOODHAVEN BOULEVARD              8973      600            82   \n",
       "\n",
       "1       30-D AFAS/RMF UNL  JOINT RR TKT  7-D UNL  30-D UNL  14-D RFM UNL  \\\n",
       "REMOTE                                                                     \n",
       "R001                 1058           253    30913     36403             0   \n",
       "R003                   51             4     2829      1490             0   \n",
       "R004                  132             4     6193      4581             0   \n",
       "R005                  183             1     6517      5681             0   \n",
       "R006                  228             1     8835      6359             0   \n",
       "\n",
       "1       1-D UNL    ...     RR UNL NO TRADE  TCMC ANNUAL MC  MR EZPAY EXP  \\\n",
       "REMOTE             ...                                                     \n",
       "R001          0    ...                 572            4795          1734   \n",
       "R003          0    ...                   7             132            19   \n",
       "R004          0    ...                   2             315            44   \n",
       "R005          0    ...                   0             376            63   \n",
       "R006          0    ...                   9             423            92   \n",
       "\n",
       "1       MR EZPAY UNL  PATH 2-T  AIRTRAIN FF  AIRTRAIN 30-D  AIRTRAIN 10-T  \\\n",
       "REMOTE                                                                      \n",
       "R001             599         0         1501              0              0   \n",
       "R003              13         0           36              0              0   \n",
       "R004              56         0          113              0              0   \n",
       "R005              81         0          101              0              0   \n",
       "R006              71         0           75              0              0   \n",
       "\n",
       "1       AIRTRAIN MTHLY  STUDENTS  \n",
       "REMOTE                            \n",
       "R001                 0      2914  \n",
       "R003                 0       856  \n",
       "R004                 0      3966  \n",
       "R005                 0      1814  \n",
       "R006                 0      1815  \n",
       "\n",
       "[5 rows x 24 columns]"
      ]
     },
     "execution_count": 11,
     "metadata": {},
     "output_type": "execute_result"
    }
   ],
   "source": [
    "for x in df.columns[1:]:\n",
    "    df[x] = pd.to_numeric(df[x], errors='coerce')\n",
    "\n",
    "df.head()"
   ]
  },
  {
   "cell_type": "code",
   "execution_count": 12,
   "metadata": {
    "collapsed": false
   },
   "outputs": [
    {
     "data": {
      "text/plain": [
       "numpy.int64"
      ]
     },
     "execution_count": 12,
     "metadata": {},
     "output_type": "execute_result"
    }
   ],
   "source": [
    "type(df.iloc[0]['7-D UNL']) # Fixed"
   ]
  },
  {
   "cell_type": "markdown",
   "metadata": {},
   "source": [
    "### Removing additional columns\n",
    "Now that the data is a bit cleaner and easier to work with, we can now see which MetroCard types are obsolete by summing the columns. Remove columns with single digit counts. Obviously we will still have most of our data."
   ]
  },
  {
   "cell_type": "code",
   "execution_count": 13,
   "metadata": {
    "collapsed": false
   },
   "outputs": [
    {
     "data": {
      "text/plain": [
       "1\n",
       "FF                   12420272\n",
       "SEN/DIS                839030\n",
       "7-D AFAS UNL            87374\n",
       "30-D AFAS/RMF UNL      234659\n",
       "JOINT RR TKT            51752\n",
       "7-D UNL               7112512\n",
       "30-D UNL              9351178\n",
       "14-D RFM UNL                3\n",
       "1-D UNL                     2\n",
       "14-D UNL                    2\n",
       "7D-XBUS PASS                0\n",
       "TCMC                   167714\n",
       "RF 2 TRIP              223573\n",
       "RR UNL NO TRADE         72625\n",
       "TCMC ANNUAL MC         865439\n",
       "MR EZPAY EXP           270033\n",
       "MR EZPAY UNL           168176\n",
       "PATH 2-T                    0\n",
       "AIRTRAIN FF            205363\n",
       "AIRTRAIN 30-D               0\n",
       "AIRTRAIN 10-T               5\n",
       "AIRTRAIN MTHLY              0\n",
       "STUDENTS              1449076\n",
       "dtype: int64"
      ]
     },
     "execution_count": 13,
     "metadata": {},
     "output_type": "execute_result"
    }
   ],
   "source": [
    "df.sum(numeric_only=True)"
   ]
  },
  {
   "cell_type": "code",
   "execution_count": 14,
   "metadata": {
    "collapsed": false
   },
   "outputs": [
    {
     "data": {
      "text/html": [
       "<div>\n",
       "<table border=\"1\" class=\"dataframe\">\n",
       "  <thead>\n",
       "    <tr style=\"text-align: right;\">\n",
       "      <th>1</th>\n",
       "      <th>STATION</th>\n",
       "      <th>FF</th>\n",
       "      <th>SEN/DIS</th>\n",
       "      <th>7-D AFAS UNL</th>\n",
       "      <th>30-D AFAS/RMF UNL</th>\n",
       "      <th>JOINT RR TKT</th>\n",
       "      <th>7-D UNL</th>\n",
       "      <th>30-D UNL</th>\n",
       "      <th>TCMC</th>\n",
       "      <th>RF 2 TRIP</th>\n",
       "      <th>RR UNL NO TRADE</th>\n",
       "      <th>TCMC ANNUAL MC</th>\n",
       "      <th>MR EZPAY EXP</th>\n",
       "      <th>MR EZPAY UNL</th>\n",
       "      <th>AIRTRAIN FF</th>\n",
       "      <th>STUDENTS</th>\n",
       "    </tr>\n",
       "    <tr>\n",
       "      <th>REMOTE</th>\n",
       "      <th></th>\n",
       "      <th></th>\n",
       "      <th></th>\n",
       "      <th></th>\n",
       "      <th></th>\n",
       "      <th></th>\n",
       "      <th></th>\n",
       "      <th></th>\n",
       "      <th></th>\n",
       "      <th></th>\n",
       "      <th></th>\n",
       "      <th></th>\n",
       "      <th></th>\n",
       "      <th></th>\n",
       "      <th></th>\n",
       "      <th></th>\n",
       "    </tr>\n",
       "  </thead>\n",
       "  <tbody>\n",
       "    <tr>\n",
       "      <th>R001</th>\n",
       "      <td>WHITEHALL STREET</td>\n",
       "      <td>61962</td>\n",
       "      <td>2733</td>\n",
       "      <td>368</td>\n",
       "      <td>1058</td>\n",
       "      <td>253</td>\n",
       "      <td>30913</td>\n",
       "      <td>36403</td>\n",
       "      <td>1001</td>\n",
       "      <td>899</td>\n",
       "      <td>572</td>\n",
       "      <td>4795</td>\n",
       "      <td>1734</td>\n",
       "      <td>599</td>\n",
       "      <td>1501</td>\n",
       "      <td>2914</td>\n",
       "    </tr>\n",
       "    <tr>\n",
       "      <th>R003</th>\n",
       "      <td>CYPRESS HILLS</td>\n",
       "      <td>3150</td>\n",
       "      <td>185</td>\n",
       "      <td>22</td>\n",
       "      <td>51</td>\n",
       "      <td>4</td>\n",
       "      <td>2829</td>\n",
       "      <td>1490</td>\n",
       "      <td>26</td>\n",
       "      <td>71</td>\n",
       "      <td>7</td>\n",
       "      <td>132</td>\n",
       "      <td>19</td>\n",
       "      <td>13</td>\n",
       "      <td>36</td>\n",
       "      <td>856</td>\n",
       "    </tr>\n",
       "    <tr>\n",
       "      <th>R004</th>\n",
       "      <td>75TH STREET &amp; ELDERTS LANE</td>\n",
       "      <td>8190</td>\n",
       "      <td>482</td>\n",
       "      <td>42</td>\n",
       "      <td>132</td>\n",
       "      <td>4</td>\n",
       "      <td>6193</td>\n",
       "      <td>4581</td>\n",
       "      <td>58</td>\n",
       "      <td>218</td>\n",
       "      <td>2</td>\n",
       "      <td>315</td>\n",
       "      <td>44</td>\n",
       "      <td>56</td>\n",
       "      <td>113</td>\n",
       "      <td>3966</td>\n",
       "    </tr>\n",
       "    <tr>\n",
       "      <th>R005</th>\n",
       "      <td>85TH STREET &amp; FOREST PKWAY</td>\n",
       "      <td>9103</td>\n",
       "      <td>629</td>\n",
       "      <td>40</td>\n",
       "      <td>183</td>\n",
       "      <td>1</td>\n",
       "      <td>6517</td>\n",
       "      <td>5681</td>\n",
       "      <td>89</td>\n",
       "      <td>275</td>\n",
       "      <td>0</td>\n",
       "      <td>376</td>\n",
       "      <td>63</td>\n",
       "      <td>81</td>\n",
       "      <td>101</td>\n",
       "      <td>1814</td>\n",
       "    </tr>\n",
       "    <tr>\n",
       "      <th>R006</th>\n",
       "      <td>WOODHAVEN BOULEVARD</td>\n",
       "      <td>8973</td>\n",
       "      <td>600</td>\n",
       "      <td>82</td>\n",
       "      <td>228</td>\n",
       "      <td>1</td>\n",
       "      <td>8835</td>\n",
       "      <td>6359</td>\n",
       "      <td>97</td>\n",
       "      <td>226</td>\n",
       "      <td>9</td>\n",
       "      <td>423</td>\n",
       "      <td>92</td>\n",
       "      <td>71</td>\n",
       "      <td>75</td>\n",
       "      <td>1815</td>\n",
       "    </tr>\n",
       "  </tbody>\n",
       "</table>\n",
       "</div>"
      ],
      "text/plain": [
       "1                              STATION     FF  SEN/DIS  7-D AFAS UNL  \\\n",
       "REMOTE                                                                 \n",
       "R001    WHITEHALL STREET                61962     2733           368   \n",
       "R003    CYPRESS HILLS                    3150      185            22   \n",
       "R004    75TH STREET & ELDERTS LANE       8190      482            42   \n",
       "R005    85TH STREET & FOREST PKWAY       9103      629            40   \n",
       "R006    WOODHAVEN BOULEVARD              8973      600            82   \n",
       "\n",
       "1       30-D AFAS/RMF UNL  JOINT RR TKT  7-D UNL  30-D UNL  TCMC  RF 2 TRIP  \\\n",
       "REMOTE                                                                        \n",
       "R001                 1058           253    30913     36403  1001        899   \n",
       "R003                   51             4     2829      1490    26         71   \n",
       "R004                  132             4     6193      4581    58        218   \n",
       "R005                  183             1     6517      5681    89        275   \n",
       "R006                  228             1     8835      6359    97        226   \n",
       "\n",
       "1       RR UNL NO TRADE  TCMC ANNUAL MC  MR EZPAY EXP  MR EZPAY UNL  \\\n",
       "REMOTE                                                                \n",
       "R001                572            4795          1734           599   \n",
       "R003                  7             132            19            13   \n",
       "R004                  2             315            44            56   \n",
       "R005                  0             376            63            81   \n",
       "R006                  9             423            92            71   \n",
       "\n",
       "1       AIRTRAIN FF  STUDENTS  \n",
       "REMOTE                         \n",
       "R001           1501      2914  \n",
       "R003             36       856  \n",
       "R004            113      3966  \n",
       "R005            101      1814  \n",
       "R006             75      1815  "
      ]
     },
     "execution_count": 14,
     "metadata": {},
     "output_type": "execute_result"
    }
   ],
   "source": [
    "# Remove obsolete MetroCard types. Argument 1 in drop means columns (rows would be 0)\n",
    "df = df.drop(['14-D RFM UNL', '1-D UNL', '14-D UNL', '7D-XBUS PASS', \n",
    "              'PATH 2-T', 'AIRTRAIN 30-D', 'AIRTRAIN 10-T', 'AIRTRAIN MTHLY'], 1)\n",
    "df.head()"
   ]
  },
  {
   "cell_type": "markdown",
   "metadata": {},
   "source": [
    "### Further Simplifications - 3 Types of MetroCards\n",
    "Removing everything but Full Fare, 7-Day Unlimited and 30-Day Unlimited. Calculate percentage of data left aftewards.\n",
    "<br>86% is very good considering we took out over 20 MetroCard types."
   ]
  },
  {
   "cell_type": "code",
   "execution_count": 15,
   "metadata": {
    "collapsed": false
   },
   "outputs": [],
   "source": [
    "before = df.sum(numeric_only=True).sum()"
   ]
  },
  {
   "cell_type": "code",
   "execution_count": 16,
   "metadata": {
    "collapsed": true
   },
   "outputs": [],
   "source": [
    "df.drop(['SEN/DIS', '7-D AFAS UNL', '30-D AFAS/RMF UNL', 'JOINT RR TKT', 'TCMC',\n",
    "         'RF 2 TRIP', 'RR UNL NO TRADE', 'MR EZPAY EXP', 'TCMC ANNUAL MC', 'MR EZPAY UNL',\n",
    "         'AIRTRAIN FF', 'STUDENTS'], 1, inplace=True)"
   ]
  },
  {
   "cell_type": "code",
   "execution_count": 17,
   "metadata": {
    "collapsed": false
   },
   "outputs": [
    {
     "name": "stdout",
     "output_type": "stream",
     "text": [
      "0.8617248434131366\n"
     ]
    }
   ],
   "source": [
    "after = df.sum(numeric_only=True).sum()\n",
    "print(after / before)"
   ]
  },
  {
   "cell_type": "code",
   "execution_count": 18,
   "metadata": {
    "collapsed": false
   },
   "outputs": [
    {
     "data": {
      "text/html": [
       "<div>\n",
       "<table border=\"1\" class=\"dataframe\">\n",
       "  <thead>\n",
       "    <tr style=\"text-align: right;\">\n",
       "      <th>1</th>\n",
       "      <th>STATION</th>\n",
       "      <th>FF</th>\n",
       "      <th>7-D UNL</th>\n",
       "      <th>30-D UNL</th>\n",
       "    </tr>\n",
       "    <tr>\n",
       "      <th>REMOTE</th>\n",
       "      <th></th>\n",
       "      <th></th>\n",
       "      <th></th>\n",
       "      <th></th>\n",
       "    </tr>\n",
       "  </thead>\n",
       "  <tbody>\n",
       "    <tr>\n",
       "      <th>R001</th>\n",
       "      <td>WHITEHALL STREET</td>\n",
       "      <td>61962</td>\n",
       "      <td>30913</td>\n",
       "      <td>36403</td>\n",
       "    </tr>\n",
       "    <tr>\n",
       "      <th>R003</th>\n",
       "      <td>CYPRESS HILLS</td>\n",
       "      <td>3150</td>\n",
       "      <td>2829</td>\n",
       "      <td>1490</td>\n",
       "    </tr>\n",
       "    <tr>\n",
       "      <th>R004</th>\n",
       "      <td>75TH STREET &amp; ELDERTS LANE</td>\n",
       "      <td>8190</td>\n",
       "      <td>6193</td>\n",
       "      <td>4581</td>\n",
       "    </tr>\n",
       "    <tr>\n",
       "      <th>R005</th>\n",
       "      <td>85TH STREET &amp; FOREST PKWAY</td>\n",
       "      <td>9103</td>\n",
       "      <td>6517</td>\n",
       "      <td>5681</td>\n",
       "    </tr>\n",
       "    <tr>\n",
       "      <th>R006</th>\n",
       "      <td>WOODHAVEN BOULEVARD</td>\n",
       "      <td>8973</td>\n",
       "      <td>8835</td>\n",
       "      <td>6359</td>\n",
       "    </tr>\n",
       "  </tbody>\n",
       "</table>\n",
       "</div>"
      ],
      "text/plain": [
       "1                              STATION     FF  7-D UNL  30-D UNL\n",
       "REMOTE                                                          \n",
       "R001    WHITEHALL STREET                61962    30913     36403\n",
       "R003    CYPRESS HILLS                    3150     2829      1490\n",
       "R004    75TH STREET & ELDERTS LANE       8190     6193      4581\n",
       "R005    85TH STREET & FOREST PKWAY       9103     6517      5681\n",
       "R006    WOODHAVEN BOULEVARD              8973     8835      6359"
      ]
     },
     "execution_count": 18,
     "metadata": {},
     "output_type": "execute_result"
    }
   ],
   "source": [
    "df.head()"
   ]
  },
  {
   "cell_type": "markdown",
   "metadata": {},
   "source": [
    "## All the cleaning in a single function\n",
    "Added basic exception handling.\n",
    "<br>*Note part 6 - had to use list comprehension because types of metrocards have changed over time."
   ]
  },
  {
   "cell_type": "code",
   "execution_count": 19,
   "metadata": {
    "collapsed": true
   },
   "outputs": [],
   "source": [
    "import urllib\n",
    "\n",
    "# Function to clean MTA fare files.\n",
    "# 1. Corrects column labels\n",
    "# 2. Removes whitespace from all strings\n",
    "# 3. Reindex to Remote Code (e.g R001)\n",
    "# 4. Removes non-subway stations (PATH, SIR)\n",
    "# 5. Correctly types data - str for Remote Code and Name, int for everything else\n",
    "# 6. Removes all MetroCards except for Full Fare, 7-Day Unlimited and 30-Day Unlimited\n",
    "# \n",
    "# Comment out sections for your needs if necessary.\n",
    "# Available from http://web.mta.info/developers/download.html\n",
    "def read_mta_fare_csv(url):\n",
    "    try:\n",
    "        df = pd.read_csv(url)\n",
    "    except urllib.error.HTTPError as e:\n",
    "        raise\n",
    "\n",
    "    # Part 1\n",
    "    df.drop(df.columns[25], axis=1, inplace=True)\n",
    "    correct_column_values = df.iloc[1] # Row 1\n",
    "    df.drop(df.index[[0, 1]], inplace=True) # Drop rows (old labels)\n",
    "    df.columns = correct_column_values\n",
    "\n",
    "    # Part 2\n",
    "    df.rename(columns=lambda s : s.strip(), inplace=True)\n",
    "    df['STATION'].str.strip()\n",
    "    \n",
    "    # Part 3\n",
    "    df.set_index('REMOTE', inplace=True)\n",
    "    \n",
    "    # Part 4\n",
    "    df = df.drop(df.tail(15).index) # AirTrain and PATH stations are last 15 entries\n",
    "    df = df.drop(['R070', 'R165']) # Staten Island Railway stations\n",
    "    \n",
    "    # Part 5\n",
    "    for x in df.columns[1:]:\n",
    "        df[x] = pd.to_numeric(df[x], errors='coerce')\n",
    "    \n",
    "    # Part 6\n",
    "    col = df.columns.tolist()\n",
    "    keep = ['STATION', 'FF', '7-D UNL', '30-D UNL']\n",
    "    drop = [val for val in col if val not in keep]\n",
    "    df.drop(drop, 1, inplace=True)\n",
    "\n",
    "    return df"
   ]
  },
  {
   "cell_type": "markdown",
   "metadata": {},
   "source": [
    "# DataFrame 1b - Dates Before and After Price Hikes\n",
    "Extension of above. Combine multiple weeks and divide into times before and after fare hikes. Source below - \n",
    "https://en.wikipedia.org/wiki/New_York_City_transit_fares\n",
    "<br>Note: Keep in mind that the MTA files reflect data from one week prior.\n",
    "\n",
    "1. December 30, 2010 - Before: \\$2.25 base fare, After: \\$2.25 base fare, \\$2.50 SingleRide MetroCard ticket fare\n",
    "<br>Saturday, January 15, 2011 - First file that reflects this change.\n",
    "\n",
    "2. March 3, 2013 - After: \\$2.50 base fare, \\$2.75 SingleRide MetroCard ticket fare\n",
    "<br>Saturday, Mar 9, 2013 - First file that reflects this change.\n",
    "\n",
    "3. March 22, 2015 - After: \\$2.75 base fare, \\$3.00 SingleRide MetroCard ticket fare\n",
    "<br>Saturday, April 04, 2015 - First file that reflects this change."
   ]
  },
  {
   "cell_type": "markdown",
   "metadata": {},
   "source": [
    "## Function to aggregate files over a span of time\n",
    "For every week from start date to end date, attempts to retrieve csv for the week. Adds dataframes using the df.add method.\n",
    "<br>Throws an exception if start or end date is not a Saturday. Ignore date and continues if csv not found for a particular day."
   ]
  },
  {
   "cell_type": "code",
   "execution_count": 20,
   "metadata": {
    "collapsed": true
   },
   "outputs": [],
   "source": [
    "import urllib\n",
    "import datetime as dt\n",
    "\n",
    "# Function to aggregate files over a period of dates\n",
    "# Note: Ensure start date and end dates are Saturdays!\n",
    "def aggregate_mta_fares(start_date, end_date):\n",
    "    # Error Checking\n",
    "    if (start_date.weekday() != 5) | (end_date.weekday() != 5):\n",
    "        raise ValueError('Start or End Date not a Saturday!')\n",
    "    \n",
    "    base_link = 'http://web.mta.info/developers/data/nyct/fares/fares_'\n",
    "    one_week = dt.timedelta(weeks=1)\n",
    "    df = read_mta_fare_csv(base_link + format_date(start_date))\n",
    "    print('Attempting to Read: ' + str(start_date))\n",
    "    \n",
    "    # Copy of Station series needed because the add operation concatenates strings\n",
    "    stations = df['STATION'].copy()\n",
    "    start_date = start_date + one_week\n",
    "    \n",
    "    while (start_date <= end_date):\n",
    "        try:\n",
    "            print('Attempting to Read: ' + str(start_date))\n",
    "            current_df = read_mta_fare_csv(base_link + format_date(start_date))\n",
    "            df = df.add(current_df)\n",
    "            df['STATION'] = stations\n",
    "            start_date = start_date + one_week\n",
    "        except urllib.error.HTTPError as e:\n",
    "            start_date = start_date + one_week\n",
    "            continue\n",
    "    \n",
    "    # Drop NA rows if they exist\n",
    "    df.dropna(inplace=True)\n",
    "    \n",
    "    # Order columns\n",
    "    cols = ['STATION', 'FF', '7-D UNL', '30-D UNL']\n",
    "    df = df.ix[:, cols]\n",
    "    \n",
    "    # Fix types from float to int\n",
    "    for x in df.columns[1:]:\n",
    "        df[x] = df[x].astype(int)\n",
    "    \n",
    "    return df\n",
    "\n",
    "# Converts date into format MTA uses for their files\n",
    "def format_date(date):\n",
    "    return str(date)[2:].replace('-', '') + '.csv'"
   ]
  },
  {
   "cell_type": "markdown",
   "metadata": {},
   "source": [
    "## Generate dataframe for each time period before & after price hike\n",
    "MTA only has records from mid 2010. Therefore some dataframes are much smaller than others. However, there is still sufficient data (30 weeks is the smallest dataframe)."
   ]
  },
  {
   "cell_type": "code",
   "execution_count": 21,
   "metadata": {
    "collapsed": false
   },
   "outputs": [
    {
     "name": "stdout",
     "output_type": "stream",
     "text": [
      "30.0 111.0 107.0 80.0\n"
     ]
    }
   ],
   "source": [
    "# Calculate weeks before and after each fare hike (# of files)\n",
    "diff1 = (dt.date(2011, 1, 8) - dt.date(2010, 6, 12)).days / 7\n",
    "diff2 = (dt.date(2013, 3, 2) - dt.date(2011, 1, 15)).days / 7\n",
    "diff3 = (dt.date(2015, 3, 28) - dt.date(2013, 3, 9)).days / 7\n",
    "diff4 = (dt.date(2016, 10, 15) - dt.date(2015, 4, 4)).days / 7\n",
    "print(diff1, diff2, diff3, diff4)"
   ]
  },
  {
   "cell_type": "markdown",
   "metadata": {},
   "source": [
    "## Important!\n",
    "Comment out code below if you really want to pull all the data from MTA servers. It takes a few minutes.\n",
    "Otherwise, just load files from directory.\n",
    "<br>If you remove the comments, remember to comment out the read_csv part!"
   ]
  },
  {
   "cell_type": "code",
   "execution_count": 22,
   "metadata": {
    "collapsed": false
   },
   "outputs": [
    {
     "data": {
      "text/plain": [
       "\"\\nprice_hike_df1 = aggregate_mta_fares(dt.date(2010, 6, 12), dt.date(2011, 1, 8))\\nprice_hike_df2 = aggregate_mta_fares(dt.date(2011, 1, 15), dt.date(2013, 3, 2))\\nprice_hike_df3 = aggregate_mta_fares(dt.date(2013, 3, 9), dt.date(2015, 3, 28))\\nprice_hike_df4 = aggregate_mta_fares(dt.date(2015, 4, 4), dt.date(2016, 10, 15))\\ndf_dictionary = {'pricehike1':price_hike_df1,\\n                'pricehike2':price_hike_df2,\\n                'pricehike3':price_hike_df3,\\n                'pricehike4':price_hike_df4}\\n\\nfor key, value in df_dictionary.items():\\n    value.to_csv(key + '_original.csv', index_label=False)\\n\""
      ]
     },
     "execution_count": 22,
     "metadata": {},
     "output_type": "execute_result"
    }
   ],
   "source": [
    "'''\n",
    "price_hike_df1 = aggregate_mta_fares(dt.date(2010, 6, 12), dt.date(2011, 1, 8))\n",
    "price_hike_df2 = aggregate_mta_fares(dt.date(2011, 1, 15), dt.date(2013, 3, 2))\n",
    "price_hike_df3 = aggregate_mta_fares(dt.date(2013, 3, 9), dt.date(2015, 3, 28))\n",
    "price_hike_df4 = aggregate_mta_fares(dt.date(2015, 4, 4), dt.date(2016, 10, 15))\n",
    "df_dictionary = {'pricehike1':price_hike_df1,\n",
    "                'pricehike2':price_hike_df2,\n",
    "                'pricehike3':price_hike_df3,\n",
    "                'pricehike4':price_hike_df4}\n",
    "\n",
    "for key, value in df_dictionary.items():\n",
    "    value.to_csv(key + '_original.csv', index_label=False)\n",
    "'''"
   ]
  },
  {
   "cell_type": "code",
   "execution_count": 23,
   "metadata": {
    "collapsed": true
   },
   "outputs": [],
   "source": [
    "# Comment this code if running commented out code\n",
    "df_dictionary = {'pricehike1':pd.read_csv('pricehike1_original.csv'),\n",
    "                'pricehike2':pd.read_csv('pricehike2_original.csv'),\n",
    "                'pricehike3':pd.read_csv('pricehike3_original.csv'),\n",
    "                'pricehike4':pd.read_csv('pricehike4_original.csv'),}"
   ]
  },
  {
   "cell_type": "markdown",
   "metadata": {},
   "source": [
    "# DataFrame 2 - Station & Location\n",
    "DataFrame to help map station remote code, latitude/longitude to ZIP code.\n",
    "\n",
    "A lot of credit to chriswhong for manually entering lat/long info for each station by remote code\n",
    "<br>https://github.com/chriswhong/nycturnstiles\n",
    "<br>Using this info combined with the uszipcode module, we can use the coordinates to reverse look up the zipcode."
   ]
  },
  {
   "cell_type": "markdown",
   "metadata": {},
   "source": [
    "## Cleaning Data\n",
    "### Dropping & relabeling columns\n",
    "Set index to be remote code. This will allow me to join the DataFrames later.\n",
    "<br>Drop irrelevant columns such as Company and Lines. Also, remove PATH and Staten Island Railway stations as before."
   ]
  },
  {
   "cell_type": "code",
   "execution_count": 24,
   "metadata": {
    "collapsed": false
   },
   "outputs": [
    {
     "data": {
      "text/html": [
       "<div>\n",
       "<table border=\"1\" class=\"dataframe\">\n",
       "  <thead>\n",
       "    <tr style=\"text-align: right;\">\n",
       "      <th></th>\n",
       "      <th>STATION_ALT</th>\n",
       "      <th>LINES</th>\n",
       "      <th>COMPANY</th>\n",
       "      <th>LATITUDE</th>\n",
       "      <th>LONGITUDE</th>\n",
       "    </tr>\n",
       "    <tr>\n",
       "      <th>REMOTE</th>\n",
       "      <th></th>\n",
       "      <th></th>\n",
       "      <th></th>\n",
       "      <th></th>\n",
       "      <th></th>\n",
       "    </tr>\n",
       "  </thead>\n",
       "  <tbody>\n",
       "    <tr>\n",
       "      <th>R544</th>\n",
       "      <td>HARRISON</td>\n",
       "      <td>1</td>\n",
       "      <td>PTH</td>\n",
       "      <td>40.738879</td>\n",
       "      <td>-74.155533</td>\n",
       "    </tr>\n",
       "    <tr>\n",
       "      <th>R165</th>\n",
       "      <td>TOMPKINSVILLE</td>\n",
       "      <td>1</td>\n",
       "      <td>SRT</td>\n",
       "      <td>40.636948</td>\n",
       "      <td>-74.074824</td>\n",
       "    </tr>\n",
       "    <tr>\n",
       "      <th>R070</th>\n",
       "      <td>ST. GEORGE</td>\n",
       "      <td>1</td>\n",
       "      <td>SRT</td>\n",
       "      <td>40.643738</td>\n",
       "      <td>-74.073622</td>\n",
       "    </tr>\n",
       "    <tr>\n",
       "      <th>R070</th>\n",
       "      <td>ST. GEORGE</td>\n",
       "      <td>1</td>\n",
       "      <td>SRT</td>\n",
       "      <td>40.643738</td>\n",
       "      <td>-74.073622</td>\n",
       "    </tr>\n",
       "    <tr>\n",
       "      <th>R552</th>\n",
       "      <td>JOURNAL SQUARE</td>\n",
       "      <td>1</td>\n",
       "      <td>PTH</td>\n",
       "      <td>40.732102</td>\n",
       "      <td>-74.063915</td>\n",
       "    </tr>\n",
       "  </tbody>\n",
       "</table>\n",
       "</div>"
      ],
      "text/plain": [
       "           STATION_ALT LINES COMPANY   LATITUDE  LONGITUDE\n",
       "REMOTE                                                    \n",
       "R544          HARRISON     1     PTH  40.738879 -74.155533\n",
       "R165     TOMPKINSVILLE     1     SRT  40.636948 -74.074824\n",
       "R070        ST. GEORGE     1     SRT  40.643738 -74.073622\n",
       "R070        ST. GEORGE     1     SRT  40.643738 -74.073622\n",
       "R552    JOURNAL SQUARE     1     PTH  40.732102 -74.063915"
      ]
     },
     "execution_count": 24,
     "metadata": {},
     "output_type": "execute_result"
    }
   ],
   "source": [
    "geocoded_df = pd.read_csv('nycturnstiles-master/geocoded.csv')\n",
    "# Columns originally did not have labels\n",
    "geocoded_df.columns = ['REMOTE', 'UNKNOWN', 'STATION_ALT', 'LINES', 'COMPANY', 'LATITUDE', 'LONGITUDE']\n",
    "\n",
    "# Set index to remote to match DataFrame 1\n",
    "geocoded_df.set_index('REMOTE', inplace=True)\n",
    "\n",
    "# Drop irrelevant columns\n",
    "geocoded_df.drop(geocoded_df.columns[[0]], axis=1, inplace=True)\n",
    "\n",
    "# Remove NaN lat/long\n",
    "nan_mask = geocoded_df['LATITUDE'].isnull()\n",
    "geocoded_df.drop(geocoded_df[nan_mask].index, inplace=True)\n",
    "geocoded_df.head()"
   ]
  },
  {
   "cell_type": "code",
   "execution_count": 25,
   "metadata": {
    "collapsed": false
   },
   "outputs": [
    {
     "data": {
      "text/html": [
       "<div>\n",
       "<table border=\"1\" class=\"dataframe\">\n",
       "  <thead>\n",
       "    <tr style=\"text-align: right;\">\n",
       "      <th></th>\n",
       "      <th>STATION_ALT</th>\n",
       "      <th>LINES</th>\n",
       "      <th>LATITUDE</th>\n",
       "      <th>LONGITUDE</th>\n",
       "    </tr>\n",
       "    <tr>\n",
       "      <th>REMOTE</th>\n",
       "      <th></th>\n",
       "      <th></th>\n",
       "      <th></th>\n",
       "      <th></th>\n",
       "    </tr>\n",
       "  </thead>\n",
       "  <tbody>\n",
       "    <tr>\n",
       "      <th>R216</th>\n",
       "      <td>BAY RIDGE-95 ST</td>\n",
       "      <td>R</td>\n",
       "      <td>40.616624</td>\n",
       "      <td>-74.030964</td>\n",
       "    </tr>\n",
       "    <tr>\n",
       "      <th>R216</th>\n",
       "      <td>BAY RIDGE-95 ST</td>\n",
       "      <td>R</td>\n",
       "      <td>40.616624</td>\n",
       "      <td>-74.030964</td>\n",
       "    </tr>\n",
       "    <tr>\n",
       "      <th>R215</th>\n",
       "      <td>86 ST</td>\n",
       "      <td>R</td>\n",
       "      <td>40.622715</td>\n",
       "      <td>-74.028368</td>\n",
       "    </tr>\n",
       "    <tr>\n",
       "      <th>R215</th>\n",
       "      <td>86 ST</td>\n",
       "      <td>R</td>\n",
       "      <td>40.622715</td>\n",
       "      <td>-74.028368</td>\n",
       "    </tr>\n",
       "    <tr>\n",
       "      <th>R214</th>\n",
       "      <td>77 ST</td>\n",
       "      <td>R</td>\n",
       "      <td>40.629702</td>\n",
       "      <td>-74.025514</td>\n",
       "    </tr>\n",
       "  </tbody>\n",
       "</table>\n",
       "</div>"
      ],
      "text/plain": [
       "            STATION_ALT LINES   LATITUDE  LONGITUDE\n",
       "REMOTE                                             \n",
       "R216    BAY RIDGE-95 ST     R  40.616624 -74.030964\n",
       "R216    BAY RIDGE-95 ST     R  40.616624 -74.030964\n",
       "R215              86 ST     R  40.622715 -74.028368\n",
       "R215              86 ST     R  40.622715 -74.028368\n",
       "R214              77 ST     R  40.629702 -74.025514"
      ]
     },
     "execution_count": 25,
     "metadata": {},
     "output_type": "execute_result"
    }
   ],
   "source": [
    "# Remove PATH stations and Staten Island Railway stations\n",
    "path_mask = geocoded_df['COMPANY'] == 'PTH'\n",
    "geocoded_df.drop(geocoded_df[path_mask].index, inplace=True)\n",
    "srt_mask = geocoded_df['COMPANY'] == 'SRT'\n",
    "geocoded_df.drop(geocoded_df[srt_mask].index, inplace=True)\n",
    "\n",
    "# Drop Lines and Company columns\n",
    "geocoded_df.drop(geocoded_df.columns[2], axis=1, inplace=True)\n",
    "geocoded_df.head()"
   ]
  },
  {
   "cell_type": "code",
   "execution_count": 26,
   "metadata": {
    "collapsed": false,
    "scrolled": true
   },
   "outputs": [
    {
     "name": "stdout",
     "output_type": "stream",
     "text": [
      "Before: (737, 4)\n",
      "After: (467, 4)\n"
     ]
    }
   ],
   "source": [
    "print('Before:', geocoded_df.shape)\n",
    "geocoded_df.drop_duplicates(inplace=True)\n",
    "print('After:', geocoded_df.shape)"
   ]
  },
  {
   "cell_type": "code",
   "execution_count": 27,
   "metadata": {
    "collapsed": false
   },
   "outputs": [],
   "source": [
    "geocoded_df.to_csv('geocoded-modified.csv', index_label=False)"
   ]
  },
  {
   "cell_type": "markdown",
   "metadata": {},
   "source": [
    "### Using 'uszipcode' module to lookup ZIP code from lat/long\n",
    "Reverse lookup using coordinates and add as new column.\n",
    "<br>https://pypi.python.org/pypi/uszipcode"
   ]
  },
  {
   "cell_type": "markdown",
   "metadata": {},
   "source": [
    "## Important!\n",
    "This section is commented out in case running environment does not have uszipcode installed. \n",
    "<br>If you remove the comments to run the code, remember to comment out the read_csv part!"
   ]
  },
  {
   "cell_type": "code",
   "execution_count": 28,
   "metadata": {
    "collapsed": false
   },
   "outputs": [],
   "source": [
    "from uszipcode import ZipcodeSearchEngine"
   ]
  },
  {
   "cell_type": "code",
   "execution_count": 29,
   "metadata": {
    "collapsed": false
   },
   "outputs": [],
   "source": [
    "\n",
    "search = ZipcodeSearchEngine()\n",
    "zip_codes = []\n",
    "\n",
    "# Reverse lookup each station and append to list\n",
    "for station in geocoded_df.itertuples():\n",
    "    zip_code = search.by_coordinate(station.LATITUDE, station.LONGITUDE, radius=5, returns=1) # returns list\n",
    "    zip_codes.append(zip_code[0].Zipcode) # Get closest ZIP code\n",
    "    \n",
    "# Add list as new column\n",
    "geocoded_df['ZIP_CODE'] = zip_codes\n",
    "\n",
    "# Save for future use\n",
    "geocoded_df.to_csv('geocoded-modified.csv', index_label=False)\n"
   ]
  },
  {
   "cell_type": "code",
   "execution_count": 30,
   "metadata": {
    "collapsed": true
   },
   "outputs": [],
   "source": [
    "# Comment this code if running commented out code\n",
    "geocoded_df = pd.read_csv('geocoded-modified.csv')"
   ]
  },
  {
   "cell_type": "code",
   "execution_count": 31,
   "metadata": {
    "collapsed": false
   },
   "outputs": [
    {
     "data": {
      "text/html": [
       "<div>\n",
       "<table border=\"1\" class=\"dataframe\">\n",
       "  <thead>\n",
       "    <tr style=\"text-align: right;\">\n",
       "      <th></th>\n",
       "      <th>STATION_ALT</th>\n",
       "      <th>LINES</th>\n",
       "      <th>LATITUDE</th>\n",
       "      <th>LONGITUDE</th>\n",
       "      <th>ZIP_CODE</th>\n",
       "    </tr>\n",
       "  </thead>\n",
       "  <tbody>\n",
       "    <tr>\n",
       "      <th>R216</th>\n",
       "      <td>BAY RIDGE-95 ST</td>\n",
       "      <td>R</td>\n",
       "      <td>40.616624</td>\n",
       "      <td>-74.030964</td>\n",
       "      <td>11209</td>\n",
       "    </tr>\n",
       "    <tr>\n",
       "      <th>R215</th>\n",
       "      <td>86 ST</td>\n",
       "      <td>R</td>\n",
       "      <td>40.622715</td>\n",
       "      <td>-74.028368</td>\n",
       "      <td>11209</td>\n",
       "    </tr>\n",
       "    <tr>\n",
       "      <th>R214</th>\n",
       "      <td>77 ST</td>\n",
       "      <td>R</td>\n",
       "      <td>40.629702</td>\n",
       "      <td>-74.025514</td>\n",
       "      <td>11209</td>\n",
       "    </tr>\n",
       "    <tr>\n",
       "      <th>R213</th>\n",
       "      <td>BAY RIDGE AVE</td>\n",
       "      <td>R</td>\n",
       "      <td>40.634945</td>\n",
       "      <td>-74.023411</td>\n",
       "      <td>11220</td>\n",
       "    </tr>\n",
       "    <tr>\n",
       "      <th>R212</th>\n",
       "      <td>59 ST</td>\n",
       "      <td>NR</td>\n",
       "      <td>40.641426</td>\n",
       "      <td>-74.017972</td>\n",
       "      <td>11220</td>\n",
       "    </tr>\n",
       "  </tbody>\n",
       "</table>\n",
       "</div>"
      ],
      "text/plain": [
       "          STATION_ALT LINES   LATITUDE  LONGITUDE  ZIP_CODE\n",
       "R216  BAY RIDGE-95 ST     R  40.616624 -74.030964     11209\n",
       "R215            86 ST     R  40.622715 -74.028368     11209\n",
       "R214            77 ST     R  40.629702 -74.025514     11209\n",
       "R213    BAY RIDGE AVE     R  40.634945 -74.023411     11220\n",
       "R212            59 ST    NR  40.641426 -74.017972     11220"
      ]
     },
     "execution_count": 31,
     "metadata": {},
     "output_type": "execute_result"
    }
   ],
   "source": [
    "geocoded_df.head()"
   ]
  },
  {
   "cell_type": "markdown",
   "metadata": {},
   "source": [
    "# Joining DataFrames 1 and 2\n",
    "Join DataFrame with MetroCard type data with lat/long/ZIP code data. The join operation behaves like taking the union of two DataFrames. It lines up the indicies (remote code) and then adds the joining DataFrames' columns. If an index does not have column data from the other DataFrame, those values become NaNs."
   ]
  },
  {
   "cell_type": "code",
   "execution_count": 32,
   "metadata": {
    "collapsed": false
   },
   "outputs": [
    {
     "data": {
      "text/html": [
       "<div>\n",
       "<table border=\"1\" class=\"dataframe\">\n",
       "  <thead>\n",
       "    <tr style=\"text-align: right;\">\n",
       "      <th></th>\n",
       "      <th>STATION_ALT</th>\n",
       "      <th>LINES</th>\n",
       "      <th>LATITUDE</th>\n",
       "      <th>LONGITUDE</th>\n",
       "      <th>ZIP_CODE</th>\n",
       "      <th>STATION</th>\n",
       "      <th>FF</th>\n",
       "      <th>7-D UNL</th>\n",
       "      <th>30-D UNL</th>\n",
       "    </tr>\n",
       "  </thead>\n",
       "  <tbody>\n",
       "    <tr>\n",
       "      <th>R001</th>\n",
       "      <td>WHITEHALL ST</td>\n",
       "      <td>R1</td>\n",
       "      <td>40.703082</td>\n",
       "      <td>-74.012983</td>\n",
       "      <td>10004</td>\n",
       "      <td>WHITEHALL STREET</td>\n",
       "      <td>61962.0</td>\n",
       "      <td>30913.0</td>\n",
       "      <td>36403.0</td>\n",
       "    </tr>\n",
       "    <tr>\n",
       "      <th>R001</th>\n",
       "      <td>SOUTH FERRY</td>\n",
       "      <td>R1</td>\n",
       "      <td>40.703082</td>\n",
       "      <td>-74.012983</td>\n",
       "      <td>10004</td>\n",
       "      <td>WHITEHALL STREET</td>\n",
       "      <td>61962.0</td>\n",
       "      <td>30913.0</td>\n",
       "      <td>36403.0</td>\n",
       "    </tr>\n",
       "    <tr>\n",
       "      <th>R002</th>\n",
       "      <td>FULTON ST</td>\n",
       "      <td>ACJZ2345</td>\n",
       "      <td>40.709938</td>\n",
       "      <td>-74.007983</td>\n",
       "      <td>10007</td>\n",
       "      <td>NaN</td>\n",
       "      <td>NaN</td>\n",
       "      <td>NaN</td>\n",
       "      <td>NaN</td>\n",
       "    </tr>\n",
       "    <tr>\n",
       "      <th>R003</th>\n",
       "      <td>CYPRESS HILLS</td>\n",
       "      <td>J</td>\n",
       "      <td>40.689945</td>\n",
       "      <td>-73.872564</td>\n",
       "      <td>11421</td>\n",
       "      <td>CYPRESS HILLS</td>\n",
       "      <td>3150.0</td>\n",
       "      <td>2829.0</td>\n",
       "      <td>1490.0</td>\n",
       "    </tr>\n",
       "    <tr>\n",
       "      <th>R004</th>\n",
       "      <td>ELDERTS LANE</td>\n",
       "      <td>JZ</td>\n",
       "      <td>40.691320</td>\n",
       "      <td>-73.867135</td>\n",
       "      <td>11421</td>\n",
       "      <td>75TH STREET &amp; ELDERTS LANE</td>\n",
       "      <td>8190.0</td>\n",
       "      <td>6193.0</td>\n",
       "      <td>4581.0</td>\n",
       "    </tr>\n",
       "  </tbody>\n",
       "</table>\n",
       "</div>"
      ],
      "text/plain": [
       "        STATION_ALT     LINES   LATITUDE  LONGITUDE  ZIP_CODE  \\\n",
       "R001   WHITEHALL ST        R1  40.703082 -74.012983     10004   \n",
       "R001    SOUTH FERRY        R1  40.703082 -74.012983     10004   \n",
       "R002      FULTON ST  ACJZ2345  40.709938 -74.007983     10007   \n",
       "R003  CYPRESS HILLS         J  40.689945 -73.872564     11421   \n",
       "R004   ELDERTS LANE        JZ  40.691320 -73.867135     11421   \n",
       "\n",
       "                             STATION       FF  7-D UNL  30-D UNL  \n",
       "R001  WHITEHALL STREET                61962.0  30913.0   36403.0  \n",
       "R001  WHITEHALL STREET                61962.0  30913.0   36403.0  \n",
       "R002                             NaN      NaN      NaN       NaN  \n",
       "R003  CYPRESS HILLS                    3150.0   2829.0    1490.0  \n",
       "R004  75TH STREET & ELDERTS LANE       8190.0   6193.0    4581.0  "
      ]
     },
     "execution_count": 32,
     "metadata": {},
     "output_type": "execute_result"
    }
   ],
   "source": [
    "df_with_zip = geocoded_df.join(df)\n",
    "df_with_zip.head()"
   ]
  },
  {
   "cell_type": "code",
   "execution_count": 33,
   "metadata": {
    "collapsed": false
   },
   "outputs": [
    {
     "name": "stdout",
     "output_type": "stream",
     "text": [
      "(449, 4)\n",
      "(467, 5)\n",
      "(467, 9)\n"
     ]
    }
   ],
   "source": [
    "# Join operation - returns the union\n",
    "print(df.shape)\n",
    "print(geocoded_df.shape)\n",
    "print(df_with_zip.shape)"
   ]
  },
  {
   "cell_type": "code",
   "execution_count": 34,
   "metadata": {
    "collapsed": false
   },
   "outputs": [
    {
     "name": "stdout",
     "output_type": "stream",
     "text": [
      "(459, 9)\n"
     ]
    }
   ],
   "source": [
    "# Drop entries with NaNs\n",
    "df_with_zip = df_with_zip[pd.notnull(df_with_zip['FF'])]\n",
    "print(df_with_zip.shape)"
   ]
  },
  {
   "cell_type": "code",
   "execution_count": 35,
   "metadata": {
    "collapsed": false
   },
   "outputs": [
    {
     "data": {
      "text/html": [
       "<div>\n",
       "<table border=\"1\" class=\"dataframe\">\n",
       "  <thead>\n",
       "    <tr style=\"text-align: right;\">\n",
       "      <th></th>\n",
       "      <th>STATION_ALT</th>\n",
       "      <th>LINES</th>\n",
       "      <th>LATITUDE</th>\n",
       "      <th>LONGITUDE</th>\n",
       "      <th>ZIP_CODE</th>\n",
       "      <th>STATION</th>\n",
       "      <th>FF</th>\n",
       "      <th>7-D UNL</th>\n",
       "      <th>30-D UNL</th>\n",
       "    </tr>\n",
       "  </thead>\n",
       "  <tbody>\n",
       "    <tr>\n",
       "      <th>R001</th>\n",
       "      <td>WHITEHALL ST</td>\n",
       "      <td>R1</td>\n",
       "      <td>40.703082</td>\n",
       "      <td>-74.012983</td>\n",
       "      <td>10004</td>\n",
       "      <td>WHITEHALL STREET</td>\n",
       "      <td>61962.0</td>\n",
       "      <td>30913.0</td>\n",
       "      <td>36403.0</td>\n",
       "    </tr>\n",
       "    <tr>\n",
       "      <th>R001</th>\n",
       "      <td>SOUTH FERRY</td>\n",
       "      <td>R1</td>\n",
       "      <td>40.703082</td>\n",
       "      <td>-74.012983</td>\n",
       "      <td>10004</td>\n",
       "      <td>WHITEHALL STREET</td>\n",
       "      <td>61962.0</td>\n",
       "      <td>30913.0</td>\n",
       "      <td>36403.0</td>\n",
       "    </tr>\n",
       "    <tr>\n",
       "      <th>R003</th>\n",
       "      <td>CYPRESS HILLS</td>\n",
       "      <td>J</td>\n",
       "      <td>40.689945</td>\n",
       "      <td>-73.872564</td>\n",
       "      <td>11421</td>\n",
       "      <td>CYPRESS HILLS</td>\n",
       "      <td>3150.0</td>\n",
       "      <td>2829.0</td>\n",
       "      <td>1490.0</td>\n",
       "    </tr>\n",
       "    <tr>\n",
       "      <th>R004</th>\n",
       "      <td>ELDERTS LANE</td>\n",
       "      <td>JZ</td>\n",
       "      <td>40.691320</td>\n",
       "      <td>-73.867135</td>\n",
       "      <td>11421</td>\n",
       "      <td>75TH STREET &amp; ELDERTS LANE</td>\n",
       "      <td>8190.0</td>\n",
       "      <td>6193.0</td>\n",
       "      <td>4581.0</td>\n",
       "    </tr>\n",
       "    <tr>\n",
       "      <th>R005</th>\n",
       "      <td>FOREST PARKWAY</td>\n",
       "      <td>J</td>\n",
       "      <td>40.692304</td>\n",
       "      <td>-73.860151</td>\n",
       "      <td>11421</td>\n",
       "      <td>85TH STREET &amp; FOREST PKWAY</td>\n",
       "      <td>9103.0</td>\n",
       "      <td>6517.0</td>\n",
       "      <td>5681.0</td>\n",
       "    </tr>\n",
       "  </tbody>\n",
       "</table>\n",
       "</div>"
      ],
      "text/plain": [
       "         STATION_ALT LINES   LATITUDE  LONGITUDE  ZIP_CODE  \\\n",
       "R001    WHITEHALL ST    R1  40.703082 -74.012983     10004   \n",
       "R001     SOUTH FERRY    R1  40.703082 -74.012983     10004   \n",
       "R003   CYPRESS HILLS     J  40.689945 -73.872564     11421   \n",
       "R004    ELDERTS LANE    JZ  40.691320 -73.867135     11421   \n",
       "R005  FOREST PARKWAY     J  40.692304 -73.860151     11421   \n",
       "\n",
       "                             STATION       FF  7-D UNL  30-D UNL  \n",
       "R001  WHITEHALL STREET                61962.0  30913.0   36403.0  \n",
       "R001  WHITEHALL STREET                61962.0  30913.0   36403.0  \n",
       "R003  CYPRESS HILLS                    3150.0   2829.0    1490.0  \n",
       "R004  75TH STREET & ELDERTS LANE       8190.0   6193.0    4581.0  \n",
       "R005  85TH STREET & FOREST PKWAY       9103.0   6517.0    5681.0  "
      ]
     },
     "execution_count": 35,
     "metadata": {},
     "output_type": "execute_result"
    }
   ],
   "source": [
    "df_with_zip.head()"
   ]
  },
  {
   "cell_type": "markdown",
   "metadata": {},
   "source": [
    "### Removing duplicate values\n",
    "Pandas does not have an operation to remove duplicates by index so create another column (temporarily) with index values. Then drop duplicates using that column. Afterwards, delete the column. \n",
    "<br>_Note: Duplicates appear because some stations have more than one name. Every dataset used a different notation._"
   ]
  },
  {
   "cell_type": "code",
   "execution_count": 36,
   "metadata": {
    "collapsed": false
   },
   "outputs": [
    {
     "name": "stdout",
     "output_type": "stream",
     "text": [
      "(436, 10)\n"
     ]
    }
   ],
   "source": [
    "df_with_zip['REMOTE'] = df_with_zip.index\n",
    "df_with_zip.drop_duplicates(subset=['REMOTE'], inplace=True)\n",
    "print(df_with_zip.shape)"
   ]
  },
  {
   "cell_type": "code",
   "execution_count": 37,
   "metadata": {
    "collapsed": false
   },
   "outputs": [],
   "source": [
    "# Remove temoporary column\n",
    "df_with_zip.drop('REMOTE', axis=1, inplace=True)"
   ]
  },
  {
   "cell_type": "code",
   "execution_count": 38,
   "metadata": {
    "collapsed": false,
    "scrolled": true
   },
   "outputs": [
    {
     "data": {
      "text/html": [
       "<div>\n",
       "<table border=\"1\" class=\"dataframe\">\n",
       "  <thead>\n",
       "    <tr style=\"text-align: right;\">\n",
       "      <th></th>\n",
       "      <th>STATION</th>\n",
       "      <th>LINES</th>\n",
       "      <th>LATITUDE</th>\n",
       "      <th>LONGITUDE</th>\n",
       "      <th>ZIP_CODE</th>\n",
       "      <th>FF</th>\n",
       "      <th>7-D UNL</th>\n",
       "      <th>30-D UNL</th>\n",
       "    </tr>\n",
       "  </thead>\n",
       "  <tbody>\n",
       "    <tr>\n",
       "      <th>R001</th>\n",
       "      <td>WHITEHALL STREET</td>\n",
       "      <td>R1</td>\n",
       "      <td>40.703082</td>\n",
       "      <td>-74.012983</td>\n",
       "      <td>10004</td>\n",
       "      <td>61962.0</td>\n",
       "      <td>30913.0</td>\n",
       "      <td>36403.0</td>\n",
       "    </tr>\n",
       "    <tr>\n",
       "      <th>R003</th>\n",
       "      <td>CYPRESS HILLS</td>\n",
       "      <td>J</td>\n",
       "      <td>40.689945</td>\n",
       "      <td>-73.872564</td>\n",
       "      <td>11421</td>\n",
       "      <td>3150.0</td>\n",
       "      <td>2829.0</td>\n",
       "      <td>1490.0</td>\n",
       "    </tr>\n",
       "    <tr>\n",
       "      <th>R004</th>\n",
       "      <td>75TH STREET &amp; ELDERTS LANE</td>\n",
       "      <td>JZ</td>\n",
       "      <td>40.691320</td>\n",
       "      <td>-73.867135</td>\n",
       "      <td>11421</td>\n",
       "      <td>8190.0</td>\n",
       "      <td>6193.0</td>\n",
       "      <td>4581.0</td>\n",
       "    </tr>\n",
       "    <tr>\n",
       "      <th>R005</th>\n",
       "      <td>85TH STREET &amp; FOREST PKWAY</td>\n",
       "      <td>J</td>\n",
       "      <td>40.692304</td>\n",
       "      <td>-73.860151</td>\n",
       "      <td>11421</td>\n",
       "      <td>9103.0</td>\n",
       "      <td>6517.0</td>\n",
       "      <td>5681.0</td>\n",
       "    </tr>\n",
       "    <tr>\n",
       "      <th>R006</th>\n",
       "      <td>WOODHAVEN BOULEVARD</td>\n",
       "      <td>JZ</td>\n",
       "      <td>40.693866</td>\n",
       "      <td>-73.851568</td>\n",
       "      <td>11421</td>\n",
       "      <td>8973.0</td>\n",
       "      <td>8835.0</td>\n",
       "      <td>6359.0</td>\n",
       "    </tr>\n",
       "  </tbody>\n",
       "</table>\n",
       "</div>"
      ],
      "text/plain": [
       "                             STATION LINES   LATITUDE  LONGITUDE  ZIP_CODE  \\\n",
       "R001  WHITEHALL STREET                  R1  40.703082 -74.012983     10004   \n",
       "R003  CYPRESS HILLS                      J  40.689945 -73.872564     11421   \n",
       "R004  75TH STREET & ELDERTS LANE        JZ  40.691320 -73.867135     11421   \n",
       "R005  85TH STREET & FOREST PKWAY         J  40.692304 -73.860151     11421   \n",
       "R006  WOODHAVEN BOULEVARD               JZ  40.693866 -73.851568     11421   \n",
       "\n",
       "           FF  7-D UNL  30-D UNL  \n",
       "R001  61962.0  30913.0   36403.0  \n",
       "R003   3150.0   2829.0    1490.0  \n",
       "R004   8190.0   6193.0    4581.0  \n",
       "R005   9103.0   6517.0    5681.0  \n",
       "R006   8973.0   8835.0    6359.0  "
      ]
     },
     "execution_count": 38,
     "metadata": {},
     "output_type": "execute_result"
    }
   ],
   "source": [
    "# Rearrange columns\n",
    "cols = ['STATION', 'LINES', 'LATITUDE', 'LONGITUDE', 'ZIP_CODE', 'FF', '7-D UNL', '30-D UNL']\n",
    "df_with_zip = df_with_zip.ix[:, cols]\n",
    "df_with_zip.head()"
   ]
  },
  {
   "cell_type": "markdown",
   "metadata": {},
   "source": [
    "### Converting back to original types\n",
    "Happens with every merge/join/concat operation."
   ]
  },
  {
   "cell_type": "code",
   "execution_count": 39,
   "metadata": {
    "collapsed": false
   },
   "outputs": [
    {
     "data": {
      "text/plain": [
       "STATION       object\n",
       "LINES         object\n",
       "LATITUDE     float64\n",
       "LONGITUDE    float64\n",
       "ZIP_CODE       int64\n",
       "FF           float64\n",
       "7-D UNL      float64\n",
       "30-D UNL     float64\n",
       "dtype: object"
      ]
     },
     "execution_count": 39,
     "metadata": {},
     "output_type": "execute_result"
    }
   ],
   "source": [
    "df_with_zip.dtypes"
   ]
  },
  {
   "cell_type": "code",
   "execution_count": 40,
   "metadata": {
    "collapsed": false
   },
   "outputs": [],
   "source": [
    "# Convert appropriate columns from float to int\n",
    "for key in df_with_zip.columns[4:]:\n",
    "    df_with_zip[key] = df_with_zip[key].astype(int)"
   ]
  },
  {
   "cell_type": "code",
   "execution_count": 41,
   "metadata": {
    "collapsed": false,
    "scrolled": true
   },
   "outputs": [
    {
     "data": {
      "text/plain": [
       "STATION       object\n",
       "LINES         object\n",
       "LATITUDE     float64\n",
       "LONGITUDE    float64\n",
       "ZIP_CODE       int64\n",
       "FF             int64\n",
       "7-D UNL        int64\n",
       "30-D UNL       int64\n",
       "dtype: object"
      ]
     },
     "execution_count": 41,
     "metadata": {},
     "output_type": "execute_result"
    }
   ],
   "source": [
    "df_with_zip.dtypes"
   ]
  },
  {
   "cell_type": "markdown",
   "metadata": {},
   "source": [
    "### Apply to our dataframe dictionary\n",
    "Function of above process."
   ]
  },
  {
   "cell_type": "code",
   "execution_count": 42,
   "metadata": {
    "collapsed": true
   },
   "outputs": [],
   "source": [
    "# Function to add lat, long, ZIP code to a given dataframe with swipe information.\n",
    "# Joins by remote code index.\n",
    "def add_location_info(df):\n",
    "    # Read location info\n",
    "    geocoded_df = pd.read_csv('geocoded-modified.csv')\n",
    "    \n",
    "    # Union join\n",
    "    df_with_zip = geocoded_df.join(df)\n",
    "    \n",
    "    # Drop entries with NaNs\n",
    "    df_with_zip = df_with_zip[pd.notnull(df_with_zip['FF'])]\n",
    "    \n",
    "    # Add temporary column. Pandas does not support droping duplicates by index\n",
    "    df_with_zip['REMOTE'] = df_with_zip.index\n",
    "    df_with_zip.drop_duplicates(subset=['REMOTE'], inplace=True)\n",
    "    \n",
    "    # Remove temoporary column\n",
    "    df_with_zip.drop('REMOTE', axis=1, inplace=True)\n",
    "    \n",
    "    # Rearrange columns\n",
    "    cols = ['STATION', 'LINES', 'LATITUDE', 'LONGITUDE', 'ZIP_CODE', 'FF', '7-D UNL', '30-D UNL']\n",
    "    df_with_zip = df_with_zip.ix[:, cols]\n",
    "    \n",
    "    # Convert appropriate columns from float to int\n",
    "    for key in df_with_zip.columns[4:]:\n",
    "        df_with_zip[key] = df_with_zip[key].astype(int)\n",
    "    \n",
    "    return df_with_zip"
   ]
  },
  {
   "cell_type": "code",
   "execution_count": 43,
   "metadata": {
    "collapsed": false,
    "scrolled": true
   },
   "outputs": [],
   "source": [
    "for key, value in df_dictionary.items():\n",
    "    df_dictionary[key] = add_location_info(value)"
   ]
  },
  {
   "cell_type": "code",
   "execution_count": 44,
   "metadata": {
    "collapsed": false
   },
   "outputs": [
    {
     "data": {
      "text/html": [
       "<div>\n",
       "<table border=\"1\" class=\"dataframe\">\n",
       "  <thead>\n",
       "    <tr style=\"text-align: right;\">\n",
       "      <th></th>\n",
       "      <th>STATION</th>\n",
       "      <th>LINES</th>\n",
       "      <th>LATITUDE</th>\n",
       "      <th>LONGITUDE</th>\n",
       "      <th>ZIP_CODE</th>\n",
       "      <th>FF</th>\n",
       "      <th>7-D UNL</th>\n",
       "      <th>30-D UNL</th>\n",
       "    </tr>\n",
       "  </thead>\n",
       "  <tbody>\n",
       "    <tr>\n",
       "      <th>R001</th>\n",
       "      <td>WHITEHALL STREET</td>\n",
       "      <td>R1</td>\n",
       "      <td>40.703082</td>\n",
       "      <td>-74.012983</td>\n",
       "      <td>10004</td>\n",
       "      <td>1930648</td>\n",
       "      <td>578586</td>\n",
       "      <td>1134069</td>\n",
       "    </tr>\n",
       "    <tr>\n",
       "      <th>R002</th>\n",
       "      <td>FULTON ST &amp; BROADWAY NASSAU</td>\n",
       "      <td>ACJZ2345</td>\n",
       "      <td>40.709938</td>\n",
       "      <td>-74.007983</td>\n",
       "      <td>10007</td>\n",
       "      <td>530327</td>\n",
       "      <td>119782</td>\n",
       "      <td>363916</td>\n",
       "    </tr>\n",
       "    <tr>\n",
       "      <th>R003</th>\n",
       "      <td>CYPRESS HILLS</td>\n",
       "      <td>J</td>\n",
       "      <td>40.689945</td>\n",
       "      <td>-73.872564</td>\n",
       "      <td>11421</td>\n",
       "      <td>105527</td>\n",
       "      <td>46312</td>\n",
       "      <td>41443</td>\n",
       "    </tr>\n",
       "    <tr>\n",
       "      <th>R004</th>\n",
       "      <td>75TH STREET &amp; ELDERTS LANE</td>\n",
       "      <td>JZ</td>\n",
       "      <td>40.691320</td>\n",
       "      <td>-73.867135</td>\n",
       "      <td>11421</td>\n",
       "      <td>254372</td>\n",
       "      <td>92043</td>\n",
       "      <td>135913</td>\n",
       "    </tr>\n",
       "    <tr>\n",
       "      <th>R005</th>\n",
       "      <td>85TH STREET &amp; FOREST PKWAY</td>\n",
       "      <td>J</td>\n",
       "      <td>40.692304</td>\n",
       "      <td>-73.860151</td>\n",
       "      <td>11421</td>\n",
       "      <td>283449</td>\n",
       "      <td>92143</td>\n",
       "      <td>169389</td>\n",
       "    </tr>\n",
       "  </tbody>\n",
       "</table>\n",
       "</div>"
      ],
      "text/plain": [
       "                             STATION     LINES   LATITUDE  LONGITUDE  \\\n",
       "R001  WHITEHALL STREET                      R1  40.703082 -74.012983   \n",
       "R002  FULTON ST & BROADWAY NASSAU     ACJZ2345  40.709938 -74.007983   \n",
       "R003  CYPRESS HILLS                          J  40.689945 -73.872564   \n",
       "R004  75TH STREET & ELDERTS LANE            JZ  40.691320 -73.867135   \n",
       "R005  85TH STREET & FOREST PKWAY             J  40.692304 -73.860151   \n",
       "\n",
       "      ZIP_CODE       FF  7-D UNL  30-D UNL  \n",
       "R001     10004  1930648   578586   1134069  \n",
       "R002     10007   530327   119782    363916  \n",
       "R003     11421   105527    46312     41443  \n",
       "R004     11421   254372    92043    135913  \n",
       "R005     11421   283449    92143    169389  "
      ]
     },
     "execution_count": 44,
     "metadata": {},
     "output_type": "execute_result"
    }
   ],
   "source": [
    "df_dictionary['pricehike1'].head()"
   ]
  },
  {
   "cell_type": "markdown",
   "metadata": {},
   "source": [
    "# DataFrame 3 - ZIP Code and Income\n",
    "Measure is median household income. Median chosen over mean because income is a statistic where the mean can be easily skewed by extremely high figures. Household income chosen over family income to include those not in families or living with others.\n",
    "\n",
    "Dataset downloaded from the Census (via American FactFinder)\n",
    "<br>https://factfinder.census.gov/faces/nav/jsf/pages/index.xhtml\n",
    "### American Community Survey (2014 5-year estimates)\n",
    "Use this information to append to the joined DataFrame(1&2). Append by ZIP code."
   ]
  },
  {
   "cell_type": "code",
   "execution_count": 45,
   "metadata": {
    "collapsed": true
   },
   "outputs": [],
   "source": [
    "income_df = pd.read_csv('ACS_14_5YR_S1901/ACS_14_5YR_S1901_with_ann.csv')\n",
    "income_df.drop(income_df.columns[4:], axis=1, inplace=True)"
   ]
  },
  {
   "cell_type": "markdown",
   "metadata": {},
   "source": [
    "### Ensure all three GEO labels mean the same thing\n",
    "Then we know it is safe to drop two of them."
   ]
  },
  {
   "cell_type": "code",
   "execution_count": 46,
   "metadata": {
    "collapsed": false
   },
   "outputs": [
    {
     "name": "stdout",
     "output_type": "stream",
     "text": [
      "(1795, 4)\n",
      "1794\n"
     ]
    }
   ],
   "source": [
    "count = 0\n",
    "for x in income_df.values:\n",
    "    if (x[0][-5:] == x[1] == x[2][-5:]):\n",
    "        count += 1\n",
    "\n",
    "print(income_df.shape)\n",
    "print(count)\n",
    "income_df.drop(income_df.columns[[0, 2]], axis=1, inplace=True)"
   ]
  },
  {
   "cell_type": "code",
   "execution_count": 47,
   "metadata": {
    "collapsed": false
   },
   "outputs": [],
   "source": [
    "income_df.rename(columns={'GEO.id2':'ZIP_CODE', 'HC01_EST_VC13':'INCOME'}, inplace=True)\n",
    "income_df.drop(0, inplace=True) # Drop extra labels (first row)"
   ]
  },
  {
   "cell_type": "markdown",
   "metadata": {},
   "source": [
    "### Changing type of series\n",
    "Like previous DataFrames, numeric data encoded as strings. Change to numeric where applicable.\n",
    "<br>Income values were strings (including values such as '250,000+'). Remove characters and then change to numeric."
   ]
  },
  {
   "cell_type": "code",
   "execution_count": 48,
   "metadata": {
    "collapsed": false
   },
   "outputs": [],
   "source": [
    "income_df['INCOME'] = income_df['INCOME'].apply(lambda x : x.replace('+', ''))\n",
    "income_df['INCOME'] = income_df['INCOME'].apply(lambda x : x.replace(',', ''))\n",
    "income_df['INCOME'] = income_df['INCOME'].apply(lambda x : int(x.replace('-', '0')))"
   ]
  },
  {
   "cell_type": "code",
   "execution_count": 49,
   "metadata": {
    "collapsed": false
   },
   "outputs": [
    {
     "data": {
      "text/plain": [
       "ZIP_CODE    int64\n",
       "INCOME      int64\n",
       "dtype: object"
      ]
     },
     "execution_count": 49,
     "metadata": {},
     "output_type": "execute_result"
    }
   ],
   "source": [
    "for x in income_df.columns:\n",
    "    income_df[x] = pd.to_numeric(income_df[x], errors='ignore')\n",
    "\n",
    "income_df.dtypes"
   ]
  },
  {
   "cell_type": "markdown",
   "metadata": {},
   "source": [
    "# Joining DataFrames 1, 2, 3\n",
    "Complete DataFrame with Station Info (Lat/Long/ZIP), MetroCard type data, and racial data given the ZIP code.\n",
    "<br>In merge function, 'on' paramater refers to column to join on, and 'inner' parameter tells the function to take intersection of the two DataFrames."
   ]
  },
  {
   "cell_type": "code",
   "execution_count": 50,
   "metadata": {
    "collapsed": false
   },
   "outputs": [],
   "source": [
    "df_complete = df_with_zip.reset_index().merge(income_df, on='ZIP_CODE', how='inner').set_index('index')"
   ]
  },
  {
   "cell_type": "code",
   "execution_count": 51,
   "metadata": {
    "collapsed": false
   },
   "outputs": [
    {
     "name": "stdout",
     "output_type": "stream",
     "text": [
      "(436, 8)\n",
      "(1794, 2)\n",
      "(436, 9)\n"
     ]
    }
   ],
   "source": [
    "print(df_with_zip.shape)\n",
    "print(income_df.shape)\n",
    "print(df_complete.shape)"
   ]
  },
  {
   "cell_type": "code",
   "execution_count": 52,
   "metadata": {
    "collapsed": false
   },
   "outputs": [
    {
     "data": {
      "text/html": [
       "<div>\n",
       "<table border=\"1\" class=\"dataframe\">\n",
       "  <thead>\n",
       "    <tr style=\"text-align: right;\">\n",
       "      <th></th>\n",
       "      <th>STATION</th>\n",
       "      <th>LINES</th>\n",
       "      <th>LATITUDE</th>\n",
       "      <th>LONGITUDE</th>\n",
       "      <th>ZIP_CODE</th>\n",
       "      <th>FF</th>\n",
       "      <th>7-D UNL</th>\n",
       "      <th>30-D UNL</th>\n",
       "      <th>INCOME</th>\n",
       "    </tr>\n",
       "    <tr>\n",
       "      <th>index</th>\n",
       "      <th></th>\n",
       "      <th></th>\n",
       "      <th></th>\n",
       "      <th></th>\n",
       "      <th></th>\n",
       "      <th></th>\n",
       "      <th></th>\n",
       "      <th></th>\n",
       "      <th></th>\n",
       "    </tr>\n",
       "  </thead>\n",
       "  <tbody>\n",
       "    <tr>\n",
       "      <th>R001</th>\n",
       "      <td>WHITEHALL STREET</td>\n",
       "      <td>R1</td>\n",
       "      <td>40.703082</td>\n",
       "      <td>-74.012983</td>\n",
       "      <td>10004</td>\n",
       "      <td>61962</td>\n",
       "      <td>30913</td>\n",
       "      <td>36403</td>\n",
       "      <td>123409</td>\n",
       "    </tr>\n",
       "    <tr>\n",
       "      <th>R041</th>\n",
       "      <td>BOWLING GREEN &amp; BATTERY PL</td>\n",
       "      <td>45</td>\n",
       "      <td>40.704782</td>\n",
       "      <td>-74.014099</td>\n",
       "      <td>10004</td>\n",
       "      <td>52062</td>\n",
       "      <td>23440</td>\n",
       "      <td>37118</td>\n",
       "      <td>123409</td>\n",
       "    </tr>\n",
       "    <tr>\n",
       "      <th>R003</th>\n",
       "      <td>CYPRESS HILLS</td>\n",
       "      <td>J</td>\n",
       "      <td>40.689945</td>\n",
       "      <td>-73.872564</td>\n",
       "      <td>11421</td>\n",
       "      <td>3150</td>\n",
       "      <td>2829</td>\n",
       "      <td>1490</td>\n",
       "      <td>61974</td>\n",
       "    </tr>\n",
       "    <tr>\n",
       "      <th>R004</th>\n",
       "      <td>75TH STREET &amp; ELDERTS LANE</td>\n",
       "      <td>JZ</td>\n",
       "      <td>40.691320</td>\n",
       "      <td>-73.867135</td>\n",
       "      <td>11421</td>\n",
       "      <td>8190</td>\n",
       "      <td>6193</td>\n",
       "      <td>4581</td>\n",
       "      <td>61974</td>\n",
       "    </tr>\n",
       "    <tr>\n",
       "      <th>R005</th>\n",
       "      <td>85TH STREET &amp; FOREST PKWAY</td>\n",
       "      <td>J</td>\n",
       "      <td>40.692304</td>\n",
       "      <td>-73.860151</td>\n",
       "      <td>11421</td>\n",
       "      <td>9103</td>\n",
       "      <td>6517</td>\n",
       "      <td>5681</td>\n",
       "      <td>61974</td>\n",
       "    </tr>\n",
       "  </tbody>\n",
       "</table>\n",
       "</div>"
      ],
      "text/plain": [
       "                              STATION LINES   LATITUDE  LONGITUDE  ZIP_CODE  \\\n",
       "index                                                                         \n",
       "R001   WHITEHALL STREET                  R1  40.703082 -74.012983     10004   \n",
       "R041   BOWLING GREEN & BATTERY PL        45  40.704782 -74.014099     10004   \n",
       "R003   CYPRESS HILLS                      J  40.689945 -73.872564     11421   \n",
       "R004   75TH STREET & ELDERTS LANE        JZ  40.691320 -73.867135     11421   \n",
       "R005   85TH STREET & FOREST PKWAY         J  40.692304 -73.860151     11421   \n",
       "\n",
       "          FF  7-D UNL  30-D UNL  INCOME  \n",
       "index                                    \n",
       "R001   61962    30913     36403  123409  \n",
       "R041   52062    23440     37118  123409  \n",
       "R003    3150     2829      1490   61974  \n",
       "R004    8190     6193      4581   61974  \n",
       "R005    9103     6517      5681   61974  "
      ]
     },
     "execution_count": 52,
     "metadata": {},
     "output_type": "execute_result"
    }
   ],
   "source": [
    "df_complete.head()"
   ]
  },
  {
   "cell_type": "markdown",
   "metadata": {},
   "source": [
    "### Same with our df_dictionary"
   ]
  },
  {
   "cell_type": "code",
   "execution_count": 53,
   "metadata": {
    "collapsed": false
   },
   "outputs": [],
   "source": [
    "for key, value in df_dictionary.items():\n",
    "    df_dictionary[key] = value.reset_index().merge(income_df, on='ZIP_CODE', how='inner').set_index('index')"
   ]
  },
  {
   "cell_type": "markdown",
   "metadata": {},
   "source": [
    "I realized late that some of the income values are 0 (assuming information not available). Remove these."
   ]
  },
  {
   "cell_type": "code",
   "execution_count": 54,
   "metadata": {
    "collapsed": false
   },
   "outputs": [],
   "source": [
    "for key, value in df_dictionary.items():\n",
    "    df_dictionary[key] = value[value['INCOME'] != 0]"
   ]
  },
  {
   "cell_type": "markdown",
   "metadata": {},
   "source": [
    "### Generating additional columns\n",
    "Add a % of station swipes column for each MetroCard. This allows us to compare stations in a more practical way.\n",
    "Apply function below to our df_dictionary."
   ]
  },
  {
   "cell_type": "code",
   "execution_count": 55,
   "metadata": {
    "collapsed": true
   },
   "outputs": [],
   "source": [
    "# Function that adds columns that show % of swipes at a station\n",
    "def add_percentage_info(df):\n",
    "    df['FF_PCT'] = df['FF'] / (df['FF'] + df['7-D UNL'] + df['30-D UNL'])\n",
    "    df['7-D UNL_PCT'] = df['7-D UNL'] / (df['FF'] + df['7-D UNL'] + df['30-D UNL'])\n",
    "    df['30-D UNL_PCT'] = df['30-D UNL'] / (df['FF'] + df['7-D UNL'] + df['30-D UNL'])\n",
    "    \n",
    "    return df"
   ]
  },
  {
   "cell_type": "code",
   "execution_count": 56,
   "metadata": {
    "collapsed": true
   },
   "outputs": [],
   "source": [
    "for key, value in df_dictionary.items():\n",
    "    df_dictionary[key] = add_percentage_info(value)"
   ]
  },
  {
   "cell_type": "code",
   "execution_count": 57,
   "metadata": {
    "collapsed": false,
    "scrolled": true
   },
   "outputs": [
    {
     "data": {
      "text/html": [
       "<div>\n",
       "<table border=\"1\" class=\"dataframe\">\n",
       "  <thead>\n",
       "    <tr style=\"text-align: right;\">\n",
       "      <th></th>\n",
       "      <th>STATION</th>\n",
       "      <th>LINES</th>\n",
       "      <th>LATITUDE</th>\n",
       "      <th>LONGITUDE</th>\n",
       "      <th>ZIP_CODE</th>\n",
       "      <th>FF</th>\n",
       "      <th>7-D UNL</th>\n",
       "      <th>30-D UNL</th>\n",
       "      <th>INCOME</th>\n",
       "      <th>FF_PCT</th>\n",
       "      <th>7-D UNL_PCT</th>\n",
       "      <th>30-D UNL_PCT</th>\n",
       "    </tr>\n",
       "    <tr>\n",
       "      <th>index</th>\n",
       "      <th></th>\n",
       "      <th></th>\n",
       "      <th></th>\n",
       "      <th></th>\n",
       "      <th></th>\n",
       "      <th></th>\n",
       "      <th></th>\n",
       "      <th></th>\n",
       "      <th></th>\n",
       "      <th></th>\n",
       "      <th></th>\n",
       "      <th></th>\n",
       "    </tr>\n",
       "  </thead>\n",
       "  <tbody>\n",
       "    <tr>\n",
       "      <th>R001</th>\n",
       "      <td>WHITEHALL STREET</td>\n",
       "      <td>R1</td>\n",
       "      <td>40.703082</td>\n",
       "      <td>-74.012983</td>\n",
       "      <td>10004</td>\n",
       "      <td>5381402</td>\n",
       "      <td>2254766</td>\n",
       "      <td>2437744</td>\n",
       "      <td>123409</td>\n",
       "      <td>0.534192</td>\n",
       "      <td>0.223822</td>\n",
       "      <td>0.241986</td>\n",
       "    </tr>\n",
       "    <tr>\n",
       "      <th>R041</th>\n",
       "      <td>BOWLING GREEN &amp; BATTERY PL</td>\n",
       "      <td>45</td>\n",
       "      <td>40.704782</td>\n",
       "      <td>-74.014099</td>\n",
       "      <td>10004</td>\n",
       "      <td>5862290</td>\n",
       "      <td>2120293</td>\n",
       "      <td>3971050</td>\n",
       "      <td>123409</td>\n",
       "      <td>0.490419</td>\n",
       "      <td>0.177376</td>\n",
       "      <td>0.332204</td>\n",
       "    </tr>\n",
       "    <tr>\n",
       "      <th>R003</th>\n",
       "      <td>CYPRESS HILLS</td>\n",
       "      <td>J</td>\n",
       "      <td>40.689945</td>\n",
       "      <td>-73.872564</td>\n",
       "      <td>11421</td>\n",
       "      <td>371627</td>\n",
       "      <td>224367</td>\n",
       "      <td>130292</td>\n",
       "      <td>61974</td>\n",
       "      <td>0.511681</td>\n",
       "      <td>0.308924</td>\n",
       "      <td>0.179395</td>\n",
       "    </tr>\n",
       "    <tr>\n",
       "      <th>R004</th>\n",
       "      <td>75TH STREET &amp; ELDERTS LANE</td>\n",
       "      <td>JZ</td>\n",
       "      <td>40.691320</td>\n",
       "      <td>-73.867135</td>\n",
       "      <td>11421</td>\n",
       "      <td>914714</td>\n",
       "      <td>515666</td>\n",
       "      <td>426709</td>\n",
       "      <td>61974</td>\n",
       "      <td>0.492553</td>\n",
       "      <td>0.277674</td>\n",
       "      <td>0.229773</td>\n",
       "    </tr>\n",
       "    <tr>\n",
       "      <th>R005</th>\n",
       "      <td>85TH STREET &amp; FOREST PKWAY</td>\n",
       "      <td>J</td>\n",
       "      <td>40.692304</td>\n",
       "      <td>-73.860151</td>\n",
       "      <td>11421</td>\n",
       "      <td>1031974</td>\n",
       "      <td>506421</td>\n",
       "      <td>533350</td>\n",
       "      <td>61974</td>\n",
       "      <td>0.498118</td>\n",
       "      <td>0.244442</td>\n",
       "      <td>0.257440</td>\n",
       "    </tr>\n",
       "  </tbody>\n",
       "</table>\n",
       "</div>"
      ],
      "text/plain": [
       "                              STATION LINES   LATITUDE  LONGITUDE  ZIP_CODE  \\\n",
       "index                                                                         \n",
       "R001   WHITEHALL STREET                  R1  40.703082 -74.012983     10004   \n",
       "R041   BOWLING GREEN & BATTERY PL        45  40.704782 -74.014099     10004   \n",
       "R003   CYPRESS HILLS                      J  40.689945 -73.872564     11421   \n",
       "R004   75TH STREET & ELDERTS LANE        JZ  40.691320 -73.867135     11421   \n",
       "R005   85TH STREET & FOREST PKWAY         J  40.692304 -73.860151     11421   \n",
       "\n",
       "            FF  7-D UNL  30-D UNL  INCOME    FF_PCT  7-D UNL_PCT  30-D UNL_PCT  \n",
       "index                                                                           \n",
       "R001   5381402  2254766   2437744  123409  0.534192     0.223822      0.241986  \n",
       "R041   5862290  2120293   3971050  123409  0.490419     0.177376      0.332204  \n",
       "R003    371627   224367    130292   61974  0.511681     0.308924      0.179395  \n",
       "R004    914714   515666    426709   61974  0.492553     0.277674      0.229773  \n",
       "R005   1031974   506421    533350   61974  0.498118     0.244442      0.257440  "
      ]
     },
     "execution_count": 57,
     "metadata": {},
     "output_type": "execute_result"
    }
   ],
   "source": [
    "df_dictionary[key].head()"
   ]
  },
  {
   "cell_type": "code",
   "execution_count": 58,
   "metadata": {
    "collapsed": false
   },
   "outputs": [],
   "source": [
    "# Save for future\n",
    "for key, value in df_dictionary.items():\n",
    "    #value.rename(columns={'7-D UNL':'7D_UNL', '30-D UNL':'30D_UNL', '7-D UNL_PCT':'7D_UNL_PCT', '30-D UNL_PCT':'30D_UNL_PCT'}, inplace=True)\n",
    "    value.to_csv(key + '_final.csv', index_label=False)"
   ]
  },
  {
   "cell_type": "markdown",
   "metadata": {},
   "source": [
    "### Final Product"
   ]
  },
  {
   "cell_type": "code",
   "execution_count": 59,
   "metadata": {
    "collapsed": false
   },
   "outputs": [
    {
     "data": {
      "text/html": [
       "<div>\n",
       "<table border=\"1\" class=\"dataframe\">\n",
       "  <thead>\n",
       "    <tr style=\"text-align: right;\">\n",
       "      <th></th>\n",
       "      <th>STATION</th>\n",
       "      <th>LINES</th>\n",
       "      <th>LATITUDE</th>\n",
       "      <th>LONGITUDE</th>\n",
       "      <th>ZIP_CODE</th>\n",
       "      <th>FF</th>\n",
       "      <th>7D_UNL</th>\n",
       "      <th>30D_UNL</th>\n",
       "      <th>INCOME</th>\n",
       "      <th>FF_PCT</th>\n",
       "      <th>7D_UNL_PCT</th>\n",
       "      <th>30D_UNL_PCT</th>\n",
       "    </tr>\n",
       "    <tr>\n",
       "      <th>index</th>\n",
       "      <th></th>\n",
       "      <th></th>\n",
       "      <th></th>\n",
       "      <th></th>\n",
       "      <th></th>\n",
       "      <th></th>\n",
       "      <th></th>\n",
       "      <th></th>\n",
       "      <th></th>\n",
       "      <th></th>\n",
       "      <th></th>\n",
       "      <th></th>\n",
       "    </tr>\n",
       "  </thead>\n",
       "  <tbody>\n",
       "    <tr>\n",
       "      <th>R001</th>\n",
       "      <td>WHITEHALL STREET</td>\n",
       "      <td>R1</td>\n",
       "      <td>40.703082</td>\n",
       "      <td>-74.012983</td>\n",
       "      <td>10004</td>\n",
       "      <td>1930648</td>\n",
       "      <td>578586</td>\n",
       "      <td>1134069</td>\n",
       "      <td>123409</td>\n",
       "      <td>0.529917</td>\n",
       "      <td>0.158808</td>\n",
       "      <td>0.311275</td>\n",
       "    </tr>\n",
       "    <tr>\n",
       "      <th>R041</th>\n",
       "      <td>BOWLING GREEN &amp; BATTERY PL</td>\n",
       "      <td>45</td>\n",
       "      <td>40.704782</td>\n",
       "      <td>-74.014099</td>\n",
       "      <td>10004</td>\n",
       "      <td>1313498</td>\n",
       "      <td>375262</td>\n",
       "      <td>931003</td>\n",
       "      <td>123409</td>\n",
       "      <td>0.501380</td>\n",
       "      <td>0.143243</td>\n",
       "      <td>0.355377</td>\n",
       "    </tr>\n",
       "    <tr>\n",
       "      <th>R002</th>\n",
       "      <td>FULTON ST &amp; BROADWAY NASSAU</td>\n",
       "      <td>ACJZ2345</td>\n",
       "      <td>40.709938</td>\n",
       "      <td>-74.007983</td>\n",
       "      <td>10007</td>\n",
       "      <td>530327</td>\n",
       "      <td>119782</td>\n",
       "      <td>363916</td>\n",
       "      <td>250000</td>\n",
       "      <td>0.522992</td>\n",
       "      <td>0.118125</td>\n",
       "      <td>0.358883</td>\n",
       "    </tr>\n",
       "    <tr>\n",
       "      <th>R014</th>\n",
       "      <td>FULTON STREET</td>\n",
       "      <td>2345ACJZ</td>\n",
       "      <td>40.709938</td>\n",
       "      <td>-74.007983</td>\n",
       "      <td>10007</td>\n",
       "      <td>2668771</td>\n",
       "      <td>586067</td>\n",
       "      <td>1834044</td>\n",
       "      <td>250000</td>\n",
       "      <td>0.524432</td>\n",
       "      <td>0.115166</td>\n",
       "      <td>0.360402</td>\n",
       "    </tr>\n",
       "    <tr>\n",
       "      <th>R029</th>\n",
       "      <td>PARK PLACE</td>\n",
       "      <td>23ACE</td>\n",
       "      <td>40.712557</td>\n",
       "      <td>-74.009807</td>\n",
       "      <td>10007</td>\n",
       "      <td>4131443</td>\n",
       "      <td>745824</td>\n",
       "      <td>2325399</td>\n",
       "      <td>250000</td>\n",
       "      <td>0.573599</td>\n",
       "      <td>0.103548</td>\n",
       "      <td>0.322853</td>\n",
       "    </tr>\n",
       "    <tr>\n",
       "      <th>R030</th>\n",
       "      <td>CHAMBERS STREET</td>\n",
       "      <td>123</td>\n",
       "      <td>40.715436</td>\n",
       "      <td>-74.009335</td>\n",
       "      <td>10007</td>\n",
       "      <td>1470364</td>\n",
       "      <td>354868</td>\n",
       "      <td>1134800</td>\n",
       "      <td>250000</td>\n",
       "      <td>0.496739</td>\n",
       "      <td>0.119887</td>\n",
       "      <td>0.383374</td>\n",
       "    </tr>\n",
       "    <tr>\n",
       "      <th>R087</th>\n",
       "      <td>CITY HALL</td>\n",
       "      <td>R</td>\n",
       "      <td>40.713086</td>\n",
       "      <td>-74.007232</td>\n",
       "      <td>10007</td>\n",
       "      <td>675328</td>\n",
       "      <td>143463</td>\n",
       "      <td>520529</td>\n",
       "      <td>250000</td>\n",
       "      <td>0.504232</td>\n",
       "      <td>0.107116</td>\n",
       "      <td>0.388652</td>\n",
       "    </tr>\n",
       "    <tr>\n",
       "      <th>R003</th>\n",
       "      <td>CYPRESS HILLS</td>\n",
       "      <td>J</td>\n",
       "      <td>40.689945</td>\n",
       "      <td>-73.872564</td>\n",
       "      <td>11421</td>\n",
       "      <td>105527</td>\n",
       "      <td>46312</td>\n",
       "      <td>41443</td>\n",
       "      <td>61974</td>\n",
       "      <td>0.545974</td>\n",
       "      <td>0.239608</td>\n",
       "      <td>0.214417</td>\n",
       "    </tr>\n",
       "    <tr>\n",
       "      <th>R004</th>\n",
       "      <td>75TH STREET &amp; ELDERTS LANE</td>\n",
       "      <td>JZ</td>\n",
       "      <td>40.691320</td>\n",
       "      <td>-73.867135</td>\n",
       "      <td>11421</td>\n",
       "      <td>254372</td>\n",
       "      <td>92043</td>\n",
       "      <td>135913</td>\n",
       "      <td>61974</td>\n",
       "      <td>0.527384</td>\n",
       "      <td>0.190831</td>\n",
       "      <td>0.281785</td>\n",
       "    </tr>\n",
       "    <tr>\n",
       "      <th>R005</th>\n",
       "      <td>85TH STREET &amp; FOREST PKWAY</td>\n",
       "      <td>J</td>\n",
       "      <td>40.692304</td>\n",
       "      <td>-73.860151</td>\n",
       "      <td>11421</td>\n",
       "      <td>283449</td>\n",
       "      <td>92143</td>\n",
       "      <td>169389</td>\n",
       "      <td>61974</td>\n",
       "      <td>0.520108</td>\n",
       "      <td>0.169076</td>\n",
       "      <td>0.310816</td>\n",
       "    </tr>\n",
       "    <tr>\n",
       "      <th>R006</th>\n",
       "      <td>WOODHAVEN BOULEVARD</td>\n",
       "      <td>JZ</td>\n",
       "      <td>40.693866</td>\n",
       "      <td>-73.851568</td>\n",
       "      <td>11421</td>\n",
       "      <td>279852</td>\n",
       "      <td>129605</td>\n",
       "      <td>173674</td>\n",
       "      <td>61974</td>\n",
       "      <td>0.479913</td>\n",
       "      <td>0.222257</td>\n",
       "      <td>0.297830</td>\n",
       "    </tr>\n",
       "    <tr>\n",
       "      <th>R007</th>\n",
       "      <td>104TH STREET</td>\n",
       "      <td>JZ</td>\n",
       "      <td>40.695184</td>\n",
       "      <td>-73.844326</td>\n",
       "      <td>11418</td>\n",
       "      <td>199161</td>\n",
       "      <td>72828</td>\n",
       "      <td>107598</td>\n",
       "      <td>61472</td>\n",
       "      <td>0.524678</td>\n",
       "      <td>0.191861</td>\n",
       "      <td>0.283461</td>\n",
       "    </tr>\n",
       "    <tr>\n",
       "      <th>R008</th>\n",
       "      <td>111TH STREET</td>\n",
       "      <td>J</td>\n",
       "      <td>40.697405</td>\n",
       "      <td>-73.836354</td>\n",
       "      <td>11418</td>\n",
       "      <td>185206</td>\n",
       "      <td>64644</td>\n",
       "      <td>83350</td>\n",
       "      <td>61472</td>\n",
       "      <td>0.555840</td>\n",
       "      <td>0.194010</td>\n",
       "      <td>0.250150</td>\n",
       "    </tr>\n",
       "    <tr>\n",
       "      <th>R009</th>\n",
       "      <td>121ST STREET</td>\n",
       "      <td>JZ</td>\n",
       "      <td>40.700536</td>\n",
       "      <td>-73.828382</td>\n",
       "      <td>11418</td>\n",
       "      <td>157095</td>\n",
       "      <td>66272</td>\n",
       "      <td>82908</td>\n",
       "      <td>61472</td>\n",
       "      <td>0.512921</td>\n",
       "      <td>0.216381</td>\n",
       "      <td>0.270698</td>\n",
       "    </tr>\n",
       "    <tr>\n",
       "      <th>R010</th>\n",
       "      <td>42ND STREET &amp; 8TH AVENUE</td>\n",
       "      <td>ACENQRS1237</td>\n",
       "      <td>40.757303</td>\n",
       "      <td>-73.989787</td>\n",
       "      <td>10018</td>\n",
       "      <td>2100261</td>\n",
       "      <td>726551</td>\n",
       "      <td>1467117</td>\n",
       "      <td>100298</td>\n",
       "      <td>0.489123</td>\n",
       "      <td>0.169204</td>\n",
       "      <td>0.341672</td>\n",
       "    </tr>\n",
       "    <tr>\n",
       "      <th>R032</th>\n",
       "      <td>42ND STREET/TIMES SQUARE</td>\n",
       "      <td>1237ACENQRS</td>\n",
       "      <td>40.755905</td>\n",
       "      <td>-73.986504</td>\n",
       "      <td>10018</td>\n",
       "      <td>2353521</td>\n",
       "      <td>540012</td>\n",
       "      <td>2134415</td>\n",
       "      <td>100298</td>\n",
       "      <td>0.468088</td>\n",
       "      <td>0.107402</td>\n",
       "      <td>0.424510</td>\n",
       "    </tr>\n",
       "    <tr>\n",
       "      <th>R016</th>\n",
       "      <td>LEXINGTON AVENUE</td>\n",
       "      <td>EM6</td>\n",
       "      <td>40.757530</td>\n",
       "      <td>-73.969102</td>\n",
       "      <td>10022</td>\n",
       "      <td>594238</td>\n",
       "      <td>142758</td>\n",
       "      <td>445401</td>\n",
       "      <td>115604</td>\n",
       "      <td>0.502571</td>\n",
       "      <td>0.120736</td>\n",
       "      <td>0.376693</td>\n",
       "    </tr>\n",
       "    <tr>\n",
       "      <th>R050</th>\n",
       "      <td>59TH STREET &amp; LEXINGTON AVE</td>\n",
       "      <td>456NQR</td>\n",
       "      <td>40.762796</td>\n",
       "      <td>-73.967686</td>\n",
       "      <td>10022</td>\n",
       "      <td>1957129</td>\n",
       "      <td>539549</td>\n",
       "      <td>1682068</td>\n",
       "      <td>115604</td>\n",
       "      <td>0.468353</td>\n",
       "      <td>0.129117</td>\n",
       "      <td>0.402529</td>\n",
       "    </tr>\n",
       "    <tr>\n",
       "      <th>R079</th>\n",
       "      <td>FIFTH AVENUE &amp; 60TH STREET</td>\n",
       "      <td>NQR</td>\n",
       "      <td>40.764909</td>\n",
       "      <td>-73.973372</td>\n",
       "      <td>10022</td>\n",
       "      <td>1511482</td>\n",
       "      <td>403538</td>\n",
       "      <td>1080000</td>\n",
       "      <td>115604</td>\n",
       "      <td>0.504665</td>\n",
       "      <td>0.134736</td>\n",
       "      <td>0.360599</td>\n",
       "    </tr>\n",
       "    <tr>\n",
       "      <th>R018</th>\n",
       "      <td>ROOSEVELT AVE/JACKSON HTS</td>\n",
       "      <td>EFMR7</td>\n",
       "      <td>40.746655</td>\n",
       "      <td>-73.891361</td>\n",
       "      <td>11372</td>\n",
       "      <td>2826797</td>\n",
       "      <td>1324128</td>\n",
       "      <td>3680517</td>\n",
       "      <td>46402</td>\n",
       "      <td>0.360955</td>\n",
       "      <td>0.169078</td>\n",
       "      <td>0.469967</td>\n",
       "    </tr>\n",
       "    <tr>\n",
       "      <th>R096</th>\n",
       "      <td>82ND STREET-JACKSON HEIGHTS</td>\n",
       "      <td>7</td>\n",
       "      <td>40.747647</td>\n",
       "      <td>-73.883786</td>\n",
       "      <td>11372</td>\n",
       "      <td>1115260</td>\n",
       "      <td>571415</td>\n",
       "      <td>817446</td>\n",
       "      <td>46402</td>\n",
       "      <td>0.445370</td>\n",
       "      <td>0.228190</td>\n",
       "      <td>0.326440</td>\n",
       "    </tr>\n",
       "    <tr>\n",
       "      <th>R097</th>\n",
       "      <td>JUNCTION BLVD-ROOSEVELT AVE</td>\n",
       "      <td>7</td>\n",
       "      <td>40.749143</td>\n",
       "      <td>-73.869452</td>\n",
       "      <td>11372</td>\n",
       "      <td>1869360</td>\n",
       "      <td>935252</td>\n",
       "      <td>887075</td>\n",
       "      <td>46402</td>\n",
       "      <td>0.506370</td>\n",
       "      <td>0.253340</td>\n",
       "      <td>0.240290</td>\n",
       "    </tr>\n",
       "    <tr>\n",
       "      <th>R122</th>\n",
       "      <td>90TH STREET/ELMHURST AVENUE</td>\n",
       "      <td>7</td>\n",
       "      <td>40.748541</td>\n",
       "      <td>-73.876791</td>\n",
       "      <td>11372</td>\n",
       "      <td>1267898</td>\n",
       "      <td>649961</td>\n",
       "      <td>884152</td>\n",
       "      <td>46402</td>\n",
       "      <td>0.452496</td>\n",
       "      <td>0.231962</td>\n",
       "      <td>0.315542</td>\n",
       "    </tr>\n",
       "    <tr>\n",
       "      <th>R019</th>\n",
       "      <td>179TH STREET &amp; HILLSIDE AVE</td>\n",
       "      <td>F</td>\n",
       "      <td>40.712622</td>\n",
       "      <td>-73.783815</td>\n",
       "      <td>11432</td>\n",
       "      <td>987398</td>\n",
       "      <td>434440</td>\n",
       "      <td>1000861</td>\n",
       "      <td>49631</td>\n",
       "      <td>0.407561</td>\n",
       "      <td>0.179321</td>\n",
       "      <td>0.413118</td>\n",
       "    </tr>\n",
       "    <tr>\n",
       "      <th>R115</th>\n",
       "      <td>169TH STREET &amp; HILLSIDE AVE</td>\n",
       "      <td>F</td>\n",
       "      <td>40.710459</td>\n",
       "      <td>-73.793600</td>\n",
       "      <td>11432</td>\n",
       "      <td>557982</td>\n",
       "      <td>182990</td>\n",
       "      <td>483610</td>\n",
       "      <td>49631</td>\n",
       "      <td>0.455651</td>\n",
       "      <td>0.149431</td>\n",
       "      <td>0.394918</td>\n",
       "    </tr>\n",
       "    <tr>\n",
       "      <th>R024</th>\n",
       "      <td>SUTPHIN BOULEVARD</td>\n",
       "      <td>EJZ</td>\n",
       "      <td>40.700488</td>\n",
       "      <td>-73.807933</td>\n",
       "      <td>11435</td>\n",
       "      <td>1362888</td>\n",
       "      <td>606122</td>\n",
       "      <td>738088</td>\n",
       "      <td>52939</td>\n",
       "      <td>0.503450</td>\n",
       "      <td>0.223901</td>\n",
       "      <td>0.272649</td>\n",
       "    </tr>\n",
       "    <tr>\n",
       "      <th>R025</th>\n",
       "      <td>JAMAICA CENTER-PARSONS BLVD</td>\n",
       "      <td>EJZ</td>\n",
       "      <td>40.702131</td>\n",
       "      <td>-73.801110</td>\n",
       "      <td>11435</td>\n",
       "      <td>1846639</td>\n",
       "      <td>1145494</td>\n",
       "      <td>1284130</td>\n",
       "      <td>52939</td>\n",
       "      <td>0.431835</td>\n",
       "      <td>0.267873</td>\n",
       "      <td>0.300293</td>\n",
       "    </tr>\n",
       "    <tr>\n",
       "      <th>R114</th>\n",
       "      <td>PARSONS BLVD &amp; HILLSIDE AV</td>\n",
       "      <td>F</td>\n",
       "      <td>40.707564</td>\n",
       "      <td>-73.803326</td>\n",
       "      <td>11435</td>\n",
       "      <td>364472</td>\n",
       "      <td>156154</td>\n",
       "      <td>289065</td>\n",
       "      <td>52939</td>\n",
       "      <td>0.450137</td>\n",
       "      <td>0.192856</td>\n",
       "      <td>0.357007</td>\n",
       "    </tr>\n",
       "    <tr>\n",
       "      <th>R128</th>\n",
       "      <td>SUTPHIN BLVD-HILLSIDE AVE</td>\n",
       "      <td>F</td>\n",
       "      <td>40.705416</td>\n",
       "      <td>-73.810562</td>\n",
       "      <td>11435</td>\n",
       "      <td>355115</td>\n",
       "      <td>126996</td>\n",
       "      <td>252953</td>\n",
       "      <td>52939</td>\n",
       "      <td>0.483108</td>\n",
       "      <td>0.172769</td>\n",
       "      <td>0.344124</td>\n",
       "    </tr>\n",
       "    <tr>\n",
       "      <th>R342</th>\n",
       "      <td>VAN WYCK BLVD-METROPOLITAN</td>\n",
       "      <td>E</td>\n",
       "      <td>40.702566</td>\n",
       "      <td>-73.816859</td>\n",
       "      <td>11435</td>\n",
       "      <td>403549</td>\n",
       "      <td>122740</td>\n",
       "      <td>185725</td>\n",
       "      <td>52939</td>\n",
       "      <td>0.566771</td>\n",
       "      <td>0.172384</td>\n",
       "      <td>0.260845</td>\n",
       "    </tr>\n",
       "    <tr>\n",
       "      <th>...</th>\n",
       "      <td>...</td>\n",
       "      <td>...</td>\n",
       "      <td>...</td>\n",
       "      <td>...</td>\n",
       "      <td>...</td>\n",
       "      <td>...</td>\n",
       "      <td>...</td>\n",
       "      <td>...</td>\n",
       "      <td>...</td>\n",
       "      <td>...</td>\n",
       "      <td>...</td>\n",
       "      <td>...</td>\n",
       "    </tr>\n",
       "    <tr>\n",
       "      <th>R418</th>\n",
       "      <td>SEASIDE BEACH-105TH STREET</td>\n",
       "      <td>AS</td>\n",
       "      <td>40.583542</td>\n",
       "      <td>-73.826430</td>\n",
       "      <td>11692</td>\n",
       "      <td>21607</td>\n",
       "      <td>3299</td>\n",
       "      <td>8282</td>\n",
       "      <td>40298</td>\n",
       "      <td>0.651049</td>\n",
       "      <td>0.099403</td>\n",
       "      <td>0.249548</td>\n",
       "    </tr>\n",
       "    <tr>\n",
       "      <th>R354</th>\n",
       "      <td>104TH STREET-LIBERTY AVENUE</td>\n",
       "      <td>A</td>\n",
       "      <td>40.681745</td>\n",
       "      <td>-73.837631</td>\n",
       "      <td>11416</td>\n",
       "      <td>157959</td>\n",
       "      <td>31493</td>\n",
       "      <td>68806</td>\n",
       "      <td>58621</td>\n",
       "      <td>0.611633</td>\n",
       "      <td>0.121944</td>\n",
       "      <td>0.266423</td>\n",
       "    </tr>\n",
       "    <tr>\n",
       "      <th>R383</th>\n",
       "      <td>HUDSON STREET-78TH STREET</td>\n",
       "      <td>A</td>\n",
       "      <td>40.679369</td>\n",
       "      <td>-73.858960</td>\n",
       "      <td>11416</td>\n",
       "      <td>342803</td>\n",
       "      <td>81378</td>\n",
       "      <td>206656</td>\n",
       "      <td>58621</td>\n",
       "      <td>0.543410</td>\n",
       "      <td>0.129000</td>\n",
       "      <td>0.327590</td>\n",
       "    </tr>\n",
       "    <tr>\n",
       "      <th>R384</th>\n",
       "      <td>BOYD STREET-88TH STREET</td>\n",
       "      <td>A</td>\n",
       "      <td>40.679857</td>\n",
       "      <td>-73.851492</td>\n",
       "      <td>11416</td>\n",
       "      <td>237453</td>\n",
       "      <td>47803</td>\n",
       "      <td>119362</td>\n",
       "      <td>58621</td>\n",
       "      <td>0.586857</td>\n",
       "      <td>0.118144</td>\n",
       "      <td>0.294999</td>\n",
       "    </tr>\n",
       "    <tr>\n",
       "      <th>R385</th>\n",
       "      <td>ROCKAWAY BLVD-LIBERTY AVE</td>\n",
       "      <td>A</td>\n",
       "      <td>40.680429</td>\n",
       "      <td>-73.843853</td>\n",
       "      <td>11416</td>\n",
       "      <td>462034</td>\n",
       "      <td>194816</td>\n",
       "      <td>318603</td>\n",
       "      <td>58621</td>\n",
       "      <td>0.473661</td>\n",
       "      <td>0.199718</td>\n",
       "      <td>0.326621</td>\n",
       "    </tr>\n",
       "    <tr>\n",
       "      <th>R355</th>\n",
       "      <td>109TH STREET-LIBERTY AVENUE</td>\n",
       "      <td>A</td>\n",
       "      <td>40.684364</td>\n",
       "      <td>-73.832181</td>\n",
       "      <td>11419</td>\n",
       "      <td>220577</td>\n",
       "      <td>44977</td>\n",
       "      <td>105205</td>\n",
       "      <td>55557</td>\n",
       "      <td>0.594934</td>\n",
       "      <td>0.121311</td>\n",
       "      <td>0.283756</td>\n",
       "    </tr>\n",
       "    <tr>\n",
       "      <th>R356</th>\n",
       "      <td>LEFFERTS BLVD-LIBERTY AVE</td>\n",
       "      <td>A</td>\n",
       "      <td>40.685975</td>\n",
       "      <td>-73.824713</td>\n",
       "      <td>11419</td>\n",
       "      <td>554470</td>\n",
       "      <td>178271</td>\n",
       "      <td>290158</td>\n",
       "      <td>55557</td>\n",
       "      <td>0.542057</td>\n",
       "      <td>0.174280</td>\n",
       "      <td>0.283662</td>\n",
       "    </tr>\n",
       "    <tr>\n",
       "      <th>R357</th>\n",
       "      <td>NORTH CONDUIT AVE-COHANCEY</td>\n",
       "      <td>A</td>\n",
       "      <td>40.668234</td>\n",
       "      <td>-73.834058</td>\n",
       "      <td>11417</td>\n",
       "      <td>83048</td>\n",
       "      <td>13538</td>\n",
       "      <td>21934</td>\n",
       "      <td>61617</td>\n",
       "      <td>0.700709</td>\n",
       "      <td>0.114225</td>\n",
       "      <td>0.185066</td>\n",
       "    </tr>\n",
       "    <tr>\n",
       "      <th>R361</th>\n",
       "      <td>PELHAM PKWY-WHITE PLAINS RD</td>\n",
       "      <td>25</td>\n",
       "      <td>40.857188</td>\n",
       "      <td>-73.867607</td>\n",
       "      <td>10458</td>\n",
       "      <td>530280</td>\n",
       "      <td>293747</td>\n",
       "      <td>334950</td>\n",
       "      <td>24829</td>\n",
       "      <td>0.457541</td>\n",
       "      <td>0.253454</td>\n",
       "      <td>0.289005</td>\n",
       "    </tr>\n",
       "    <tr>\n",
       "      <th>R365</th>\n",
       "      <td>219TH ST-WHITE PLAINS ROAD</td>\n",
       "      <td>25</td>\n",
       "      <td>40.883767</td>\n",
       "      <td>-73.862736</td>\n",
       "      <td>10466</td>\n",
       "      <td>259164</td>\n",
       "      <td>117326</td>\n",
       "      <td>95932</td>\n",
       "      <td>42587</td>\n",
       "      <td>0.548586</td>\n",
       "      <td>0.248350</td>\n",
       "      <td>0.203064</td>\n",
       "    </tr>\n",
       "    <tr>\n",
       "      <th>R366</th>\n",
       "      <td>225TH ST-WHITE PLAINS ROAD</td>\n",
       "      <td>25</td>\n",
       "      <td>40.887887</td>\n",
       "      <td>-73.860505</td>\n",
       "      <td>10466</td>\n",
       "      <td>325020</td>\n",
       "      <td>150247</td>\n",
       "      <td>109142</td>\n",
       "      <td>42587</td>\n",
       "      <td>0.556152</td>\n",
       "      <td>0.257092</td>\n",
       "      <td>0.186756</td>\n",
       "    </tr>\n",
       "    <tr>\n",
       "      <th>R367</th>\n",
       "      <td>233RD ST-WHITE PLAINS ROAD</td>\n",
       "      <td>25</td>\n",
       "      <td>40.893386</td>\n",
       "      <td>-73.857265</td>\n",
       "      <td>10466</td>\n",
       "      <td>377040</td>\n",
       "      <td>183200</td>\n",
       "      <td>155534</td>\n",
       "      <td>42587</td>\n",
       "      <td>0.526758</td>\n",
       "      <td>0.255947</td>\n",
       "      <td>0.217295</td>\n",
       "    </tr>\n",
       "    <tr>\n",
       "      <th>R431</th>\n",
       "      <td>DYRE AVENUE-LIGHT STREET</td>\n",
       "      <td>5</td>\n",
       "      <td>40.888244</td>\n",
       "      <td>-73.830850</td>\n",
       "      <td>10466</td>\n",
       "      <td>304554</td>\n",
       "      <td>130252</td>\n",
       "      <td>125901</td>\n",
       "      <td>42587</td>\n",
       "      <td>0.543161</td>\n",
       "      <td>0.232300</td>\n",
       "      <td>0.224540</td>\n",
       "    </tr>\n",
       "    <tr>\n",
       "      <th>R371</th>\n",
       "      <td>79TH STREET-17TH AVENUE</td>\n",
       "      <td>D</td>\n",
       "      <td>40.613513</td>\n",
       "      <td>-74.000645</td>\n",
       "      <td>11214</td>\n",
       "      <td>344912</td>\n",
       "      <td>58439</td>\n",
       "      <td>415336</td>\n",
       "      <td>45838</td>\n",
       "      <td>0.421299</td>\n",
       "      <td>0.071381</td>\n",
       "      <td>0.507320</td>\n",
       "    </tr>\n",
       "    <tr>\n",
       "      <th>R372</th>\n",
       "      <td>18TH AVENUE-86TH STREET</td>\n",
       "      <td>D</td>\n",
       "      <td>40.607958</td>\n",
       "      <td>-74.001782</td>\n",
       "      <td>11214</td>\n",
       "      <td>353408</td>\n",
       "      <td>82818</td>\n",
       "      <td>414865</td>\n",
       "      <td>45838</td>\n",
       "      <td>0.415241</td>\n",
       "      <td>0.097308</td>\n",
       "      <td>0.487451</td>\n",
       "    </tr>\n",
       "    <tr>\n",
       "      <th>R373</th>\n",
       "      <td>20TH AVENUE-86TH STREET</td>\n",
       "      <td>D</td>\n",
       "      <td>40.604798</td>\n",
       "      <td>-73.998456</td>\n",
       "      <td>11214</td>\n",
       "      <td>322436</td>\n",
       "      <td>65196</td>\n",
       "      <td>321876</td>\n",
       "      <td>45838</td>\n",
       "      <td>0.454450</td>\n",
       "      <td>0.091889</td>\n",
       "      <td>0.453661</td>\n",
       "    </tr>\n",
       "    <tr>\n",
       "      <th>R374</th>\n",
       "      <td>BAY PARKWAY-86TH STREET</td>\n",
       "      <td>D</td>\n",
       "      <td>40.601898</td>\n",
       "      <td>-73.993821</td>\n",
       "      <td>11214</td>\n",
       "      <td>398784</td>\n",
       "      <td>93707</td>\n",
       "      <td>498366</td>\n",
       "      <td>45838</td>\n",
       "      <td>0.402464</td>\n",
       "      <td>0.094572</td>\n",
       "      <td>0.502965</td>\n",
       "    </tr>\n",
       "    <tr>\n",
       "      <th>R379</th>\n",
       "      <td>KOSCIUSKO STREET-BROADWAY</td>\n",
       "      <td>J</td>\n",
       "      <td>40.693329</td>\n",
       "      <td>-73.928826</td>\n",
       "      <td>11221</td>\n",
       "      <td>310283</td>\n",
       "      <td>156656</td>\n",
       "      <td>184554</td>\n",
       "      <td>39785</td>\n",
       "      <td>0.476265</td>\n",
       "      <td>0.240457</td>\n",
       "      <td>0.283279</td>\n",
       "    </tr>\n",
       "    <tr>\n",
       "      <th>R380</th>\n",
       "      <td>GATES AVENUE-BROADWAY</td>\n",
       "      <td>JZ</td>\n",
       "      <td>40.689652</td>\n",
       "      <td>-73.922281</td>\n",
       "      <td>11221</td>\n",
       "      <td>408455</td>\n",
       "      <td>197208</td>\n",
       "      <td>207076</td>\n",
       "      <td>39785</td>\n",
       "      <td>0.502566</td>\n",
       "      <td>0.242646</td>\n",
       "      <td>0.254788</td>\n",
       "    </tr>\n",
       "    <tr>\n",
       "      <th>R401</th>\n",
       "      <td>CENTRAL AVE-MYRTLE AVE</td>\n",
       "      <td>M</td>\n",
       "      <td>40.697673</td>\n",
       "      <td>-73.927131</td>\n",
       "      <td>11221</td>\n",
       "      <td>177040</td>\n",
       "      <td>70298</td>\n",
       "      <td>114791</td>\n",
       "      <td>39785</td>\n",
       "      <td>0.488887</td>\n",
       "      <td>0.194124</td>\n",
       "      <td>0.316989</td>\n",
       "    </tr>\n",
       "    <tr>\n",
       "      <th>R386</th>\n",
       "      <td>174TH STREET-SOUTHERN BLVD</td>\n",
       "      <td>25</td>\n",
       "      <td>40.837382</td>\n",
       "      <td>-73.887659</td>\n",
       "      <td>10460</td>\n",
       "      <td>433830</td>\n",
       "      <td>284970</td>\n",
       "      <td>214971</td>\n",
       "      <td>23289</td>\n",
       "      <td>0.464600</td>\n",
       "      <td>0.305182</td>\n",
       "      <td>0.230218</td>\n",
       "    </tr>\n",
       "    <tr>\n",
       "      <th>R387</th>\n",
       "      <td>EAST TREMONT AVENUE-178 ST</td>\n",
       "      <td>25</td>\n",
       "      <td>40.840097</td>\n",
       "      <td>-73.879774</td>\n",
       "      <td>10460</td>\n",
       "      <td>468712</td>\n",
       "      <td>313658</td>\n",
       "      <td>241264</td>\n",
       "      <td>23289</td>\n",
       "      <td>0.457890</td>\n",
       "      <td>0.306416</td>\n",
       "      <td>0.235694</td>\n",
       "    </tr>\n",
       "    <tr>\n",
       "      <th>R388</th>\n",
       "      <td>EAST 180TH ST-MORRIS PARK</td>\n",
       "      <td>25</td>\n",
       "      <td>40.841882</td>\n",
       "      <td>-73.873551</td>\n",
       "      <td>10460</td>\n",
       "      <td>360262</td>\n",
       "      <td>207145</td>\n",
       "      <td>205747</td>\n",
       "      <td>23289</td>\n",
       "      <td>0.465964</td>\n",
       "      <td>0.267922</td>\n",
       "      <td>0.266114</td>\n",
       "    </tr>\n",
       "    <tr>\n",
       "      <th>R389</th>\n",
       "      <td>BRONX PARK EAST</td>\n",
       "      <td>25</td>\n",
       "      <td>40.848797</td>\n",
       "      <td>-73.868465</td>\n",
       "      <td>10460</td>\n",
       "      <td>186212</td>\n",
       "      <td>92033</td>\n",
       "      <td>105280</td>\n",
       "      <td>23289</td>\n",
       "      <td>0.485528</td>\n",
       "      <td>0.239966</td>\n",
       "      <td>0.274506</td>\n",
       "    </tr>\n",
       "    <tr>\n",
       "      <th>R414</th>\n",
       "      <td>HOWARD BEACH-159TH AVE</td>\n",
       "      <td>A</td>\n",
       "      <td>40.660476</td>\n",
       "      <td>-73.830301</td>\n",
       "      <td>11414</td>\n",
       "      <td>155338</td>\n",
       "      <td>67950</td>\n",
       "      <td>99322</td>\n",
       "      <td>69088</td>\n",
       "      <td>0.481504</td>\n",
       "      <td>0.210626</td>\n",
       "      <td>0.307870</td>\n",
       "    </tr>\n",
       "    <tr>\n",
       "      <th>R415</th>\n",
       "      <td>BROAD CHANNEL-NOEL ROAD</td>\n",
       "      <td>AS</td>\n",
       "      <td>40.608693</td>\n",
       "      <td>-73.816068</td>\n",
       "      <td>11693</td>\n",
       "      <td>33763</td>\n",
       "      <td>3149</td>\n",
       "      <td>8218</td>\n",
       "      <td>51116</td>\n",
       "      <td>0.748128</td>\n",
       "      <td>0.069776</td>\n",
       "      <td>0.182096</td>\n",
       "    </tr>\n",
       "    <tr>\n",
       "      <th>R419</th>\n",
       "      <td>ROCKAWAY PARK-BEACH 116TH</td>\n",
       "      <td>AS</td>\n",
       "      <td>40.580454</td>\n",
       "      <td>-73.837459</td>\n",
       "      <td>11694</td>\n",
       "      <td>91473</td>\n",
       "      <td>20890</td>\n",
       "      <td>34859</td>\n",
       "      <td>75615</td>\n",
       "      <td>0.621327</td>\n",
       "      <td>0.141895</td>\n",
       "      <td>0.236778</td>\n",
       "    </tr>\n",
       "    <tr>\n",
       "      <th>R430</th>\n",
       "      <td>PELHAM PKWY-ESPLANADE</td>\n",
       "      <td>5</td>\n",
       "      <td>40.858973</td>\n",
       "      <td>-73.855355</td>\n",
       "      <td>10469</td>\n",
       "      <td>213333</td>\n",
       "      <td>54777</td>\n",
       "      <td>100723</td>\n",
       "      <td>57680</td>\n",
       "      <td>0.578400</td>\n",
       "      <td>0.148514</td>\n",
       "      <td>0.273086</td>\n",
       "    </tr>\n",
       "    <tr>\n",
       "      <th>R446</th>\n",
       "      <td>BROOK AVENUE-138TH STREET</td>\n",
       "      <td>6</td>\n",
       "      <td>40.808044</td>\n",
       "      <td>-73.919234</td>\n",
       "      <td>10454</td>\n",
       "      <td>448432</td>\n",
       "      <td>268460</td>\n",
       "      <td>187439</td>\n",
       "      <td>19536</td>\n",
       "      <td>0.495872</td>\n",
       "      <td>0.296860</td>\n",
       "      <td>0.207268</td>\n",
       "    </tr>\n",
       "    <tr>\n",
       "      <th>R447</th>\n",
       "      <td>CYPRESS AVENUE-138TH STREET</td>\n",
       "      <td>6</td>\n",
       "      <td>40.805737</td>\n",
       "      <td>-73.914471</td>\n",
       "      <td>10454</td>\n",
       "      <td>286501</td>\n",
       "      <td>163386</td>\n",
       "      <td>107523</td>\n",
       "      <td>19536</td>\n",
       "      <td>0.513986</td>\n",
       "      <td>0.293116</td>\n",
       "      <td>0.192898</td>\n",
       "    </tr>\n",
       "  </tbody>\n",
       "</table>\n",
       "<p>405 rows × 12 columns</p>\n",
       "</div>"
      ],
      "text/plain": [
       "                              STATION        LINES   LATITUDE  LONGITUDE  \\\n",
       "index                                                                      \n",
       "R001   WHITEHALL STREET                         R1  40.703082 -74.012983   \n",
       "R041   BOWLING GREEN & BATTERY PL               45  40.704782 -74.014099   \n",
       "R002   FULTON ST & BROADWAY NASSAU        ACJZ2345  40.709938 -74.007983   \n",
       "R014   FULTON STREET                      2345ACJZ  40.709938 -74.007983   \n",
       "R029   PARK PLACE                            23ACE  40.712557 -74.009807   \n",
       "R030   CHAMBERS STREET                         123  40.715436 -74.009335   \n",
       "R087   CITY HALL                                 R  40.713086 -74.007232   \n",
       "R003   CYPRESS HILLS                             J  40.689945 -73.872564   \n",
       "R004   75TH STREET & ELDERTS LANE               JZ  40.691320 -73.867135   \n",
       "R005   85TH STREET & FOREST PKWAY                J  40.692304 -73.860151   \n",
       "R006   WOODHAVEN BOULEVARD                      JZ  40.693866 -73.851568   \n",
       "R007   104TH STREET                             JZ  40.695184 -73.844326   \n",
       "R008   111TH STREET                              J  40.697405 -73.836354   \n",
       "R009   121ST STREET                             JZ  40.700536 -73.828382   \n",
       "R010   42ND STREET & 8TH AVENUE        ACENQRS1237  40.757303 -73.989787   \n",
       "R032   42ND STREET/TIMES SQUARE        1237ACENQRS  40.755905 -73.986504   \n",
       "R016   LEXINGTON AVENUE                        EM6  40.757530 -73.969102   \n",
       "R050   59TH STREET & LEXINGTON AVE          456NQR  40.762796 -73.967686   \n",
       "R079   FIFTH AVENUE & 60TH STREET              NQR  40.764909 -73.973372   \n",
       "R018   ROOSEVELT AVE/JACKSON HTS             EFMR7  40.746655 -73.891361   \n",
       "R096   82ND STREET-JACKSON HEIGHTS               7  40.747647 -73.883786   \n",
       "R097   JUNCTION BLVD-ROOSEVELT AVE               7  40.749143 -73.869452   \n",
       "R122   90TH STREET/ELMHURST AVENUE               7  40.748541 -73.876791   \n",
       "R019   179TH STREET & HILLSIDE AVE               F  40.712622 -73.783815   \n",
       "R115   169TH STREET & HILLSIDE AVE               F  40.710459 -73.793600   \n",
       "R024   SUTPHIN BOULEVARD                       EJZ  40.700488 -73.807933   \n",
       "R025   JAMAICA CENTER-PARSONS BLVD             EJZ  40.702131 -73.801110   \n",
       "R114   PARSONS BLVD & HILLSIDE AV                F  40.707564 -73.803326   \n",
       "R128   SUTPHIN BLVD-HILLSIDE AVE                 F  40.705416 -73.810562   \n",
       "R342   VAN WYCK BLVD-METROPOLITAN                E  40.702566 -73.816859   \n",
       "...                               ...          ...        ...        ...   \n",
       "R418   SEASIDE BEACH-105TH STREET               AS  40.583542 -73.826430   \n",
       "R354   104TH STREET-LIBERTY AVENUE               A  40.681745 -73.837631   \n",
       "R383   HUDSON STREET-78TH STREET                 A  40.679369 -73.858960   \n",
       "R384   BOYD STREET-88TH STREET                   A  40.679857 -73.851492   \n",
       "R385   ROCKAWAY BLVD-LIBERTY AVE                 A  40.680429 -73.843853   \n",
       "R355   109TH STREET-LIBERTY AVENUE               A  40.684364 -73.832181   \n",
       "R356   LEFFERTS BLVD-LIBERTY AVE                 A  40.685975 -73.824713   \n",
       "R357   NORTH CONDUIT AVE-COHANCEY                A  40.668234 -73.834058   \n",
       "R361   PELHAM PKWY-WHITE PLAINS RD              25  40.857188 -73.867607   \n",
       "R365   219TH ST-WHITE PLAINS ROAD               25  40.883767 -73.862736   \n",
       "R366   225TH ST-WHITE PLAINS ROAD               25  40.887887 -73.860505   \n",
       "R367   233RD ST-WHITE PLAINS ROAD               25  40.893386 -73.857265   \n",
       "R431   DYRE AVENUE-LIGHT STREET                  5  40.888244 -73.830850   \n",
       "R371   79TH STREET-17TH AVENUE                   D  40.613513 -74.000645   \n",
       "R372   18TH AVENUE-86TH STREET                   D  40.607958 -74.001782   \n",
       "R373   20TH AVENUE-86TH STREET                   D  40.604798 -73.998456   \n",
       "R374   BAY PARKWAY-86TH STREET                   D  40.601898 -73.993821   \n",
       "R379   KOSCIUSKO STREET-BROADWAY                 J  40.693329 -73.928826   \n",
       "R380   GATES AVENUE-BROADWAY                    JZ  40.689652 -73.922281   \n",
       "R401   CENTRAL AVE-MYRTLE AVE                    M  40.697673 -73.927131   \n",
       "R386   174TH STREET-SOUTHERN BLVD               25  40.837382 -73.887659   \n",
       "R387   EAST TREMONT AVENUE-178 ST               25  40.840097 -73.879774   \n",
       "R388   EAST 180TH ST-MORRIS PARK                25  40.841882 -73.873551   \n",
       "R389   BRONX PARK EAST                          25  40.848797 -73.868465   \n",
       "R414   HOWARD BEACH-159TH AVE                    A  40.660476 -73.830301   \n",
       "R415   BROAD CHANNEL-NOEL ROAD                  AS  40.608693 -73.816068   \n",
       "R419   ROCKAWAY PARK-BEACH 116TH                AS  40.580454 -73.837459   \n",
       "R430   PELHAM PKWY-ESPLANADE                     5  40.858973 -73.855355   \n",
       "R446   BROOK AVENUE-138TH STREET                 6  40.808044 -73.919234   \n",
       "R447   CYPRESS AVENUE-138TH STREET               6  40.805737 -73.914471   \n",
       "\n",
       "       ZIP_CODE       FF   7D_UNL  30D_UNL  INCOME    FF_PCT  7D_UNL_PCT  \\\n",
       "index                                                                      \n",
       "R001      10004  1930648   578586  1134069  123409  0.529917    0.158808   \n",
       "R041      10004  1313498   375262   931003  123409  0.501380    0.143243   \n",
       "R002      10007   530327   119782   363916  250000  0.522992    0.118125   \n",
       "R014      10007  2668771   586067  1834044  250000  0.524432    0.115166   \n",
       "R029      10007  4131443   745824  2325399  250000  0.573599    0.103548   \n",
       "R030      10007  1470364   354868  1134800  250000  0.496739    0.119887   \n",
       "R087      10007   675328   143463   520529  250000  0.504232    0.107116   \n",
       "R003      11421   105527    46312    41443   61974  0.545974    0.239608   \n",
       "R004      11421   254372    92043   135913   61974  0.527384    0.190831   \n",
       "R005      11421   283449    92143   169389   61974  0.520108    0.169076   \n",
       "R006      11421   279852   129605   173674   61974  0.479913    0.222257   \n",
       "R007      11418   199161    72828   107598   61472  0.524678    0.191861   \n",
       "R008      11418   185206    64644    83350   61472  0.555840    0.194010   \n",
       "R009      11418   157095    66272    82908   61472  0.512921    0.216381   \n",
       "R010      10018  2100261   726551  1467117  100298  0.489123    0.169204   \n",
       "R032      10018  2353521   540012  2134415  100298  0.468088    0.107402   \n",
       "R016      10022   594238   142758   445401  115604  0.502571    0.120736   \n",
       "R050      10022  1957129   539549  1682068  115604  0.468353    0.129117   \n",
       "R079      10022  1511482   403538  1080000  115604  0.504665    0.134736   \n",
       "R018      11372  2826797  1324128  3680517   46402  0.360955    0.169078   \n",
       "R096      11372  1115260   571415   817446   46402  0.445370    0.228190   \n",
       "R097      11372  1869360   935252   887075   46402  0.506370    0.253340   \n",
       "R122      11372  1267898   649961   884152   46402  0.452496    0.231962   \n",
       "R019      11432   987398   434440  1000861   49631  0.407561    0.179321   \n",
       "R115      11432   557982   182990   483610   49631  0.455651    0.149431   \n",
       "R024      11435  1362888   606122   738088   52939  0.503450    0.223901   \n",
       "R025      11435  1846639  1145494  1284130   52939  0.431835    0.267873   \n",
       "R114      11435   364472   156154   289065   52939  0.450137    0.192856   \n",
       "R128      11435   355115   126996   252953   52939  0.483108    0.172769   \n",
       "R342      11435   403549   122740   185725   52939  0.566771    0.172384   \n",
       "...         ...      ...      ...      ...     ...       ...         ...   \n",
       "R418      11692    21607     3299     8282   40298  0.651049    0.099403   \n",
       "R354      11416   157959    31493    68806   58621  0.611633    0.121944   \n",
       "R383      11416   342803    81378   206656   58621  0.543410    0.129000   \n",
       "R384      11416   237453    47803   119362   58621  0.586857    0.118144   \n",
       "R385      11416   462034   194816   318603   58621  0.473661    0.199718   \n",
       "R355      11419   220577    44977   105205   55557  0.594934    0.121311   \n",
       "R356      11419   554470   178271   290158   55557  0.542057    0.174280   \n",
       "R357      11417    83048    13538    21934   61617  0.700709    0.114225   \n",
       "R361      10458   530280   293747   334950   24829  0.457541    0.253454   \n",
       "R365      10466   259164   117326    95932   42587  0.548586    0.248350   \n",
       "R366      10466   325020   150247   109142   42587  0.556152    0.257092   \n",
       "R367      10466   377040   183200   155534   42587  0.526758    0.255947   \n",
       "R431      10466   304554   130252   125901   42587  0.543161    0.232300   \n",
       "R371      11214   344912    58439   415336   45838  0.421299    0.071381   \n",
       "R372      11214   353408    82818   414865   45838  0.415241    0.097308   \n",
       "R373      11214   322436    65196   321876   45838  0.454450    0.091889   \n",
       "R374      11214   398784    93707   498366   45838  0.402464    0.094572   \n",
       "R379      11221   310283   156656   184554   39785  0.476265    0.240457   \n",
       "R380      11221   408455   197208   207076   39785  0.502566    0.242646   \n",
       "R401      11221   177040    70298   114791   39785  0.488887    0.194124   \n",
       "R386      10460   433830   284970   214971   23289  0.464600    0.305182   \n",
       "R387      10460   468712   313658   241264   23289  0.457890    0.306416   \n",
       "R388      10460   360262   207145   205747   23289  0.465964    0.267922   \n",
       "R389      10460   186212    92033   105280   23289  0.485528    0.239966   \n",
       "R414      11414   155338    67950    99322   69088  0.481504    0.210626   \n",
       "R415      11693    33763     3149     8218   51116  0.748128    0.069776   \n",
       "R419      11694    91473    20890    34859   75615  0.621327    0.141895   \n",
       "R430      10469   213333    54777   100723   57680  0.578400    0.148514   \n",
       "R446      10454   448432   268460   187439   19536  0.495872    0.296860   \n",
       "R447      10454   286501   163386   107523   19536  0.513986    0.293116   \n",
       "\n",
       "       30D_UNL_PCT  \n",
       "index               \n",
       "R001      0.311275  \n",
       "R041      0.355377  \n",
       "R002      0.358883  \n",
       "R014      0.360402  \n",
       "R029      0.322853  \n",
       "R030      0.383374  \n",
       "R087      0.388652  \n",
       "R003      0.214417  \n",
       "R004      0.281785  \n",
       "R005      0.310816  \n",
       "R006      0.297830  \n",
       "R007      0.283461  \n",
       "R008      0.250150  \n",
       "R009      0.270698  \n",
       "R010      0.341672  \n",
       "R032      0.424510  \n",
       "R016      0.376693  \n",
       "R050      0.402529  \n",
       "R079      0.360599  \n",
       "R018      0.469967  \n",
       "R096      0.326440  \n",
       "R097      0.240290  \n",
       "R122      0.315542  \n",
       "R019      0.413118  \n",
       "R115      0.394918  \n",
       "R024      0.272649  \n",
       "R025      0.300293  \n",
       "R114      0.357007  \n",
       "R128      0.344124  \n",
       "R342      0.260845  \n",
       "...            ...  \n",
       "R418      0.249548  \n",
       "R354      0.266423  \n",
       "R383      0.327590  \n",
       "R384      0.294999  \n",
       "R385      0.326621  \n",
       "R355      0.283756  \n",
       "R356      0.283662  \n",
       "R357      0.185066  \n",
       "R361      0.289005  \n",
       "R365      0.203064  \n",
       "R366      0.186756  \n",
       "R367      0.217295  \n",
       "R431      0.224540  \n",
       "R371      0.507320  \n",
       "R372      0.487451  \n",
       "R373      0.453661  \n",
       "R374      0.502965  \n",
       "R379      0.283279  \n",
       "R380      0.254788  \n",
       "R401      0.316989  \n",
       "R386      0.230218  \n",
       "R387      0.235694  \n",
       "R388      0.266114  \n",
       "R389      0.274506  \n",
       "R414      0.307870  \n",
       "R415      0.182096  \n",
       "R419      0.236778  \n",
       "R430      0.273086  \n",
       "R446      0.207268  \n",
       "R447      0.192898  \n",
       "\n",
       "[405 rows x 12 columns]"
      ]
     },
     "execution_count": 59,
     "metadata": {},
     "output_type": "execute_result"
    }
   ],
   "source": [
    "df_dictionary['pricehike1']"
   ]
  },
  {
   "cell_type": "markdown",
   "metadata": {},
   "source": [
    "# Histograms\n",
    "## Full Fare MetroCards\n",
    "Default bins of 10 too small. There are also extremes values to the right."
   ]
  },
  {
   "cell_type": "code",
   "execution_count": 60,
   "metadata": {
    "collapsed": false,
    "scrolled": false
   },
   "outputs": [
    {
     "data": {
      "text/plain": [
       "<matplotlib.axes._subplots.AxesSubplot at 0x11a007c18>"
      ]
     },
     "execution_count": 60,
     "metadata": {},
     "output_type": "execute_result"
    },
    {
     "data": {
      "image/png": "[encoded data removed]",
      "text/plain": [
       "<matplotlib.figure.Figure at 0x119e74be0>"
      ]
     },
     "metadata": {},
     "output_type": "display_data"
    }
   ],
   "source": [
    "df_dictionary['pricehike1']['FF'].hist(bins=10, figsize=(20,10))"
   ]
  },
  {
   "cell_type": "markdown",
   "metadata": {},
   "source": [
    "Too many bins (50) now. But looks better."
   ]
  },
  {
   "cell_type": "code",
   "execution_count": 61,
   "metadata": {
    "collapsed": false
   },
   "outputs": [
    {
     "data": {
      "text/plain": [
       "array([[<matplotlib.axes._subplots.AxesSubplot object at 0x119ffc3c8>]], dtype=object)"
      ]
     },
     "execution_count": 61,
     "metadata": {},
     "output_type": "execute_result"
    },
    {
     "data": {
      "image/png": "[encoded data removed]",
      "text/plain": [
       "<matplotlib.figure.Figure at 0x11a910128>"
      ]
     },
     "metadata": {},
     "output_type": "display_data"
    }
   ],
   "source": [
    "mask = df_dictionary['pricehike1']['FF'] < 3000000\n",
    "df_dictionary['pricehike1'][mask].hist('FF', bins=50, figsize=(20,10))"
   ]
  },
  {
   "cell_type": "markdown",
   "metadata": {},
   "source": [
    "20 bins seems pretty good."
   ]
  },
  {
   "cell_type": "code",
   "execution_count": 62,
   "metadata": {
    "collapsed": false
   },
   "outputs": [
    {
     "data": {
      "text/plain": [
       "array([[<matplotlib.axes._subplots.AxesSubplot object at 0x11a0d8b00>]], dtype=object)"
      ]
     },
     "execution_count": 62,
     "metadata": {},
     "output_type": "execute_result"
    },
    {
     "data": {
      "image/png": "[encoded data removed]",
      "text/plain": [
       "<matplotlib.figure.Figure at 0x119eaa9e8>"
      ]
     },
     "metadata": {},
     "output_type": "display_data"
    }
   ],
   "source": [
    "df_dictionary['pricehike1'][mask].hist('FF', bins=20, figsize=(20,10))"
   ]
  },
  {
   "cell_type": "markdown",
   "metadata": {},
   "source": [
    "### Which stations have the highest number of Full Fare swipes?"
   ]
  },
  {
   "cell_type": "code",
   "execution_count": 63,
   "metadata": {
    "collapsed": false
   },
   "outputs": [
    {
     "data": {
      "text/html": [
       "<div>\n",
       "<table border=\"1\" class=\"dataframe\">\n",
       "  <thead>\n",
       "    <tr style=\"text-align: right;\">\n",
       "      <th></th>\n",
       "      <th>STATION</th>\n",
       "      <th>LINES</th>\n",
       "      <th>LATITUDE</th>\n",
       "      <th>LONGITUDE</th>\n",
       "      <th>ZIP_CODE</th>\n",
       "      <th>FF</th>\n",
       "      <th>7D_UNL</th>\n",
       "      <th>30D_UNL</th>\n",
       "      <th>INCOME</th>\n",
       "      <th>FF_PCT</th>\n",
       "      <th>7D_UNL_PCT</th>\n",
       "      <th>30D_UNL_PCT</th>\n",
       "    </tr>\n",
       "    <tr>\n",
       "      <th>index</th>\n",
       "      <th></th>\n",
       "      <th></th>\n",
       "      <th></th>\n",
       "      <th></th>\n",
       "      <th></th>\n",
       "      <th></th>\n",
       "      <th></th>\n",
       "      <th></th>\n",
       "      <th></th>\n",
       "      <th></th>\n",
       "      <th></th>\n",
       "      <th></th>\n",
       "    </tr>\n",
       "  </thead>\n",
       "  <tbody>\n",
       "    <tr>\n",
       "      <th>R029</th>\n",
       "      <td>PARK PLACE</td>\n",
       "      <td>23ACE</td>\n",
       "      <td>40.712557</td>\n",
       "      <td>-74.009807</td>\n",
       "      <td>10007</td>\n",
       "      <td>4131443</td>\n",
       "      <td>745824</td>\n",
       "      <td>2325399</td>\n",
       "      <td>250000</td>\n",
       "      <td>0.573599</td>\n",
       "      <td>0.103548</td>\n",
       "      <td>0.322853</td>\n",
       "    </tr>\n",
       "    <tr>\n",
       "      <th>R084</th>\n",
       "      <td>59TH STREET/COLUMBUS CIRCLE</td>\n",
       "      <td>1ABCD</td>\n",
       "      <td>40.768110</td>\n",
       "      <td>-73.981891</td>\n",
       "      <td>10019</td>\n",
       "      <td>4998541</td>\n",
       "      <td>1452087</td>\n",
       "      <td>3878056</td>\n",
       "      <td>90174</td>\n",
       "      <td>0.483948</td>\n",
       "      <td>0.140588</td>\n",
       "      <td>0.375465</td>\n",
       "    </tr>\n",
       "    <tr>\n",
       "      <th>R170</th>\n",
       "      <td>14TH STREET-UNION SQUARE</td>\n",
       "      <td>LNQR456</td>\n",
       "      <td>40.734836</td>\n",
       "      <td>-73.990688</td>\n",
       "      <td>10003</td>\n",
       "      <td>7702585</td>\n",
       "      <td>2328958</td>\n",
       "      <td>7496487</td>\n",
       "      <td>97524</td>\n",
       "      <td>0.439444</td>\n",
       "      <td>0.132870</td>\n",
       "      <td>0.427686</td>\n",
       "    </tr>\n",
       "    <tr>\n",
       "      <th>R179</th>\n",
       "      <td>86TH STREET-LEXINGTON AVE</td>\n",
       "      <td>456</td>\n",
       "      <td>40.779485</td>\n",
       "      <td>-73.955541</td>\n",
       "      <td>10028</td>\n",
       "      <td>4247268</td>\n",
       "      <td>1194895</td>\n",
       "      <td>4065231</td>\n",
       "      <td>115485</td>\n",
       "      <td>0.446733</td>\n",
       "      <td>0.125681</td>\n",
       "      <td>0.427586</td>\n",
       "    </tr>\n",
       "  </tbody>\n",
       "</table>\n",
       "</div>"
      ],
      "text/plain": [
       "                              STATION    LINES   LATITUDE  LONGITUDE  \\\n",
       "index                                                                  \n",
       "R029   PARK PLACE                        23ACE  40.712557 -74.009807   \n",
       "R084   59TH STREET/COLUMBUS CIRCLE       1ABCD  40.768110 -73.981891   \n",
       "R170   14TH STREET-UNION SQUARE        LNQR456  40.734836 -73.990688   \n",
       "R179   86TH STREET-LEXINGTON AVE           456  40.779485 -73.955541   \n",
       "\n",
       "       ZIP_CODE       FF   7D_UNL  30D_UNL  INCOME    FF_PCT  7D_UNL_PCT  \\\n",
       "index                                                                      \n",
       "R029      10007  4131443   745824  2325399  250000  0.573599    0.103548   \n",
       "R084      10019  4998541  1452087  3878056   90174  0.483948    0.140588   \n",
       "R170      10003  7702585  2328958  7496487   97524  0.439444    0.132870   \n",
       "R179      10028  4247268  1194895  4065231  115485  0.446733    0.125681   \n",
       "\n",
       "       30D_UNL_PCT  \n",
       "index               \n",
       "R029      0.322853  \n",
       "R084      0.375465  \n",
       "R170      0.427686  \n",
       "R179      0.427586  "
      ]
     },
     "execution_count": 63,
     "metadata": {},
     "output_type": "execute_result"
    }
   ],
   "source": [
    "df_dictionary['pricehike1'].loc[~mask]"
   ]
  },
  {
   "cell_type": "markdown",
   "metadata": {},
   "source": [
    "### Same as above with 7-D Unlimited"
   ]
  },
  {
   "cell_type": "code",
   "execution_count": 64,
   "metadata": {
    "collapsed": false
   },
   "outputs": [
    {
     "ename": "KeyError",
     "evalue": "'7-D UNL'",
     "output_type": "error",
     "traceback": [
      "\u001b[0;31m---------------------------------------------------------------------------\u001b[0m",
      "\u001b[0;31mKeyError\u001b[0m                                  Traceback (most recent call last)",
      "\u001b[0;32m//anaconda/lib/python3.5/site-packages/pandas/indexes/base.py\u001b[0m in \u001b[0;36mget_loc\u001b[0;34m(self, key, method, tolerance)\u001b[0m\n\u001b[1;32m   1944\u001b[0m             \u001b[0;32mtry\u001b[0m\u001b[0;34m:\u001b[0m\u001b[0;34m\u001b[0m\u001b[0m\n\u001b[0;32m-> 1945\u001b[0;31m                 \u001b[0;32mreturn\u001b[0m \u001b[0mself\u001b[0m\u001b[0;34m.\u001b[0m\u001b[0m_engine\u001b[0m\u001b[0;34m.\u001b[0m\u001b[0mget_loc\u001b[0m\u001b[0;34m(\u001b[0m\u001b[0mkey\u001b[0m\u001b[0;34m)\u001b[0m\u001b[0;34m\u001b[0m\u001b[0m\n\u001b[0m\u001b[1;32m   1946\u001b[0m             \u001b[0;32mexcept\u001b[0m \u001b[0mKeyError\u001b[0m\u001b[0;34m:\u001b[0m\u001b[0;34m\u001b[0m\u001b[0m\n",
      "\u001b[0;32mpandas/index.pyx\u001b[0m in \u001b[0;36mpandas.index.IndexEngine.get_loc (pandas/index.c:4154)\u001b[0;34m()\u001b[0m\n",
      "\u001b[0;32mpandas/index.pyx\u001b[0m in \u001b[0;36mpandas.index.IndexEngine.get_loc (pandas/index.c:4018)\u001b[0;34m()\u001b[0m\n",
      "\u001b[0;32mpandas/hashtable.pyx\u001b[0m in \u001b[0;36mpandas.hashtable.PyObjectHashTable.get_item (pandas/hashtable.c:12368)\u001b[0;34m()\u001b[0m\n",
      "\u001b[0;32mpandas/hashtable.pyx\u001b[0m in \u001b[0;36mpandas.hashtable.PyObjectHashTable.get_item (pandas/hashtable.c:12322)\u001b[0;34m()\u001b[0m\n",
      "\u001b[0;31mKeyError\u001b[0m: '7-D UNL'",
      "\nDuring handling of the above exception, another exception occurred:\n",
      "\u001b[0;31mKeyError\u001b[0m                                  Traceback (most recent call last)",
      "\u001b[0;32m<ipython-input-64-b5bd754ce13e>\u001b[0m in \u001b[0;36m<module>\u001b[0;34m()\u001b[0m\n\u001b[0;32m----> 1\u001b[0;31m \u001b[0mmask\u001b[0m \u001b[0;34m=\u001b[0m \u001b[0mdf_dictionary\u001b[0m\u001b[0;34m[\u001b[0m\u001b[0;34m'pricehike1'\u001b[0m\u001b[0;34m]\u001b[0m\u001b[0;34m[\u001b[0m\u001b[0;34m'7-D UNL'\u001b[0m\u001b[0;34m]\u001b[0m \u001b[0;34m<\u001b[0m \u001b[0;36m1500000\u001b[0m\u001b[0;34m\u001b[0m\u001b[0m\n\u001b[0m\u001b[1;32m      2\u001b[0m \u001b[0mdf_dictionary\u001b[0m\u001b[0;34m[\u001b[0m\u001b[0;34m'pricehike1'\u001b[0m\u001b[0;34m]\u001b[0m\u001b[0;34m[\u001b[0m\u001b[0mmask\u001b[0m\u001b[0;34m]\u001b[0m\u001b[0;34m.\u001b[0m\u001b[0mhist\u001b[0m\u001b[0;34m(\u001b[0m\u001b[0;34m'7-D UNL'\u001b[0m\u001b[0;34m,\u001b[0m \u001b[0mbins\u001b[0m\u001b[0;34m=\u001b[0m\u001b[0;36m20\u001b[0m\u001b[0;34m,\u001b[0m \u001b[0mfigsize\u001b[0m\u001b[0;34m=\u001b[0m\u001b[0;34m(\u001b[0m\u001b[0;36m20\u001b[0m\u001b[0;34m,\u001b[0m\u001b[0;36m10\u001b[0m\u001b[0;34m)\u001b[0m\u001b[0;34m)\u001b[0m\u001b[0;34m\u001b[0m\u001b[0m\n",
      "\u001b[0;32m//anaconda/lib/python3.5/site-packages/pandas/core/frame.py\u001b[0m in \u001b[0;36m__getitem__\u001b[0;34m(self, key)\u001b[0m\n\u001b[1;32m   1995\u001b[0m             \u001b[0;32mreturn\u001b[0m \u001b[0mself\u001b[0m\u001b[0;34m.\u001b[0m\u001b[0m_getitem_multilevel\u001b[0m\u001b[0;34m(\u001b[0m\u001b[0mkey\u001b[0m\u001b[0;34m)\u001b[0m\u001b[0;34m\u001b[0m\u001b[0m\n\u001b[1;32m   1996\u001b[0m         \u001b[0;32melse\u001b[0m\u001b[0;34m:\u001b[0m\u001b[0;34m\u001b[0m\u001b[0m\n\u001b[0;32m-> 1997\u001b[0;31m             \u001b[0;32mreturn\u001b[0m \u001b[0mself\u001b[0m\u001b[0;34m.\u001b[0m\u001b[0m_getitem_column\u001b[0m\u001b[0;34m(\u001b[0m\u001b[0mkey\u001b[0m\u001b[0;34m)\u001b[0m\u001b[0;34m\u001b[0m\u001b[0m\n\u001b[0m\u001b[1;32m   1998\u001b[0m \u001b[0;34m\u001b[0m\u001b[0m\n\u001b[1;32m   1999\u001b[0m     \u001b[0;32mdef\u001b[0m \u001b[0m_getitem_column\u001b[0m\u001b[0;34m(\u001b[0m\u001b[0mself\u001b[0m\u001b[0;34m,\u001b[0m \u001b[0mkey\u001b[0m\u001b[0;34m)\u001b[0m\u001b[0;34m:\u001b[0m\u001b[0;34m\u001b[0m\u001b[0m\n",
      "\u001b[0;32m//anaconda/lib/python3.5/site-packages/pandas/core/frame.py\u001b[0m in \u001b[0;36m_getitem_column\u001b[0;34m(self, key)\u001b[0m\n\u001b[1;32m   2002\u001b[0m         \u001b[0;31m# get column\u001b[0m\u001b[0;34m\u001b[0m\u001b[0;34m\u001b[0m\u001b[0m\n\u001b[1;32m   2003\u001b[0m         \u001b[0;32mif\u001b[0m \u001b[0mself\u001b[0m\u001b[0;34m.\u001b[0m\u001b[0mcolumns\u001b[0m\u001b[0;34m.\u001b[0m\u001b[0mis_unique\u001b[0m\u001b[0;34m:\u001b[0m\u001b[0;34m\u001b[0m\u001b[0m\n\u001b[0;32m-> 2004\u001b[0;31m             \u001b[0;32mreturn\u001b[0m \u001b[0mself\u001b[0m\u001b[0;34m.\u001b[0m\u001b[0m_get_item_cache\u001b[0m\u001b[0;34m(\u001b[0m\u001b[0mkey\u001b[0m\u001b[0;34m)\u001b[0m\u001b[0;34m\u001b[0m\u001b[0m\n\u001b[0m\u001b[1;32m   2005\u001b[0m \u001b[0;34m\u001b[0m\u001b[0m\n\u001b[1;32m   2006\u001b[0m         \u001b[0;31m# duplicate columns & possible reduce dimensionality\u001b[0m\u001b[0;34m\u001b[0m\u001b[0;34m\u001b[0m\u001b[0m\n",
      "\u001b[0;32m//anaconda/lib/python3.5/site-packages/pandas/core/generic.py\u001b[0m in \u001b[0;36m_get_item_cache\u001b[0;34m(self, item)\u001b[0m\n\u001b[1;32m   1348\u001b[0m         \u001b[0mres\u001b[0m \u001b[0;34m=\u001b[0m \u001b[0mcache\u001b[0m\u001b[0;34m.\u001b[0m\u001b[0mget\u001b[0m\u001b[0;34m(\u001b[0m\u001b[0mitem\u001b[0m\u001b[0;34m)\u001b[0m\u001b[0;34m\u001b[0m\u001b[0m\n\u001b[1;32m   1349\u001b[0m         \u001b[0;32mif\u001b[0m \u001b[0mres\u001b[0m \u001b[0;32mis\u001b[0m \u001b[0;32mNone\u001b[0m\u001b[0;34m:\u001b[0m\u001b[0;34m\u001b[0m\u001b[0m\n\u001b[0;32m-> 1350\u001b[0;31m             \u001b[0mvalues\u001b[0m \u001b[0;34m=\u001b[0m \u001b[0mself\u001b[0m\u001b[0;34m.\u001b[0m\u001b[0m_data\u001b[0m\u001b[0;34m.\u001b[0m\u001b[0mget\u001b[0m\u001b[0;34m(\u001b[0m\u001b[0mitem\u001b[0m\u001b[0;34m)\u001b[0m\u001b[0;34m\u001b[0m\u001b[0m\n\u001b[0m\u001b[1;32m   1351\u001b[0m             \u001b[0mres\u001b[0m \u001b[0;34m=\u001b[0m \u001b[0mself\u001b[0m\u001b[0;34m.\u001b[0m\u001b[0m_box_item_values\u001b[0m\u001b[0;34m(\u001b[0m\u001b[0mitem\u001b[0m\u001b[0;34m,\u001b[0m \u001b[0mvalues\u001b[0m\u001b[0;34m)\u001b[0m\u001b[0;34m\u001b[0m\u001b[0m\n\u001b[1;32m   1352\u001b[0m             \u001b[0mcache\u001b[0m\u001b[0;34m[\u001b[0m\u001b[0mitem\u001b[0m\u001b[0;34m]\u001b[0m \u001b[0;34m=\u001b[0m \u001b[0mres\u001b[0m\u001b[0;34m\u001b[0m\u001b[0m\n",
      "\u001b[0;32m//anaconda/lib/python3.5/site-packages/pandas/core/internals.py\u001b[0m in \u001b[0;36mget\u001b[0;34m(self, item, fastpath)\u001b[0m\n\u001b[1;32m   3288\u001b[0m \u001b[0;34m\u001b[0m\u001b[0m\n\u001b[1;32m   3289\u001b[0m             \u001b[0;32mif\u001b[0m \u001b[0;32mnot\u001b[0m \u001b[0misnull\u001b[0m\u001b[0;34m(\u001b[0m\u001b[0mitem\u001b[0m\u001b[0;34m)\u001b[0m\u001b[0;34m:\u001b[0m\u001b[0;34m\u001b[0m\u001b[0m\n\u001b[0;32m-> 3290\u001b[0;31m                 \u001b[0mloc\u001b[0m \u001b[0;34m=\u001b[0m \u001b[0mself\u001b[0m\u001b[0;34m.\u001b[0m\u001b[0mitems\u001b[0m\u001b[0;34m.\u001b[0m\u001b[0mget_loc\u001b[0m\u001b[0;34m(\u001b[0m\u001b[0mitem\u001b[0m\u001b[0;34m)\u001b[0m\u001b[0;34m\u001b[0m\u001b[0m\n\u001b[0m\u001b[1;32m   3291\u001b[0m             \u001b[0;32melse\u001b[0m\u001b[0;34m:\u001b[0m\u001b[0;34m\u001b[0m\u001b[0m\n\u001b[1;32m   3292\u001b[0m                 \u001b[0mindexer\u001b[0m \u001b[0;34m=\u001b[0m \u001b[0mnp\u001b[0m\u001b[0;34m.\u001b[0m\u001b[0marange\u001b[0m\u001b[0;34m(\u001b[0m\u001b[0mlen\u001b[0m\u001b[0;34m(\u001b[0m\u001b[0mself\u001b[0m\u001b[0;34m.\u001b[0m\u001b[0mitems\u001b[0m\u001b[0;34m)\u001b[0m\u001b[0;34m)\u001b[0m\u001b[0;34m[\u001b[0m\u001b[0misnull\u001b[0m\u001b[0;34m(\u001b[0m\u001b[0mself\u001b[0m\u001b[0;34m.\u001b[0m\u001b[0mitems\u001b[0m\u001b[0;34m)\u001b[0m\u001b[0;34m]\u001b[0m\u001b[0;34m\u001b[0m\u001b[0m\n",
      "\u001b[0;32m//anaconda/lib/python3.5/site-packages/pandas/indexes/base.py\u001b[0m in \u001b[0;36mget_loc\u001b[0;34m(self, key, method, tolerance)\u001b[0m\n\u001b[1;32m   1945\u001b[0m                 \u001b[0;32mreturn\u001b[0m \u001b[0mself\u001b[0m\u001b[0;34m.\u001b[0m\u001b[0m_engine\u001b[0m\u001b[0;34m.\u001b[0m\u001b[0mget_loc\u001b[0m\u001b[0;34m(\u001b[0m\u001b[0mkey\u001b[0m\u001b[0;34m)\u001b[0m\u001b[0;34m\u001b[0m\u001b[0m\n\u001b[1;32m   1946\u001b[0m             \u001b[0;32mexcept\u001b[0m \u001b[0mKeyError\u001b[0m\u001b[0;34m:\u001b[0m\u001b[0;34m\u001b[0m\u001b[0m\n\u001b[0;32m-> 1947\u001b[0;31m                 \u001b[0;32mreturn\u001b[0m \u001b[0mself\u001b[0m\u001b[0;34m.\u001b[0m\u001b[0m_engine\u001b[0m\u001b[0;34m.\u001b[0m\u001b[0mget_loc\u001b[0m\u001b[0;34m(\u001b[0m\u001b[0mself\u001b[0m\u001b[0;34m.\u001b[0m\u001b[0m_maybe_cast_indexer\u001b[0m\u001b[0;34m(\u001b[0m\u001b[0mkey\u001b[0m\u001b[0;34m)\u001b[0m\u001b[0;34m)\u001b[0m\u001b[0;34m\u001b[0m\u001b[0m\n\u001b[0m\u001b[1;32m   1948\u001b[0m \u001b[0;34m\u001b[0m\u001b[0m\n\u001b[1;32m   1949\u001b[0m         \u001b[0mindexer\u001b[0m \u001b[0;34m=\u001b[0m \u001b[0mself\u001b[0m\u001b[0;34m.\u001b[0m\u001b[0mget_indexer\u001b[0m\u001b[0;34m(\u001b[0m\u001b[0;34m[\u001b[0m\u001b[0mkey\u001b[0m\u001b[0;34m]\u001b[0m\u001b[0;34m,\u001b[0m \u001b[0mmethod\u001b[0m\u001b[0;34m=\u001b[0m\u001b[0mmethod\u001b[0m\u001b[0;34m,\u001b[0m \u001b[0mtolerance\u001b[0m\u001b[0;34m=\u001b[0m\u001b[0mtolerance\u001b[0m\u001b[0;34m)\u001b[0m\u001b[0;34m\u001b[0m\u001b[0m\n",
      "\u001b[0;32mpandas/index.pyx\u001b[0m in \u001b[0;36mpandas.index.IndexEngine.get_loc (pandas/index.c:4154)\u001b[0;34m()\u001b[0m\n",
      "\u001b[0;32mpandas/index.pyx\u001b[0m in \u001b[0;36mpandas.index.IndexEngine.get_loc (pandas/index.c:4018)\u001b[0;34m()\u001b[0m\n",
      "\u001b[0;32mpandas/hashtable.pyx\u001b[0m in \u001b[0;36mpandas.hashtable.PyObjectHashTable.get_item (pandas/hashtable.c:12368)\u001b[0;34m()\u001b[0m\n",
      "\u001b[0;32mpandas/hashtable.pyx\u001b[0m in \u001b[0;36mpandas.hashtable.PyObjectHashTable.get_item (pandas/hashtable.c:12322)\u001b[0;34m()\u001b[0m\n",
      "\u001b[0;31mKeyError\u001b[0m: '7-D UNL'"
     ]
    }
   ],
   "source": [
    "mask = df_dictionary['pricehike1']['7-D UNL'] < 1500000\n",
    "df_dictionary['pricehike1'][mask].hist('7-D UNL', bins=20, figsize=(20,10))"
   ]
  },
  {
   "cell_type": "code",
   "execution_count": null,
   "metadata": {
    "collapsed": false
   },
   "outputs": [],
   "source": [
    "df_dictionary['pricehike1'].loc[~mask]"
   ]
  },
  {
   "cell_type": "markdown",
   "metadata": {},
   "source": [
    "### Same as above with 7-D Unlimited"
   ]
  },
  {
   "cell_type": "code",
   "execution_count": null,
   "metadata": {
    "collapsed": false,
    "scrolled": false
   },
   "outputs": [],
   "source": [
    "mask = df_dictionary['pricehike1']['30-D UNL'] < 3000000\n",
    "df_dictionary['pricehike1'][mask].hist('30-D UNL', bins=20, figsize=(20,10))"
   ]
  },
  {
   "cell_type": "code",
   "execution_count": null,
   "metadata": {
    "collapsed": false
   },
   "outputs": [],
   "source": [
    "df_dictionary['pricehike1'].loc[~mask]"
   ]
  },
  {
   "cell_type": "markdown",
   "metadata": {},
   "source": [
    "Overall, big stations such as Union Square stand out and have the highest number of swipes for all three types of cards. However, these histograms don't give much information besides basic counts."
   ]
  },
  {
   "cell_type": "markdown",
   "metadata": {},
   "source": [
    "## % Swipe Histograms\n",
    "This time, take the % of swipes as opposed to just the count."
   ]
  },
  {
   "cell_type": "code",
   "execution_count": null,
   "metadata": {
    "collapsed": false
   },
   "outputs": [],
   "source": [
    "df_dictionary['pricehike1']['FF_PCT'].hist(bins=20, figsize=(20,10))"
   ]
  },
  {
   "cell_type": "code",
   "execution_count": null,
   "metadata": {
    "collapsed": false,
    "scrolled": false
   },
   "outputs": [],
   "source": [
    "df_dictionary['pricehike1']['7-D UNL_PCT'].hist(bins=10, figsize=(20,10))"
   ]
  },
  {
   "cell_type": "code",
   "execution_count": null,
   "metadata": {
    "collapsed": false
   },
   "outputs": [],
   "source": [
    "df_dictionary['pricehike1']['30-D UNL_PCT'].hist(bins=10, figsize=(20,10))"
   ]
  },
  {
   "cell_type": "markdown",
   "metadata": {},
   "source": [
    "These histograms are slightly more interesting - the Full Fare % histogram seems to have a normal distribution with a heavier right tail. However, the 7-D unlimited and 30-D unlimited cards don't seem to have any sort of pattern."
   ]
  },
  {
   "cell_type": "markdown",
   "metadata": {},
   "source": [
    "# CDFs\n",
    "Overall, the above graphs don't reveal that much information. It would be more useful to compare CDFs. In order to compare CDF graphs, it makes more sense to plot percentages of FF, 7-D and 30-D cards."
   ]
  },
  {
   "cell_type": "markdown",
   "metadata": {},
   "source": [
    "### % Full Fare swipes for each time period\n",
    "\n",
    "<br>pricehike1 - Before Dec 30, 2010 Price Hike\n",
    "<br>pricehike2 - Before Mar 3, 2013 Price Hike\n",
    "<br>pricehike3 - Before Mar 22, 2015 Price Hike\n",
    "<br>pricehike4 - Until today (or next price hike)"
   ]
  },
  {
   "cell_type": "code",
   "execution_count": null,
   "metadata": {
    "collapsed": false
   },
   "outputs": [],
   "source": [
    "for key, df in df_dictionary.items():\n",
    "    print('% Full Fare CDFs for', key)\n",
    "    bottom_quartile = df['INCOME'].quantile(.25)\n",
    "    upper_quartile = df['INCOME'].quantile(.75)\n",
    "    low_income_mask = df['INCOME'] <= bottom_quartile\n",
    "    middle_income_mask = (df['INCOME'] > bottom_quartile) & (df['INCOME'] <= upper_quartile)\n",
    "    high_income_mask = df['INCOME'] > upper_quartile\n",
    "    \n",
    "    low_income_cdf = thinkstats2.Cdf(df.loc[low_income_mask]['FF_PCT'], label='low')\n",
    "    middle_income_cdf = thinkstats2.Cdf(df.loc[middle_income_mask]['FF_PCT'], label='mid')\n",
    "    high_income_cdf = thinkstats2.Cdf(df.loc[high_income_mask]['FF_PCT'], label='high')\n",
    "    \n",
    "    thinkplot.PrePlot(3)\n",
    "    thinkplot.Cdfs([low_income_cdf, middle_income_cdf, high_income_cdf])\n",
    "    thinkplot.Show(xlabel='%FF', ylabel='CDF')"
   ]
  },
  {
   "cell_type": "markdown",
   "metadata": {},
   "source": [
    "### % 7-Day Unlimited swipes for each time period\n",
    "\n",
    "<br>pricehike1 - Before Dec 30, 2010 Price Hike\n",
    "<br>pricehike2 - Before Mar 3, 2013 Price Hike\n",
    "<br>pricehike3 - Before Mar 22, 2015 Price Hike\n",
    "<br>pricehike4 - Until today (or next price hike)"
   ]
  },
  {
   "cell_type": "code",
   "execution_count": null,
   "metadata": {
    "collapsed": false
   },
   "outputs": [],
   "source": [
    "for key, df in df_dictionary.items():\n",
    "    print('% 7-D Unlimited CDFs for', key)\n",
    "    bottom_quartile = df['INCOME'].quantile(.25)\n",
    "    upper_quartile = df['INCOME'].quantile(.75)\n",
    "    low_income_mask = df['INCOME'] <= bottom_quartile\n",
    "    middle_income_mask = (df['INCOME'] > bottom_quartile) & (df['INCOME'] <= upper_quartile)\n",
    "    high_income_mask = df['INCOME'] > upper_quartile\n",
    "    \n",
    "    low_income_cdf = thinkstats2.Cdf(df.loc[low_income_mask]['7-D UNL_PCT'], label='low')\n",
    "    middle_income_cdf = thinkstats2.Cdf(df.loc[middle_income_mask]['7-D UNL_PCT'], label='mid')\n",
    "    high_income_cdf = thinkstats2.Cdf(df.loc[high_income_mask]['7-D UNL_PCT'], label='high')\n",
    "    \n",
    "    thinkplot.PrePlot(3)\n",
    "    thinkplot.Cdfs([low_income_cdf, middle_income_cdf, high_income_cdf])\n",
    "    thinkplot.Show(xlabel='%7-D UNL', ylabel='CDF')"
   ]
  },
  {
   "cell_type": "markdown",
   "metadata": {},
   "source": [
    "### % 30-Day Unlimited swipes for each time period\n",
    "\n",
    "<br>pricehike1 - Before Dec 30, 2010 Price Hike\n",
    "<br>pricehike2 - Before Mar 3, 2013 Price Hike\n",
    "<br>pricehike3 - Before Mar 22, 2015 Price Hike\n",
    "<br>pricehike4 - Until today (or next price hike)"
   ]
  },
  {
   "cell_type": "code",
   "execution_count": null,
   "metadata": {
    "collapsed": false
   },
   "outputs": [],
   "source": [
    "for key, df in df_dictionary.items():\n",
    "    print('% 30-D Unlimited CDFs for', key)\n",
    "    bottom_quartile = df['INCOME'].quantile(.25)\n",
    "    upper_quartile = df['INCOME'].quantile(.75)\n",
    "    low_income_mask = df['INCOME'] <= bottom_quartile\n",
    "    middle_income_mask = (df['INCOME'] > bottom_quartile) & (df['INCOME'] <= upper_quartile)\n",
    "    high_income_mask = df['INCOME'] > upper_quartile\n",
    "    \n",
    "    low_income_cdf = thinkstats2.Cdf(df.loc[low_income_mask]['30-D UNL_PCT'], label='low')\n",
    "    middle_income_cdf = thinkstats2.Cdf(df.loc[middle_income_mask]['30-D UNL_PCT'], label='mid')\n",
    "    high_income_cdf = thinkstats2.Cdf(df.loc[high_income_mask]['30-D UNL_PCT'], label='high')\n",
    "    \n",
    "    thinkplot.PrePlot(3)\n",
    "    thinkplot.Cdfs([low_income_cdf, middle_income_cdf, high_income_cdf])\n",
    "    thinkplot.Show(xlabel='%30-D UNL', ylabel='CDF')"
   ]
  },
  {
   "cell_type": "markdown",
   "metadata": {},
   "source": [
    "### Analysis\n",
    "The most interesting CDFs are the 7-Day Unlimited and 30-Day Unlimited CDFs. For the 30-Day Unlimited CDF, the distinction between stations by income are apparent. For each time period, 'low-income' stations have far fewer % of 30-Day unlimited cards. As an estimate it seems that at 50% of 'low-income' stations, 30-Day Unlimited cards account for 20% or fewer of total swipes, while at 50% of 'high-income' stations, 30-Day Unlimited cards account for 35% or fewer of total swipes.\n",
    "\n",
    "On the other hand, it is fascinating to see the 7-Day Unlimited CDFs which show the exact opposite pattern. As an estimate, it seems that at 50% of 'low-income' stations, 7-Day Unlimited cards account for around 30% or less of total swipes while at 'high-income' stations, they account for 15% or less of total swipes."
   ]
  },
  {
   "cell_type": "markdown",
   "metadata": {},
   "source": [
    "# CDF Before and After Price Hikes\n",
    "Instead of dividing by income, this looks at a more broad view and tries to illustrate overall swipe patterns."
   ]
  },
  {
   "cell_type": "markdown",
   "metadata": {},
   "source": [
    "### % Full Fare swipes for each time period\n",
    "\n",
    "<br>pricehike1 - Before Dec 30, 2010 Price Hike\n",
    "<br>pricehike2 - Before Mar 3, 2013 Price Hike\n",
    "<br>pricehike3 - Before Mar 22, 2015 Price Hike\n",
    "<br>pricehike4 - Until today (or next price hike)"
   ]
  },
  {
   "cell_type": "code",
   "execution_count": null,
   "metadata": {
    "collapsed": true
   },
   "outputs": [],
   "source": [
    "price_hike1_cdf = thinkstats2.Cdf(df_dictionary['pricehike1']['FF_PCT'], label='hike1')\n",
    "price_hike2_cdf = thinkstats2.Cdf(df_dictionary['pricehike2']['FF_PCT'], label='hike2')\n",
    "price_hike3_cdf = thinkstats2.Cdf(df_dictionary['pricehike3']['FF_PCT'], label='hike3')\n",
    "price_hike4_cdf = thinkstats2.Cdf(df_dictionary['pricehike4']['FF_PCT'], label='hike4')"
   ]
  },
  {
   "cell_type": "code",
   "execution_count": null,
   "metadata": {
    "collapsed": false
   },
   "outputs": [],
   "source": [
    "thinkplot.PrePlot(4)\n",
    "thinkplot.Cdfs([price_hike1_cdf, price_hike2_cdf, price_hike3_cdf, price_hike4_cdf])\n",
    "thinkplot.Show(xlabel='%FF', ylabel='CDF')"
   ]
  },
  {
   "cell_type": "markdown",
   "metadata": {},
   "source": [
    "### % 7-Day Unlimited swipes for each time period\n",
    "\n",
    "<br>pricehike1 - Before Dec 30, 2010 Price Hike\n",
    "<br>pricehike2 - Before Mar 3, 2013 Price Hike\n",
    "<br>pricehike3 - Before Mar 22, 2015 Price Hike\n",
    "<br>pricehike4 - Until today (or next price hike)"
   ]
  },
  {
   "cell_type": "code",
   "execution_count": null,
   "metadata": {
    "collapsed": true
   },
   "outputs": [],
   "source": [
    "price_hike1_cdf = thinkstats2.Cdf(df_dictionary['pricehike1']['7-D UNL_PCT'], label='hike1')\n",
    "price_hike2_cdf = thinkstats2.Cdf(df_dictionary['pricehike2']['7-D UNL_PCT'], label='hike2')\n",
    "price_hike3_cdf = thinkstats2.Cdf(df_dictionary['pricehike3']['7-D UNL_PCT'], label='hike3')\n",
    "price_hike4_cdf = thinkstats2.Cdf(df_dictionary['pricehike4']['7-D UNL_PCT'], label='hike4')"
   ]
  },
  {
   "cell_type": "code",
   "execution_count": null,
   "metadata": {
    "collapsed": false
   },
   "outputs": [],
   "source": [
    "thinkplot.PrePlot(4)\n",
    "thinkplot.Cdfs([price_hike1_cdf, price_hike2_cdf, price_hike3_cdf, price_hike4_cdf])\n",
    "thinkplot.Show(xlabel='%7-D UNL', ylabel='CDF')"
   ]
  },
  {
   "cell_type": "markdown",
   "metadata": {},
   "source": [
    "### % 30-Day Unlimited swipes for each time period\n",
    "\n",
    "<br>pricehike1 - Before Dec 30, 2010 Price Hike\n",
    "<br>pricehike2 - Before Mar 3, 2013 Price Hike\n",
    "<br>pricehike3 - Before Mar 22, 2015 Price Hike\n",
    "<br>pricehike4 - Until today (or next price hike)"
   ]
  },
  {
   "cell_type": "code",
   "execution_count": null,
   "metadata": {
    "collapsed": true
   },
   "outputs": [],
   "source": [
    "price_hike1_cdf = thinkstats2.Cdf(df_dictionary['pricehike1']['30-D UNL_PCT'], label='hike1')\n",
    "price_hike2_cdf = thinkstats2.Cdf(df_dictionary['pricehike2']['30-D UNL_PCT'], label='hike2')\n",
    "price_hike3_cdf = thinkstats2.Cdf(df_dictionary['pricehike3']['30-D UNL_PCT'], label='hike3')\n",
    "price_hike4_cdf = thinkstats2.Cdf(df_dictionary['pricehike4']['30-D UNL_PCT'], label='hike4')"
   ]
  },
  {
   "cell_type": "code",
   "execution_count": null,
   "metadata": {
    "collapsed": false
   },
   "outputs": [],
   "source": [
    "thinkplot.PrePlot(4)\n",
    "thinkplot.Cdfs([price_hike1_cdf, price_hike2_cdf, price_hike3_cdf, price_hike4_cdf])\n",
    "thinkplot.Show(xlabel='%30-D UNL', ylabel='CDF')"
   ]
  },
  {
   "cell_type": "markdown",
   "metadata": {},
   "source": [
    "### Analysis\n",
    "Again, these CDFs tell an interesting story. Overall, people are using the Full Fare and 30-Day Unlimited cards less and the 7-Day Unlimited cards more. It is very apparent as the CDFs for each time period seem to have shifted towards a particular direction (right for more and left for less usage).\n"
   ]
  },
  {
   "cell_type": "markdown",
   "metadata": {},
   "source": [
    "## CDF by ZIP (Borough)\n",
    "Again but this time by borough. See http://nyc.pediacities.com/New_York_City_ZIP_Codes for more info."
   ]
  },
  {
   "cell_type": "code",
   "execution_count": null,
   "metadata": {
    "collapsed": false
   },
   "outputs": [],
   "source": [
    "for key, df in df_dictionary.items():\n",
    "    print('%FF CDFs by borough for', key)\n",
    "    manhattan_zip_mask = (df['ZIP_CODE'] >= 10001) & (df['ZIP_CODE'] <= 10282)\n",
    "    brooklyn_zip_mask = (df['ZIP_CODE'] >= 11201) & (df['ZIP_CODE'] <= 11251)\n",
    "    queens_zip_mask = (df['ZIP_CODE'] >= 11001) & (df['ZIP_CODE'] <= 11109) | (df['ZIP_CODE'] >= 11354) & (df['ZIP_CODE'] <= 11697)\n",
    "    bronx_zip_mask = (df['ZIP_CODE'] > 10451) & (df['ZIP_CODE'] <= 10475)\n",
    "    \n",
    "    manhattan_cdf = thinkstats2.Cdf(df.loc[manhattan_zip_mask]['FF_PCT'], label='manhattan')\n",
    "    brooklyn_cdf = thinkstats2.Cdf(df.loc[brooklyn_zip_mask]['FF_PCT'], label='brooklyn')\n",
    "    queens_cdf = thinkstats2.Cdf(df.loc[queens_zip_mask]['FF_PCT'], label='queens')\n",
    "    bronx_cdf = thinkstats2.Cdf(df.loc[bronx_zip_mask]['FF_PCT'], label='bronx')\n",
    "    \n",
    "    thinkplot.PrePlot(4)\n",
    "    thinkplot.Cdfs([manhattan_cdf, brooklyn_cdf, queens_cdf, bronx_cdf])\n",
    "    thinkplot.Show(xlabel='%FF', ylabel='CDF')"
   ]
  },
  {
   "cell_type": "code",
   "execution_count": null,
   "metadata": {
    "collapsed": false
   },
   "outputs": [],
   "source": [
    "for key, df in df_dictionary.items():\n",
    "    print('%7-D Unlimited CDFs by borough for', key)\n",
    "    manhattan_zip_mask = (df['ZIP_CODE'] >= 10001) & (df['ZIP_CODE'] <= 10282)\n",
    "    brooklyn_zip_mask = (df['ZIP_CODE'] >= 11201) & (df['ZIP_CODE'] <= 11251)\n",
    "    queens_zip_mask = (df['ZIP_CODE'] >= 11001) & (df['ZIP_CODE'] <= 11109) | (df['ZIP_CODE'] >= 11354) & (df['ZIP_CODE'] <= 11697)\n",
    "    bronx_zip_mask = (df['ZIP_CODE'] > 10451) & (df['ZIP_CODE'] <= 10475)\n",
    "    \n",
    "    manhattan_cdf = thinkstats2.Cdf(df.loc[manhattan_zip_mask]['7-D UNL_PCT'], label='manhattan')\n",
    "    brooklyn_cdf = thinkstats2.Cdf(df.loc[brooklyn_zip_mask]['7-D UNL_PCT'], label='brooklyn')\n",
    "    queens_cdf = thinkstats2.Cdf(df.loc[queens_zip_mask]['7-D UNL_PCT'], label='queens')\n",
    "    bronx_cdf = thinkstats2.Cdf(df.loc[bronx_zip_mask]['7-D UNL_PCT'], label='bronx')\n",
    "    \n",
    "    thinkplot.PrePlot(4)\n",
    "    thinkplot.Cdfs([manhattan_cdf, brooklyn_cdf, queens_cdf, bronx_cdf])\n",
    "    thinkplot.Show(xlabel='%7-D UNL', ylabel='CDF')"
   ]
  },
  {
   "cell_type": "code",
   "execution_count": null,
   "metadata": {
    "collapsed": false
   },
   "outputs": [],
   "source": [
    "for key, df in df_dictionary.items():\n",
    "    print('%30-D Unlimited CDFs by borough for', key)\n",
    "    manhattan_zip_mask = (df['ZIP_CODE'] >= 10001) & (df['ZIP_CODE'] <= 10282)\n",
    "    brooklyn_zip_mask = (df['ZIP_CODE'] >= 11201) & (df['ZIP_CODE'] <= 11251)\n",
    "    queens_zip_mask = (df['ZIP_CODE'] >= 11001) & (df['ZIP_CODE'] <= 11109) | (df['ZIP_CODE'] >= 11354) & (df['ZIP_CODE'] <= 11697)\n",
    "    bronx_zip_mask = (df['ZIP_CODE'] > 10451) & (df['ZIP_CODE'] <= 10475)\n",
    "    \n",
    "    manhattan_cdf = thinkstats2.Cdf(df.loc[manhattan_zip_mask]['30-D UNL_PCT'], label='manhattan')\n",
    "    brooklyn_cdf = thinkstats2.Cdf(df.loc[brooklyn_zip_mask]['30-D UNL_PCT'], label='brooklyn')\n",
    "    queens_cdf = thinkstats2.Cdf(df.loc[queens_zip_mask]['30-D UNL_PCT'], label='queens')\n",
    "    bronx_cdf = thinkstats2.Cdf(df.loc[bronx_zip_mask]['30-D UNL_PCT'], label='bronx')\n",
    "    \n",
    "    thinkplot.PrePlot(4)\n",
    "    thinkplot.Cdfs([manhattan_cdf, brooklyn_cdf, queens_cdf, bronx_cdf])\n",
    "    thinkplot.Show(xlabel='%30-D UNL', ylabel='CDF')"
   ]
  },
  {
   "cell_type": "markdown",
   "metadata": {},
   "source": [
    "### Analysis\n",
    "Yet again, it is the 7-Day Unlimited and 30-Day Unlimited card CDFs that tell us the most information when it is divided by boroughs. As before, the Full Fare CDFs are similar and the lines overlap each other at many points. Maybe if we looked more closely, we could deduce some information.\n",
    "\n",
    "However, what is obvious is the fact that people in the Bronx rely on the 7-Day Unlimited far more than the 30-Day Unlimited card. While the other 3 boroughs follow a similar line, the Bronx CDF is far left for the 30-Day and far right for the 7-Day."
   ]
  },
  {
   "cell_type": "markdown",
   "metadata": {},
   "source": [
    "# Models\n",
    "## Exponential Distribution?\n",
    "Complementary CDF of %30-D UNL at 'low-income' stations. Not exactly a straight line, especially towards the tail."
   ]
  },
  {
   "cell_type": "code",
   "execution_count": null,
   "metadata": {
    "collapsed": false
   },
   "outputs": [],
   "source": [
    "df = df_dictionary['pricehike4']\n",
    "bottom_quartile = df['INCOME'].quantile(.25)\n",
    "low_income_mask = df['INCOME'] <= bottom_quartile\n",
    "\n",
    "low_income_cdf = thinkstats2.Cdf(df.loc[low_income_mask]['30-D UNL_PCT'], label='low')\n",
    "\n",
    "thinkplot.Cdf(low_income_cdf, complement=True)\n",
    "thinkplot.Show(xlabel='%30-D UNL', ylabel='CCDF',yscale='log')"
   ]
  },
  {
   "cell_type": "markdown",
   "metadata": {},
   "source": [
    "## Pareto Distribution?\n",
    "Same data as before but different model. Definitely does not fit well."
   ]
  },
  {
   "cell_type": "code",
   "execution_count": null,
   "metadata": {
    "collapsed": false
   },
   "outputs": [],
   "source": [
    "thinkplot.Cdf(low_income_cdf, complement=True)\n",
    "thinkplot.Show(xlabel='%30-D UNL', ylabel='CCDF', xscale='log', yscale='log')"
   ]
  },
  {
   "cell_type": "markdown",
   "metadata": {},
   "source": [
    "## Normal Probability Plot\n",
    "Seems like the normal distribution is a good fit for %FF swipes at a station for the most part.\n",
    "Very straight line for +/- 2 std (95% of data)."
   ]
  },
  {
   "cell_type": "code",
   "execution_count": null,
   "metadata": {
    "collapsed": true
   },
   "outputs": [],
   "source": [
    "def MakeNormalPlot(series):\n",
    "    mean = series.mean()\n",
    "    std = series.std()\n",
    "    \n",
    "    xs = [-4, 4]\n",
    "    fxs, fys = thinkstats2.FitLine(xs, inter=mean, slope=std)\n",
    "    thinkplot.Plot(fxs, fys, color='gray', label='model')\n",
    "    \n",
    "    xs, ys= thinkstats2.NormalProbability(series)\n",
    "    thinkplot.Plot(xs, ys, label='%FF')"
   ]
  },
  {
   "cell_type": "code",
   "execution_count": null,
   "metadata": {
    "collapsed": false
   },
   "outputs": [],
   "source": [
    "MakeNormalPlot(df_dictionary['pricehike1']['FF_PCT'])"
   ]
  },
  {
   "cell_type": "code",
   "execution_count": null,
   "metadata": {
    "collapsed": false
   },
   "outputs": [],
   "source": [
    "MakeNormalPlot(df_dictionary['pricehike2']['FF_PCT'])"
   ]
  },
  {
   "cell_type": "code",
   "execution_count": null,
   "metadata": {
    "collapsed": false
   },
   "outputs": [],
   "source": [
    "MakeNormalPlot(df_dictionary['pricehike3']['FF_PCT'])"
   ]
  },
  {
   "cell_type": "code",
   "execution_count": null,
   "metadata": {
    "collapsed": false
   },
   "outputs": [],
   "source": [
    "MakeNormalPlot(df_dictionary['pricehike4']['FF_PCT'])"
   ]
  },
  {
   "cell_type": "markdown",
   "metadata": {
    "collapsed": true
   },
   "source": [
    "# Final Observations and Future Work\n",
    "In conclusion, it seems like there is a shift towards the use of the 7-Day Unlimited MetroCard and less use of the 30-Day Unlimited MetroCard as the MTA keeps increasing prices. Furthermore, there is a definitive distinction when dividing the data by income levels.\n",
    "\n",
    "Obviously, the assumptions I have made have to be taken into account. Moreover, if I were to explore further, I would look at the government issued cards (like student MetroCards and other forms of welfare cards).\n",
    "\n",
    "Lastly, I would like to be able to visualize the data better. Ideally, it would be in the form of a map where you can filter information you're looking for and it would show a dynamically generated heatmap."
   ]
  }
 ],
 "metadata": {
  "anaconda-cloud": {},
  "kernelspec": {
   "display_name": "Python [Root]",
   "language": "python",
   "name": "Python [Root]"
  },
  "language_info": {
   "codemirror_mode": {
    "name": "ipython",
    "version": 3
   },
   "file_extension": ".py",
   "mimetype": "text/x-python",
   "name": "python",
   "nbconvert_exporter": "python",
   "pygments_lexer": "ipython3",
   "version": "3.5.2"
  }
 },
 "nbformat": 4,
 "nbformat_minor": 0
}
